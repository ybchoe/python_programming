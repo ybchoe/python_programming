{
  "cells": [
    {
      "cell_type": "markdown",
      "metadata": {
        "id": "view-in-github",
        "colab_type": "text"
      },
      "source": [
        "<a href=\"https://colab.research.google.com/github/ybchoe/python_programming/blob/main/hw8/python_class_20230506.ipynb\" target=\"_parent\"><img src=\"https://colab.research.google.com/assets/colab-badge.svg\" alt=\"Open In Colab\"/></a>"
      ]
    },
    {
      "cell_type": "code",
      "execution_count": null,
      "id": "c347d616",
      "metadata": {
        "id": "c347d616",
        "outputId": "c6e26c42-4f7b-4005-df42-95935f8ae36b"
      },
      "outputs": [
        {
          "name": "stdout",
          "output_type": "stream",
          "text": [
            "3\n",
            "7\n"
          ]
        }
      ],
      "source": [
        "result = 0\n",
        "\n",
        "def add(num):\n",
        "    global result\n",
        "    result += num\n",
        "    return result\n",
        "\n",
        "print(add(3))\n",
        "print(add(4))"
      ]
    },
    {
      "cell_type": "code",
      "execution_count": null,
      "id": "53e14f40",
      "metadata": {
        "id": "53e14f40",
        "outputId": "714229f8-d7ba-4797-879f-1c9ae018e4bd"
      },
      "outputs": [
        {
          "data": {
            "text/plain": [
              "10"
            ]
          },
          "execution_count": 11,
          "metadata": {},
          "output_type": "execute_result"
        }
      ],
      "source": [
        "add(3)"
      ]
    },
    {
      "cell_type": "code",
      "execution_count": null,
      "id": "06094edc",
      "metadata": {
        "id": "06094edc",
        "outputId": "0e967d2a-8c45-4671-c70f-c6c606cc5c57"
      },
      "outputs": [
        {
          "data": {
            "text/plain": [
              "30"
            ]
          },
          "execution_count": 15,
          "metadata": {},
          "output_type": "execute_result"
        }
      ],
      "source": [
        "add(5)"
      ]
    },
    {
      "cell_type": "code",
      "execution_count": null,
      "id": "1916687a",
      "metadata": {
        "id": "1916687a",
        "outputId": "13e371d1-b1ef-4502-ff83-54ee4c8c14de"
      },
      "outputs": [
        {
          "name": "stdout",
          "output_type": "stream",
          "text": [
            "3\n",
            "7\n",
            "3\n",
            "10\n"
          ]
        }
      ],
      "source": [
        "result1 = 0\n",
        "result2 = 0\n",
        "\n",
        "def add1(num):\n",
        "    global result1\n",
        "    result1 += num\n",
        "    return result1\n",
        "\n",
        "def add2(num):\n",
        "    global result2\n",
        "    result2 += num\n",
        "    return result2\n",
        "\n",
        "print(add1(3))\n",
        "print(add1(4))\n",
        "print(add2(3))\n",
        "print(add2(7))"
      ]
    },
    {
      "cell_type": "code",
      "execution_count": null,
      "id": "fc2fafe1",
      "metadata": {
        "id": "fc2fafe1",
        "outputId": "e316f911-cbe8-4332-b56d-faae775dd331"
      },
      "outputs": [
        {
          "data": {
            "text/plain": [
              "9"
            ]
          },
          "execution_count": 9,
          "metadata": {},
          "output_type": "execute_result"
        }
      ],
      "source": [
        "add1(2)"
      ]
    },
    {
      "cell_type": "code",
      "execution_count": null,
      "id": "7170b969",
      "metadata": {
        "id": "7170b969",
        "outputId": "fe27768c-d1f9-4453-8318-3a6694b501c8"
      },
      "outputs": [
        {
          "name": "stdout",
          "output_type": "stream",
          "text": [
            "3\n",
            "7\n",
            "3\n",
            "10\n"
          ]
        }
      ],
      "source": [
        "class Calculator:  #클래스 변수\n",
        "    def __init__(self):\n",
        "        self.result = 0  #객체를 생성시키는 변수\n",
        "\n",
        "    def add(self, num):\n",
        "        self.result += num\n",
        "        return self.result\n",
        "\n",
        "cal1 = Calculator()\n",
        "cal2 = Calculator()\n",
        "\n",
        "print(cal1.add(3))\n",
        "print(cal1.add(4))\n",
        "print(cal2.add(3))\n",
        "print(cal2.add(7))"
      ]
    },
    {
      "cell_type": "code",
      "execution_count": null,
      "id": "c5c24fb3",
      "metadata": {
        "id": "c5c24fb3",
        "outputId": "52a0b38f-4cb3-4c4f-b808-6f4c746624fa"
      },
      "outputs": [
        {
          "data": {
            "text/plain": [
              "10"
            ]
          },
          "execution_count": 18,
          "metadata": {},
          "output_type": "execute_result"
        }
      ],
      "source": [
        "cal1.add(3)"
      ]
    },
    {
      "cell_type": "code",
      "execution_count": null,
      "id": "383080b9",
      "metadata": {
        "id": "383080b9"
      },
      "outputs": [],
      "source": [
        "class Service:\n",
        "    secret = \"지구는 4006년에 멸망한다.\"\n"
      ]
    },
    {
      "cell_type": "code",
      "execution_count": null,
      "id": "8d1d4f91",
      "metadata": {
        "id": "8d1d4f91",
        "outputId": "7f92667c-9603-4c7c-c52b-0ac12fdbdd63"
      },
      "outputs": [
        {
          "data": {
            "text/plain": [
              "'지구는 4006년에 멸망한다.'"
            ]
          },
          "execution_count": 3,
          "metadata": {},
          "output_type": "execute_result"
        }
      ],
      "source": [
        "Service.secret"
      ]
    },
    {
      "cell_type": "code",
      "execution_count": null,
      "id": "55bcaeff",
      "metadata": {
        "id": "55bcaeff"
      },
      "outputs": [],
      "source": [
        "s = Service()"
      ]
    },
    {
      "cell_type": "code",
      "execution_count": null,
      "id": "f02842ec",
      "metadata": {
        "id": "f02842ec",
        "outputId": "df760d32-1acb-4603-fef8-4557719cc62b"
      },
      "outputs": [
        {
          "data": {
            "text/plain": [
              "'지구는 4006년에 멸망한다.'"
            ]
          },
          "execution_count": 5,
          "metadata": {},
          "output_type": "execute_result"
        }
      ],
      "source": [
        "s.secret"
      ]
    },
    {
      "cell_type": "code",
      "execution_count": null,
      "id": "d365b59a",
      "metadata": {
        "id": "d365b59a"
      },
      "outputs": [],
      "source": [
        "Service.secret='뻥이다.'"
      ]
    },
    {
      "cell_type": "code",
      "execution_count": null,
      "id": "b8d9941e",
      "metadata": {
        "id": "b8d9941e",
        "outputId": "ac43cbc4-ada6-41a6-f22b-c1c8cac2b19e"
      },
      "outputs": [
        {
          "data": {
            "text/plain": [
              "'뻥이다.'"
            ]
          },
          "execution_count": 7,
          "metadata": {},
          "output_type": "execute_result"
        }
      ],
      "source": [
        "s.secret"
      ]
    },
    {
      "cell_type": "code",
      "execution_count": null,
      "id": "ac425536",
      "metadata": {
        "id": "ac425536",
        "outputId": "66fa9163-3697-4b2f-d692-fdb7105d2193"
      },
      "outputs": [
        {
          "data": {
            "text/plain": [
              "'뻥이다.'"
            ]
          },
          "execution_count": 8,
          "metadata": {},
          "output_type": "execute_result"
        }
      ],
      "source": [
        "Service.secret"
      ]
    },
    {
      "cell_type": "code",
      "execution_count": null,
      "id": "5937b181",
      "metadata": {
        "id": "5937b181",
        "outputId": "91f40287-1212-4157-d9c0-9b5f1f47f5fa"
      },
      "outputs": [
        {
          "name": "stdout",
          "output_type": "stream",
          "text": [
            "뻥이다.\n"
          ]
        }
      ],
      "source": [
        "print(Service.secret)"
      ]
    },
    {
      "cell_type": "code",
      "execution_count": null,
      "id": "d7790504",
      "metadata": {
        "id": "d7790504"
      },
      "outputs": [],
      "source": [
        "# Class 내부에 있는 함수는 Method\n",
        "\n",
        "class Service:\n",
        "    secret = \"지구는 4006년에 멸망한다.\"\n",
        "    def sum(self, a, b):\n",
        "        result = a+b\n",
        "        print(\"%s + %s = %s이다.\"%(a,b,result))\n",
        "        \n",
        "an = Service()        "
      ]
    },
    {
      "cell_type": "code",
      "execution_count": null,
      "id": "bcd9f4dd",
      "metadata": {
        "id": "bcd9f4dd",
        "outputId": "bd67d1a9-c3ff-427e-8e70-bf4a48e1acb6"
      },
      "outputs": [
        {
          "name": "stdout",
          "output_type": "stream",
          "text": [
            "1 + 1 = 2이다.\n"
          ]
        }
      ],
      "source": [
        "an.sum(1,1)"
      ]
    },
    {
      "cell_type": "code",
      "execution_count": null,
      "id": "5e0dd08d",
      "metadata": {
        "id": "5e0dd08d",
        "outputId": "0464b6a8-dcb5-4e42-8880-bc8dc3297229"
      },
      "outputs": [
        {
          "data": {
            "text/plain": [
              "'지구는 4006년에 멸망한다.'"
            ]
          },
          "execution_count": 16,
          "metadata": {},
          "output_type": "execute_result"
        }
      ],
      "source": [
        "an.secret"
      ]
    },
    {
      "cell_type": "code",
      "execution_count": null,
      "id": "8eac7fbe",
      "metadata": {
        "id": "8eac7fbe",
        "outputId": "47050791-16ff-4ded-99a3-aac72f164b60"
      },
      "outputs": [
        {
          "name": "stdout",
          "output_type": "stream",
          "text": [
            "박달도사님, 1 + 1 = 2 입니다.\n"
          ]
        }
      ],
      "source": [
        "class Service:\n",
        "    secret = \"지구는 4006년에 멸망한다.\"\n",
        "    def setname(self, name):\n",
        "        self.name = name\n",
        "    def sum(self,a,b):\n",
        "        result=a+b\n",
        "        print(\"%s님, %s + %s = %s 입니다.\" %(self.name,a,b,result))\n",
        "        \n",
        "an = Service()\n",
        "an.setname(\"박달도사\")\n",
        "an.sum(1,1)"
      ]
    },
    {
      "cell_type": "code",
      "execution_count": null,
      "id": "2bdcb0ec",
      "metadata": {
        "id": "2bdcb0ec"
      },
      "outputs": [],
      "source": [
        "lee = Service()"
      ]
    },
    {
      "cell_type": "code",
      "execution_count": null,
      "id": "3fbfa039",
      "metadata": {
        "id": "3fbfa039",
        "outputId": "e276582c-7fb9-46f5-af7c-fc1d5bc757c6"
      },
      "outputs": [
        {
          "name": "stdout",
          "output_type": "stream",
          "text": [
            "최원범님, 1 + 1 = 2 입니다.\n"
          ]
        }
      ],
      "source": [
        "lee.setname(\"최원범\")\n",
        "lee.sum(1,1)"
      ]
    },
    {
      "cell_type": "code",
      "execution_count": null,
      "id": "584ebe25",
      "metadata": {
        "id": "584ebe25",
        "outputId": "62a821ac-78dd-4619-8d1d-1d6f071ead54"
      },
      "outputs": [
        {
          "name": "stdout",
          "output_type": "stream",
          "text": [
            "박달도사님, 1 + 1 = 2 입니다.\n"
          ]
        }
      ],
      "source": [
        "class Service:\n",
        "    secret = \"지구는 4006년에 멸망한다.\"\n",
        "    def __init__(self, name):  #변수를 안전하게 생성\n",
        "        self.name = name       #파이썬은 객체지향형 프로그램임. \n",
        "    def sum(self,a,b):\n",
        "        result=a+b\n",
        "        print(\"%s님, %s + %s = %s 입니다.\" %(self.name,a,b,result))\n",
        "        \n",
        "an = Service(\"박달도사\")\n",
        "an.sum(1,1)"
      ]
    },
    {
      "cell_type": "code",
      "execution_count": null,
      "id": "a4b11fd4",
      "metadata": {
        "id": "a4b11fd4",
        "outputId": "52bcd59f-658f-4f11-8af8-627ff6f7cc1d"
      },
      "outputs": [
        {
          "data": {
            "text/plain": [
              "__main__.FourCal"
            ]
          },
          "execution_count": 28,
          "metadata": {},
          "output_type": "execute_result"
        }
      ],
      "source": [
        "class FourCal:\n",
        "    pass\n",
        "\n",
        "a=FourCal()\n",
        "type(a)"
      ]
    },
    {
      "cell_type": "code",
      "execution_count": null,
      "id": "e60951ed",
      "metadata": {
        "id": "e60951ed",
        "outputId": "ef811d6e-ea94-4efd-a4d5-4ff61598e906"
      },
      "outputs": [
        {
          "name": "stdout",
          "output_type": "stream",
          "text": [
            "<class '__main__.FourCal'>\n"
          ]
        }
      ],
      "source": [
        "print(type(a))"
      ]
    },
    {
      "cell_type": "code",
      "execution_count": null,
      "id": "094f29d0",
      "metadata": {
        "id": "094f29d0"
      },
      "outputs": [],
      "source": [
        "class Fourcal:\n",
        "    def setdata(self,first,second):\n",
        "        self.first=first\n",
        "        self.second=second\n",
        "    def sum(self):\n",
        "        result=self.first+self.second\n",
        "        return result\n",
        "    def mul(self):\n",
        "        result=self.first*self.second\n",
        "        return result    \n",
        "    def sub(self):\n",
        "        result=self.first-self.second\n",
        "        return result\n",
        "    def div(self):\n",
        "        result=self.first/self.second\n",
        "        return result    "
      ]
    },
    {
      "cell_type": "code",
      "execution_count": null,
      "id": "a90172c8",
      "metadata": {
        "id": "a90172c8"
      },
      "outputs": [],
      "source": [
        "a= Fourcal()\n",
        "a.setdata(4,3)"
      ]
    },
    {
      "cell_type": "code",
      "execution_count": null,
      "id": "666e5d6f",
      "metadata": {
        "id": "666e5d6f",
        "outputId": "0fff85dd-bf85-476e-a3d2-5422b07b9757"
      },
      "outputs": [
        {
          "data": {
            "text/plain": [
              "12"
            ]
          },
          "execution_count": 48,
          "metadata": {},
          "output_type": "execute_result"
        }
      ],
      "source": [
        "a.sum()\n",
        "a.mul()"
      ]
    },
    {
      "cell_type": "code",
      "execution_count": null,
      "id": "4e038700",
      "metadata": {
        "id": "4e038700",
        "outputId": "c5b74545-ae5f-4da4-b2df-8c77d05a8cce"
      },
      "outputs": [
        {
          "data": {
            "text/plain": [
              "1"
            ]
          },
          "execution_count": 51,
          "metadata": {},
          "output_type": "execute_result"
        }
      ],
      "source": [
        "a.sub()"
      ]
    },
    {
      "cell_type": "code",
      "execution_count": null,
      "id": "bf2fdb00",
      "metadata": {
        "id": "bf2fdb00",
        "outputId": "850a68d8-b7da-48ba-da09-49bbb2dd54db"
      },
      "outputs": [
        {
          "data": {
            "text/plain": [
              "1.3333333333333333"
            ]
          },
          "execution_count": 50,
          "metadata": {},
          "output_type": "execute_result"
        }
      ],
      "source": [
        "a.div()"
      ]
    },
    {
      "cell_type": "code",
      "execution_count": null,
      "id": "9d45492e",
      "metadata": {
        "id": "9d45492e",
        "outputId": "efc18d0a-46f6-4f83-ce1d-948772b28639"
      },
      "outputs": [
        {
          "name": "stdout",
          "output_type": "stream",
          "text": [
            "Player 1 rolled [3, 2, 3]\n",
            "Player 2 rolled [3, 5, 2]\n",
            "Player 2 wins\n"
          ]
        }
      ],
      "source": [
        "import random \n",
        "player1_dice = [] \n",
        "player2_dice = []\n",
        "\n",
        "for i in range(3): \n",
        "    player1_dice.append(random.randint(1, 6)) \n",
        "    player2_dice.append(random.randint(1, 6))\n",
        "\n",
        "print(\"Player 1 rolled \" + str(player1_dice)) \n",
        "print(\"Player 2 rolled \" + str(player2_dice))\n",
        "\n",
        "if sum(player1_dice) == sum(player2_dice):\n",
        "    print(\"Draw\")\n",
        "elif sum(player1_dice) > sum(player2_dice):\n",
        "    print(\"Player 1 wins\")\n",
        "else:\n",
        "    print (\"Player 2 wins\")"
      ]
    },
    {
      "cell_type": "code",
      "execution_count": null,
      "id": "689ad7f9",
      "metadata": {
        "id": "689ad7f9",
        "outputId": "a5675cd3-ea95-4d49-f99e-ffc11bc56bbe"
      },
      "outputs": [
        {
          "name": "stdout",
          "output_type": "stream",
          "text": [
            "Player 1 rolled [1, 4, 1]\n",
            "Player 2 rolled [1, 1, 2]\n",
            "Player 1 wins!\n"
          ]
        }
      ],
      "source": [
        "from random import randint\n",
        "\n",
        "class Player:\n",
        "    def __init__(self):\n",
        "        self.dice = []\n",
        "        \n",
        "    def roll(self):\n",
        "        self.dice = []  # clears current dice\n",
        "        for i in range(3):\n",
        "            self.dice.append(randint(1,6))\n",
        "            \n",
        "    def get_dice(self):\n",
        "        return self.dice\n",
        "    \n",
        "player1 = Player()\n",
        "player2 = Player()\n",
        "\n",
        "player1.roll()\n",
        "player2.roll()\n",
        "\n",
        "print(\"Player 1 rolled \" + str(player1.get_dice()))\n",
        "print(\"Player 2 rolled \" + str(player2.get_dice()))\n",
        "\n",
        "if sum(player1.get_dice()) == sum(player2.get_dice()): \n",
        "    print(\"Draw!\")\n",
        "elif sum(player1.get_dice()) > sum(player2.get_dice()): \n",
        "    print (\"Player 1 wins!\")\n",
        "else:\n",
        "    print (\"Player 2 wins!\")"
      ]
    },
    {
      "cell_type": "code",
      "execution_count": null,
      "id": "d34966c5",
      "metadata": {
        "id": "d34966c5"
      },
      "outputs": [],
      "source": [
        "class Customer(object): \n",
        "\n",
        "    def __init__(self, name): \n",
        "     self.name = name\n",
        "\n",
        "    def set_balance(self, balance=0.0): \n",
        "     self.balance = balance\n",
        "\n",
        "    def withdraw(self, amount): \n",
        "        if amount > self.balance:\n",
        "            raise RuntimeError('Amount greater than available balance.') \n",
        "            self.balance -= amount\n",
        "        return self.balance\n",
        "    \n",
        "    def deposit(self, amount): \n",
        "     self.balance += amount\n",
        "     return self.balance"
      ]
    }
  ],
  "metadata": {
    "kernelspec": {
      "display_name": "Python 3 (ipykernel)",
      "language": "python",
      "name": "python3"
    },
    "language_info": {
      "codemirror_mode": {
        "name": "ipython",
        "version": 3
      },
      "file_extension": ".py",
      "mimetype": "text/x-python",
      "name": "python",
      "nbconvert_exporter": "python",
      "pygments_lexer": "ipython3",
      "version": "3.9.7"
    },
    "colab": {
      "provenance": [],
      "include_colab_link": true
    }
  },
  "nbformat": 4,
  "nbformat_minor": 5
}