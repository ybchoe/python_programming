{
  "cells": [
    {
      "cell_type": "markdown",
      "metadata": {
        "id": "view-in-github",
        "colab_type": "text"
      },
      "source": [
        "<a href=\"https://colab.research.google.com/github/ybchoe/python_programming/blob/main/hw9/python_numpy_20230517.ipynb\" target=\"_parent\"><img src=\"https://colab.research.google.com/assets/colab-badge.svg\" alt=\"Open In Colab\"/></a>"
      ]
    },
    {
      "cell_type": "code",
      "execution_count": null,
      "id": "12d6cf2c",
      "metadata": {
        "id": "12d6cf2c"
      },
      "outputs": [],
      "source": [
        "#https://numpy.org/doc/stable/user/absolute_beginners.html"
      ]
    },
    {
      "cell_type": "code",
      "execution_count": null,
      "id": "269795e7",
      "metadata": {
        "id": "269795e7"
      },
      "outputs": [],
      "source": [
        "import numpy as np"
      ]
    },
    {
      "cell_type": "code",
      "execution_count": null,
      "id": "9dfe5b8d",
      "metadata": {
        "id": "9dfe5b8d"
      },
      "outputs": [],
      "source": [
        "a=np.arange(6)"
      ]
    },
    {
      "cell_type": "code",
      "execution_count": null,
      "id": "d67c12bc",
      "metadata": {
        "id": "d67c12bc",
        "outputId": "42e71402-d3f6-47f7-926e-071d46791f2b"
      },
      "outputs": [
        {
          "data": {
            "text/plain": [
              "numpy.ndarray"
            ]
          },
          "execution_count": 4,
          "metadata": {},
          "output_type": "execute_result"
        }
      ],
      "source": [
        "type(a)"
      ]
    },
    {
      "cell_type": "code",
      "execution_count": null,
      "id": "5a77077c",
      "metadata": {
        "id": "5a77077c",
        "outputId": "e63466ee-2703-40c2-918b-359f0afbba0b"
      },
      "outputs": [
        {
          "data": {
            "text/plain": [
              "array([0, 1, 2, 3, 4, 5])"
            ]
          },
          "execution_count": 5,
          "metadata": {},
          "output_type": "execute_result"
        }
      ],
      "source": [
        "a"
      ]
    },
    {
      "cell_type": "code",
      "execution_count": null,
      "id": "e561365d",
      "metadata": {
        "id": "e561365d",
        "outputId": "a8a2aa63-f183-4308-c8fb-a0ba0cc7f43f"
      },
      "outputs": [
        {
          "data": {
            "text/plain": [
              "0"
            ]
          },
          "execution_count": 6,
          "metadata": {},
          "output_type": "execute_result"
        }
      ],
      "source": [
        "a[0]"
      ]
    },
    {
      "cell_type": "code",
      "execution_count": null,
      "id": "8b1dbf6b",
      "metadata": {
        "id": "8b1dbf6b",
        "outputId": "7aad3c46-882b-4e7f-f1f5-e11b7ca4f276"
      },
      "outputs": [
        {
          "data": {
            "text/plain": [
              "1"
            ]
          },
          "execution_count": 7,
          "metadata": {},
          "output_type": "execute_result"
        }
      ],
      "source": [
        "a[1]"
      ]
    },
    {
      "cell_type": "code",
      "execution_count": null,
      "id": "bf5ab093",
      "metadata": {
        "id": "bf5ab093",
        "outputId": "b6b8ddc2-685f-4cdd-8258-e472d8a87b8f"
      },
      "outputs": [
        {
          "data": {
            "text/plain": [
              "array([0, 1, 2, 3, 4, 5])"
            ]
          },
          "execution_count": 8,
          "metadata": {},
          "output_type": "execute_result"
        }
      ],
      "source": [
        "a[:]  #행과 열을 구분. 1차원"
      ]
    },
    {
      "cell_type": "code",
      "execution_count": null,
      "id": "6215269d",
      "metadata": {
        "id": "6215269d"
      },
      "outputs": [],
      "source": [
        "a2=a[np.newaxis,:]  #새로운 차원을 만듬. 2차원"
      ]
    },
    {
      "cell_type": "code",
      "execution_count": null,
      "id": "c3c3e17f",
      "metadata": {
        "id": "c3c3e17f",
        "outputId": "25c7c801-be28-4fb1-a190-0abf38e15f0a"
      },
      "outputs": [
        {
          "data": {
            "text/plain": [
              "(1, 6)"
            ]
          },
          "execution_count": 10,
          "metadata": {},
          "output_type": "execute_result"
        }
      ],
      "source": [
        "a2.shape"
      ]
    },
    {
      "cell_type": "code",
      "execution_count": null,
      "id": "35b3392d",
      "metadata": {
        "id": "35b3392d",
        "outputId": "5b7c8908-d47f-4399-88bf-33789710a5b1"
      },
      "outputs": [
        {
          "data": {
            "text/plain": [
              "(6,)"
            ]
          },
          "execution_count": 11,
          "metadata": {},
          "output_type": "execute_result"
        }
      ],
      "source": [
        "a.shape"
      ]
    },
    {
      "cell_type": "code",
      "execution_count": null,
      "id": "909220ba",
      "metadata": {
        "id": "909220ba"
      },
      "outputs": [],
      "source": [
        "a=[0,1,2,3,4,5,6]"
      ]
    },
    {
      "cell_type": "code",
      "execution_count": null,
      "id": "d3f13e8f",
      "metadata": {
        "id": "d3f13e8f",
        "outputId": "a7409ecf-f8f3-4166-f307-885c8271d1d5"
      },
      "outputs": [
        {
          "data": {
            "text/plain": [
              "[0, 1, 2, 3, 4, 5, 6]"
            ]
          },
          "execution_count": 13,
          "metadata": {},
          "output_type": "execute_result"
        }
      ],
      "source": [
        "a"
      ]
    },
    {
      "cell_type": "code",
      "execution_count": null,
      "id": "8cb1898f",
      "metadata": {
        "id": "8cb1898f",
        "outputId": "7135edd6-cc7a-44cf-ff83-7457c8e29a08"
      },
      "outputs": [
        {
          "data": {
            "text/plain": [
              "list"
            ]
          },
          "execution_count": 14,
          "metadata": {},
          "output_type": "execute_result"
        }
      ],
      "source": [
        "type(a)"
      ]
    },
    {
      "cell_type": "code",
      "execution_count": null,
      "id": "90d401a2",
      "metadata": {
        "id": "90d401a2",
        "outputId": "7f9b126c-418d-4216-92b7-ebe226fbf009"
      },
      "outputs": [
        {
          "data": {
            "text/plain": [
              "numpy.ndarray"
            ]
          },
          "execution_count": 15,
          "metadata": {},
          "output_type": "execute_result"
        }
      ],
      "source": [
        "type(a2)"
      ]
    },
    {
      "cell_type": "code",
      "execution_count": null,
      "id": "676f6a9a",
      "metadata": {
        "id": "676f6a9a"
      },
      "outputs": [],
      "source": [
        "a=np.array([[1,2,3,4],[5,6,7,8],[9,10,11,12]])"
      ]
    },
    {
      "cell_type": "code",
      "execution_count": null,
      "id": "471e8e27",
      "metadata": {
        "id": "471e8e27",
        "outputId": "abe129e7-23a4-4be0-f40b-4f192f41a700"
      },
      "outputs": [
        {
          "data": {
            "text/plain": [
              "array([[ 1,  2,  3,  4],\n",
              "       [ 5,  6,  7,  8],\n",
              "       [ 9, 10, 11, 12]])"
            ]
          },
          "execution_count": 17,
          "metadata": {},
          "output_type": "execute_result"
        }
      ],
      "source": [
        "a"
      ]
    },
    {
      "cell_type": "code",
      "execution_count": null,
      "id": "628d3059",
      "metadata": {
        "id": "628d3059",
        "outputId": "31b3a7f0-803f-4d67-8902-8ef8ecd956b5"
      },
      "outputs": [
        {
          "data": {
            "text/plain": [
              "2"
            ]
          },
          "execution_count": 18,
          "metadata": {},
          "output_type": "execute_result"
        }
      ],
      "source": [
        "a[0,1]"
      ]
    },
    {
      "cell_type": "code",
      "execution_count": null,
      "id": "75cd5469",
      "metadata": {
        "id": "75cd5469",
        "outputId": "805a6421-ce85-4cea-c533-a31cabaeaaf9"
      },
      "outputs": [
        {
          "data": {
            "text/plain": [
              "array([1, 2, 3, 4])"
            ]
          },
          "execution_count": 19,
          "metadata": {},
          "output_type": "execute_result"
        }
      ],
      "source": [
        "a[0]"
      ]
    },
    {
      "cell_type": "code",
      "execution_count": null,
      "id": "29cd915c",
      "metadata": {
        "id": "29cd915c"
      },
      "outputs": [],
      "source": [
        "a=np.array([1, 2, 3])"
      ]
    },
    {
      "cell_type": "code",
      "execution_count": null,
      "id": "8ece1b06",
      "metadata": {
        "id": "8ece1b06",
        "outputId": "9c2ace86-0959-49b3-df2d-b6bd73650d31"
      },
      "outputs": [
        {
          "data": {
            "text/plain": [
              "array([0., 0.])"
            ]
          },
          "execution_count": 21,
          "metadata": {},
          "output_type": "execute_result"
        }
      ],
      "source": [
        "np.zeros(2)"
      ]
    },
    {
      "cell_type": "code",
      "execution_count": null,
      "id": "05d7690d",
      "metadata": {
        "id": "05d7690d",
        "outputId": "70f216df-c4b4-4cb3-e3f6-39ed9a8a4cff"
      },
      "outputs": [
        {
          "data": {
            "text/plain": [
              "array([1., 1., 1.])"
            ]
          },
          "execution_count": 22,
          "metadata": {},
          "output_type": "execute_result"
        }
      ],
      "source": [
        "np.ones(3)"
      ]
    },
    {
      "cell_type": "code",
      "execution_count": null,
      "id": "33224f2f",
      "metadata": {
        "id": "33224f2f",
        "outputId": "b990f339-3a61-48c0-93bf-b76aaf991ea8"
      },
      "outputs": [
        {
          "data": {
            "text/plain": [
              "array([0., 0.])"
            ]
          },
          "execution_count": 23,
          "metadata": {},
          "output_type": "execute_result"
        }
      ],
      "source": [
        "np.empty(2)"
      ]
    },
    {
      "cell_type": "code",
      "execution_count": null,
      "id": "0b23f010",
      "metadata": {
        "id": "0b23f010",
        "outputId": "d1061634-c290-40aa-de8e-881029adaa11"
      },
      "outputs": [
        {
          "data": {
            "text/plain": [
              "array([0, 1, 2, 3, 4])"
            ]
          },
          "execution_count": 24,
          "metadata": {},
          "output_type": "execute_result"
        }
      ],
      "source": [
        "np.arange(5)"
      ]
    },
    {
      "cell_type": "code",
      "execution_count": null,
      "id": "f32fde9c",
      "metadata": {
        "id": "f32fde9c",
        "outputId": "c669f618-ae2c-4b40-881b-8053f6f5c9df"
      },
      "outputs": [
        {
          "data": {
            "text/plain": [
              "array([2, 4, 6])"
            ]
          },
          "execution_count": 25,
          "metadata": {},
          "output_type": "execute_result"
        }
      ],
      "source": [
        "np.arange(2, 8, 2)"
      ]
    },
    {
      "cell_type": "code",
      "execution_count": null,
      "id": "70230459",
      "metadata": {
        "id": "70230459",
        "outputId": "93ba2663-ac14-4c54-ac75-9e2f249ff89a"
      },
      "outputs": [
        {
          "data": {
            "text/plain": [
              "array([ 0. ,  2.5,  5. ,  7.5, 10. ])"
            ]
          },
          "execution_count": 26,
          "metadata": {},
          "output_type": "execute_result"
        }
      ],
      "source": [
        "np.linspace(0, 10, num=5)"
      ]
    },
    {
      "cell_type": "code",
      "execution_count": null,
      "id": "be97c32e",
      "metadata": {
        "id": "be97c32e"
      },
      "outputs": [],
      "source": [
        "a=1."
      ]
    },
    {
      "cell_type": "code",
      "execution_count": null,
      "id": "386a5a12",
      "metadata": {
        "id": "386a5a12",
        "outputId": "55596ecd-17ad-43b0-cf74-9e981f828bd7"
      },
      "outputs": [
        {
          "data": {
            "text/plain": [
              "1.0"
            ]
          },
          "execution_count": 28,
          "metadata": {},
          "output_type": "execute_result"
        }
      ],
      "source": [
        "a"
      ]
    },
    {
      "cell_type": "code",
      "execution_count": null,
      "id": "302a25c3",
      "metadata": {
        "id": "302a25c3",
        "outputId": "0b2f7374-26e2-4bbc-dcf3-40d453b47ea8"
      },
      "outputs": [
        {
          "data": {
            "text/plain": [
              "float"
            ]
          },
          "execution_count": 29,
          "metadata": {},
          "output_type": "execute_result"
        }
      ],
      "source": [
        "type(a)"
      ]
    },
    {
      "cell_type": "code",
      "execution_count": null,
      "id": "1f9a0459",
      "metadata": {
        "id": "1f9a0459"
      },
      "outputs": [],
      "source": [
        "x=np.ones(2, dtype=np.int64)"
      ]
    },
    {
      "cell_type": "code",
      "execution_count": null,
      "id": "ed17a93b",
      "metadata": {
        "id": "ed17a93b",
        "outputId": "d6acc20f-7ea5-429e-f77d-915181f64ba1"
      },
      "outputs": [
        {
          "data": {
            "text/plain": [
              "array([1, 1], dtype=int64)"
            ]
          },
          "execution_count": 31,
          "metadata": {},
          "output_type": "execute_result"
        }
      ],
      "source": [
        "x"
      ]
    },
    {
      "cell_type": "code",
      "execution_count": null,
      "id": "260ff873",
      "metadata": {
        "id": "260ff873"
      },
      "outputs": [],
      "source": [
        "arr = np.array([2, 1, 5, 3, 7, 4, 6, 8])"
      ]
    },
    {
      "cell_type": "code",
      "execution_count": null,
      "id": "92a21eca",
      "metadata": {
        "id": "92a21eca"
      },
      "outputs": [],
      "source": [
        "a= np.sort(arr) #내림, 오름차순 가능"
      ]
    },
    {
      "cell_type": "code",
      "execution_count": null,
      "id": "70c5acd8",
      "metadata": {
        "id": "70c5acd8",
        "outputId": "f12c97e4-eab6-41e0-a9dd-2011c54634f2"
      },
      "outputs": [
        {
          "data": {
            "text/plain": [
              "array([1, 2, 3, 4, 5, 6, 7, 8])"
            ]
          },
          "execution_count": 34,
          "metadata": {},
          "output_type": "execute_result"
        }
      ],
      "source": [
        "a"
      ]
    },
    {
      "cell_type": "code",
      "execution_count": null,
      "id": "c67991bd",
      "metadata": {
        "id": "c67991bd",
        "outputId": "e89f2fa3-2106-4956-8e5f-dc63fc248f94"
      },
      "outputs": [
        {
          "data": {
            "text/plain": [
              "array([2, 1, 5, 3, 7, 4, 6, 8])"
            ]
          },
          "execution_count": 35,
          "metadata": {},
          "output_type": "execute_result"
        }
      ],
      "source": [
        "arr"
      ]
    },
    {
      "cell_type": "code",
      "execution_count": null,
      "id": "6993ab9a",
      "metadata": {
        "id": "6993ab9a"
      },
      "outputs": [],
      "source": [
        "a = np.array([1,2,3,4])\n",
        "b = np.array([5,6,7,8])"
      ]
    },
    {
      "cell_type": "code",
      "execution_count": null,
      "id": "95cbba6c",
      "metadata": {
        "id": "95cbba6c",
        "outputId": "eb05344a-c603-4124-892e-0757560c069d"
      },
      "outputs": [
        {
          "data": {
            "text/plain": [
              "array([1, 2, 3, 4, 5, 6, 7, 8])"
            ]
          },
          "execution_count": 37,
          "metadata": {},
          "output_type": "execute_result"
        }
      ],
      "source": [
        "np.concatenate((a,b))"
      ]
    },
    {
      "cell_type": "code",
      "execution_count": null,
      "id": "754fe815",
      "metadata": {
        "id": "754fe815"
      },
      "outputs": [],
      "source": [
        "x = np.array([[1,2],[3,4]])\n",
        "y = np.array([[5,6]])"
      ]
    },
    {
      "cell_type": "code",
      "execution_count": null,
      "id": "c9971181",
      "metadata": {
        "id": "c9971181"
      },
      "outputs": [],
      "source": [
        "a = np.concatenate((x,y), axis=0)"
      ]
    },
    {
      "cell_type": "code",
      "execution_count": null,
      "id": "ab9eef28",
      "metadata": {
        "id": "ab9eef28",
        "outputId": "43d492ce-59c9-4954-fdd6-397d5bcc0b49"
      },
      "outputs": [
        {
          "data": {
            "text/plain": [
              "array([[1, 2],\n",
              "       [3, 4],\n",
              "       [5, 6]])"
            ]
          },
          "execution_count": 40,
          "metadata": {},
          "output_type": "execute_result"
        }
      ],
      "source": [
        "a"
      ]
    },
    {
      "cell_type": "code",
      "execution_count": null,
      "id": "a3850b58",
      "metadata": {
        "id": "a3850b58"
      },
      "outputs": [],
      "source": [
        "array_example = np.array([[[0,1,2,3],[4,5,6,7]],[[0,1,2,3],[4,5,6,7]],[[0,1,2,3],[4,5,6,7]]])"
      ]
    },
    {
      "cell_type": "code",
      "execution_count": null,
      "id": "08d59000",
      "metadata": {
        "id": "08d59000",
        "outputId": "2af26c72-315d-4a57-dbae-d3b05bbfeeb7"
      },
      "outputs": [
        {
          "data": {
            "text/plain": [
              "array([[[0, 1, 2, 3],\n",
              "        [4, 5, 6, 7]],\n",
              "\n",
              "       [[0, 1, 2, 3],\n",
              "        [4, 5, 6, 7]],\n",
              "\n",
              "       [[0, 1, 2, 3],\n",
              "        [4, 5, 6, 7]]])"
            ]
          },
          "execution_count": 42,
          "metadata": {},
          "output_type": "execute_result"
        }
      ],
      "source": [
        "array_example"
      ]
    },
    {
      "cell_type": "code",
      "execution_count": null,
      "id": "d6ec2f65",
      "metadata": {
        "id": "d6ec2f65",
        "outputId": "261a1ffa-64fd-4a0a-892b-82ad1053c9c4"
      },
      "outputs": [
        {
          "data": {
            "text/plain": [
              "3"
            ]
          },
          "execution_count": 43,
          "metadata": {},
          "output_type": "execute_result"
        }
      ],
      "source": [
        "array_example.ndim"
      ]
    },
    {
      "cell_type": "code",
      "execution_count": null,
      "id": "27689257",
      "metadata": {
        "id": "27689257",
        "outputId": "8091a3f0-4324-4288-b4d0-74dc235e4f2e"
      },
      "outputs": [
        {
          "data": {
            "text/plain": [
              "24"
            ]
          },
          "execution_count": 44,
          "metadata": {},
          "output_type": "execute_result"
        }
      ],
      "source": [
        "array_example.size"
      ]
    },
    {
      "cell_type": "code",
      "execution_count": null,
      "id": "9f612e70",
      "metadata": {
        "id": "9f612e70",
        "outputId": "9cab95d3-7b29-46cc-ad5d-2ffd0912b4b0"
      },
      "outputs": [
        {
          "data": {
            "text/plain": [
              "(3, 2, 4)"
            ]
          },
          "execution_count": 45,
          "metadata": {},
          "output_type": "execute_result"
        }
      ],
      "source": [
        "array_example.shape"
      ]
    },
    {
      "cell_type": "code",
      "execution_count": null,
      "id": "d1a5c657",
      "metadata": {
        "id": "d1a5c657"
      },
      "outputs": [],
      "source": [
        "a = np.arange(6)"
      ]
    },
    {
      "cell_type": "code",
      "execution_count": null,
      "id": "6c1cfa1c",
      "metadata": {
        "id": "6c1cfa1c",
        "outputId": "cdb36a79-fee8-4ac2-c679-bc5bd19c924d"
      },
      "outputs": [
        {
          "data": {
            "text/plain": [
              "array([0, 1, 2, 3, 4, 5])"
            ]
          },
          "execution_count": 47,
          "metadata": {},
          "output_type": "execute_result"
        }
      ],
      "source": [
        "a"
      ]
    },
    {
      "cell_type": "code",
      "execution_count": null,
      "id": "f28653a5",
      "metadata": {
        "id": "f28653a5",
        "outputId": "90e565a1-fb0d-4208-c722-0060b3ea679e"
      },
      "outputs": [
        {
          "data": {
            "text/plain": [
              "array([[0, 1, 2],\n",
              "       [3, 4, 5]])"
            ]
          },
          "execution_count": 48,
          "metadata": {},
          "output_type": "execute_result"
        }
      ],
      "source": [
        "a.reshape(2,3)"
      ]
    },
    {
      "cell_type": "code",
      "execution_count": null,
      "id": "72694675",
      "metadata": {
        "scrolled": true,
        "id": "72694675",
        "outputId": "35b84d04-cf58-4ec4-f8c7-2777ec2c9672"
      },
      "outputs": [
        {
          "data": {
            "text/plain": [
              "array([[0],\n",
              "       [1],\n",
              "       [2],\n",
              "       [3],\n",
              "       [4],\n",
              "       [5]])"
            ]
          },
          "execution_count": 49,
          "metadata": {},
          "output_type": "execute_result"
        }
      ],
      "source": [
        "a.reshape(6,1)"
      ]
    },
    {
      "cell_type": "code",
      "execution_count": null,
      "id": "f9482985",
      "metadata": {
        "id": "f9482985",
        "outputId": "ff246244-e77e-4160-88bc-4a87cd2ddfc3"
      },
      "outputs": [
        {
          "name": "stdout",
          "output_type": "stream",
          "text": [
            "[0 1 2 3 4 5]\n"
          ]
        }
      ],
      "source": [
        "print(a)"
      ]
    },
    {
      "cell_type": "code",
      "execution_count": null,
      "id": "29b99be6",
      "metadata": {
        "id": "29b99be6",
        "outputId": "dccfd5d9-3076-4985-f98d-736a10485eea"
      },
      "outputs": [
        {
          "data": {
            "text/plain": [
              "array([[0, 1, 2, 3, 4, 5]])"
            ]
          },
          "execution_count": 51,
          "metadata": {},
          "output_type": "execute_result"
        }
      ],
      "source": [
        "np.reshape(a, newshape=(1,6), order='c')"
      ]
    },
    {
      "cell_type": "code",
      "execution_count": null,
      "id": "05d10ac9",
      "metadata": {
        "id": "05d10ac9"
      },
      "outputs": [],
      "source": [
        "a = np.array([1,2,3,4,5,6])"
      ]
    },
    {
      "cell_type": "code",
      "execution_count": null,
      "id": "1a768bc6",
      "metadata": {
        "id": "1a768bc6",
        "outputId": "83189b3a-2168-43ec-fbc9-005fec57efdb"
      },
      "outputs": [
        {
          "data": {
            "text/plain": [
              "array([1, 2, 3, 4, 5, 6])"
            ]
          },
          "execution_count": 53,
          "metadata": {},
          "output_type": "execute_result"
        }
      ],
      "source": [
        "a"
      ]
    },
    {
      "cell_type": "code",
      "execution_count": null,
      "id": "a4946b79",
      "metadata": {
        "id": "a4946b79",
        "outputId": "dce1b65a-b5b6-41f2-bc7e-24745e3d9f4d"
      },
      "outputs": [
        {
          "data": {
            "text/plain": [
              "(6,)"
            ]
          },
          "execution_count": 54,
          "metadata": {},
          "output_type": "execute_result"
        }
      ],
      "source": [
        "a.shape"
      ]
    },
    {
      "cell_type": "code",
      "execution_count": null,
      "id": "bdb7e4f0",
      "metadata": {
        "id": "bdb7e4f0"
      },
      "outputs": [],
      "source": [
        "a = [[1,2,3],[4,5,6]]"
      ]
    },
    {
      "cell_type": "code",
      "execution_count": null,
      "id": "032df552",
      "metadata": {
        "id": "032df552",
        "outputId": "cb3642c0-4982-4d8c-893e-ac8e2a1061e2"
      },
      "outputs": [
        {
          "data": {
            "text/plain": [
              "5"
            ]
          },
          "execution_count": 56,
          "metadata": {},
          "output_type": "execute_result"
        }
      ],
      "source": [
        "a[1][1]"
      ]
    },
    {
      "cell_type": "code",
      "execution_count": null,
      "id": "2d18672a",
      "metadata": {
        "id": "2d18672a"
      },
      "outputs": [],
      "source": [
        "a = np.array([1,2,3,4,5,6])"
      ]
    },
    {
      "cell_type": "code",
      "execution_count": null,
      "id": "40a138cd",
      "metadata": {
        "id": "40a138cd"
      },
      "outputs": [],
      "source": [
        "a2=a[np.newaxis,:]"
      ]
    },
    {
      "cell_type": "code",
      "execution_count": null,
      "id": "37f40bdd",
      "metadata": {
        "id": "37f40bdd",
        "outputId": "f2653da2-c3db-4c0b-dcf5-eb700d24ee48"
      },
      "outputs": [
        {
          "data": {
            "text/plain": [
              "(1, 6)"
            ]
          },
          "execution_count": 59,
          "metadata": {},
          "output_type": "execute_result"
        }
      ],
      "source": [
        "a2.shape"
      ]
    },
    {
      "cell_type": "code",
      "execution_count": null,
      "id": "6321349c",
      "metadata": {
        "id": "6321349c"
      },
      "outputs": [],
      "source": [
        "row_vector = a[np.newaxis, : ]"
      ]
    },
    {
      "cell_type": "code",
      "execution_count": null,
      "id": "ae0170a9",
      "metadata": {
        "id": "ae0170a9",
        "outputId": "edbcae3a-1463-47ba-cdb9-ae276b781c49"
      },
      "outputs": [
        {
          "data": {
            "text/plain": [
              "(1, 6)"
            ]
          },
          "execution_count": 61,
          "metadata": {},
          "output_type": "execute_result"
        }
      ],
      "source": [
        "row_vector.shape"
      ]
    },
    {
      "cell_type": "code",
      "execution_count": null,
      "id": "4100351b",
      "metadata": {
        "id": "4100351b"
      },
      "outputs": [],
      "source": [
        "row_vector = a[:, np.newaxis]"
      ]
    },
    {
      "cell_type": "code",
      "execution_count": null,
      "id": "a5e64c15",
      "metadata": {
        "id": "a5e64c15",
        "outputId": "2c5d9118-d2ea-4e0d-cf5e-65a226792362"
      },
      "outputs": [
        {
          "data": {
            "text/plain": [
              "(6, 1)"
            ]
          },
          "execution_count": 63,
          "metadata": {},
          "output_type": "execute_result"
        }
      ],
      "source": [
        "row_vector.shape"
      ]
    },
    {
      "cell_type": "code",
      "execution_count": null,
      "id": "6bd506ca",
      "metadata": {
        "id": "6bd506ca",
        "outputId": "7ba5a169-4115-409a-bc14-7b1bc6c12474"
      },
      "outputs": [
        {
          "data": {
            "text/plain": [
              "array([[1],\n",
              "       [2],\n",
              "       [3],\n",
              "       [4],\n",
              "       [5],\n",
              "       [6]])"
            ]
          },
          "execution_count": 64,
          "metadata": {},
          "output_type": "execute_result"
        }
      ],
      "source": [
        "row_vector"
      ]
    },
    {
      "cell_type": "code",
      "execution_count": null,
      "id": "f58e251b",
      "metadata": {
        "id": "f58e251b",
        "outputId": "46ab2a9a-08d3-4afd-a344-4b333caa7d79"
      },
      "outputs": [
        {
          "data": {
            "text/plain": [
              "(6, 1)"
            ]
          },
          "execution_count": 65,
          "metadata": {},
          "output_type": "execute_result"
        }
      ],
      "source": [
        "b = np.expand_dims(a, axis=1)\n",
        "b.shape"
      ]
    },
    {
      "cell_type": "code",
      "execution_count": null,
      "id": "4d0e7904",
      "metadata": {
        "id": "4d0e7904",
        "outputId": "d47488f8-5dd1-4137-c8a2-f0fb15e93481"
      },
      "outputs": [
        {
          "data": {
            "text/plain": [
              "array([[1],\n",
              "       [2],\n",
              "       [3],\n",
              "       [4],\n",
              "       [5],\n",
              "       [6]])"
            ]
          },
          "execution_count": 66,
          "metadata": {},
          "output_type": "execute_result"
        }
      ],
      "source": [
        "b"
      ]
    },
    {
      "cell_type": "code",
      "execution_count": null,
      "id": "3af871a4",
      "metadata": {
        "id": "3af871a4",
        "outputId": "5db3ba9f-b83b-47e8-f5e7-58fcabf354bd"
      },
      "outputs": [
        {
          "data": {
            "text/plain": [
              "(1, 6)"
            ]
          },
          "execution_count": 67,
          "metadata": {},
          "output_type": "execute_result"
        }
      ],
      "source": [
        "c = np.expand_dims(a, axis=0)\n",
        "c.shape"
      ]
    },
    {
      "cell_type": "code",
      "execution_count": null,
      "id": "ae0e1e09",
      "metadata": {
        "id": "ae0e1e09",
        "outputId": "c6bb2248-426b-4b67-dce7-cb4569d9e82e"
      },
      "outputs": [
        {
          "data": {
            "text/plain": [
              "array([[1, 2, 3, 4, 5, 6]])"
            ]
          },
          "execution_count": 68,
          "metadata": {},
          "output_type": "execute_result"
        }
      ],
      "source": [
        "c"
      ]
    },
    {
      "cell_type": "code",
      "execution_count": null,
      "id": "1a213fdc",
      "metadata": {
        "id": "1a213fdc"
      },
      "outputs": [],
      "source": [
        "data = np.array([1,2,3])"
      ]
    },
    {
      "cell_type": "code",
      "execution_count": null,
      "id": "b190ef33",
      "metadata": {
        "id": "b190ef33",
        "outputId": "229f8062-eabb-4f58-f2dc-f54fb6fd73ae"
      },
      "outputs": [
        {
          "data": {
            "text/plain": [
              "array([1, 2, 3])"
            ]
          },
          "execution_count": 70,
          "metadata": {},
          "output_type": "execute_result"
        }
      ],
      "source": [
        "data"
      ]
    },
    {
      "cell_type": "code",
      "execution_count": null,
      "id": "d85820c6",
      "metadata": {
        "id": "d85820c6",
        "outputId": "796c9c51-4dd8-4e09-ab8d-c899a337e19e"
      },
      "outputs": [
        {
          "data": {
            "text/plain": [
              "1"
            ]
          },
          "execution_count": 71,
          "metadata": {},
          "output_type": "execute_result"
        }
      ],
      "source": [
        "data[0]"
      ]
    },
    {
      "cell_type": "code",
      "execution_count": null,
      "id": "3ee81ab8",
      "metadata": {
        "id": "3ee81ab8",
        "outputId": "38b32a8b-defd-4dd8-9806-11fc94653a1e"
      },
      "outputs": [
        {
          "data": {
            "text/plain": [
              "array([1, 2])"
            ]
          },
          "execution_count": 72,
          "metadata": {},
          "output_type": "execute_result"
        }
      ],
      "source": [
        "data[0:2]"
      ]
    },
    {
      "cell_type": "code",
      "execution_count": null,
      "id": "03b30851",
      "metadata": {
        "id": "03b30851",
        "outputId": "8dbb8cae-6d65-4c9d-c0d3-8308ecaa5b77"
      },
      "outputs": [
        {
          "data": {
            "text/plain": [
              "array([2, 3])"
            ]
          },
          "execution_count": 73,
          "metadata": {},
          "output_type": "execute_result"
        }
      ],
      "source": [
        "data[1:]"
      ]
    },
    {
      "cell_type": "code",
      "execution_count": null,
      "id": "c5665064",
      "metadata": {
        "id": "c5665064",
        "outputId": "fad18a39-ab22-454a-aa29-e937f6fd9583"
      },
      "outputs": [
        {
          "data": {
            "text/plain": [
              "array([2, 3])"
            ]
          },
          "execution_count": 74,
          "metadata": {},
          "output_type": "execute_result"
        }
      ],
      "source": [
        "data[-2:]"
      ]
    },
    {
      "cell_type": "code",
      "execution_count": null,
      "id": "fba5187d",
      "metadata": {
        "id": "fba5187d"
      },
      "outputs": [],
      "source": [
        "a = np.array([[1 , 2, 3, 4], [5, 6, 7, 8], [9, 10, 11, 12]])"
      ]
    },
    {
      "cell_type": "code",
      "execution_count": null,
      "id": "f8a20a3d",
      "metadata": {
        "id": "f8a20a3d",
        "outputId": "5071e5e9-97d4-47aa-e685-2a7b63d3491d"
      },
      "outputs": [
        {
          "data": {
            "text/plain": [
              "array([[ 1,  2,  3,  4],\n",
              "       [ 5,  6,  7,  8],\n",
              "       [ 9, 10, 11, 12]])"
            ]
          },
          "execution_count": 76,
          "metadata": {},
          "output_type": "execute_result"
        }
      ],
      "source": [
        "a"
      ]
    },
    {
      "cell_type": "code",
      "execution_count": null,
      "id": "654e494f",
      "metadata": {
        "id": "654e494f",
        "outputId": "33d07f93-dd96-4b34-fc8b-5060cda88084"
      },
      "outputs": [
        {
          "data": {
            "text/plain": [
              "array([[ True,  True,  True,  True],\n",
              "       [False, False, False, False],\n",
              "       [False, False, False, False]])"
            ]
          },
          "execution_count": 77,
          "metadata": {},
          "output_type": "execute_result"
        }
      ],
      "source": [
        "a<5"
      ]
    },
    {
      "cell_type": "code",
      "execution_count": null,
      "id": "9a16a95f",
      "metadata": {
        "id": "9a16a95f"
      },
      "outputs": [],
      "source": [
        "b=2"
      ]
    },
    {
      "cell_type": "code",
      "execution_count": null,
      "id": "8cdccd42",
      "metadata": {
        "id": "8cdccd42",
        "outputId": "f332ff81-c9c5-4391-b5d0-a423fa3ae7f7"
      },
      "outputs": [
        {
          "name": "stdout",
          "output_type": "stream",
          "text": [
            "좋아요\n"
          ]
        }
      ],
      "source": [
        "if b >5:\n",
        "    print(\"에구 너무 큰데요\")\n",
        "else:\n",
        "    print(\"좋아요\")"
      ]
    },
    {
      "cell_type": "code",
      "execution_count": null,
      "id": "b039b837",
      "metadata": {
        "id": "b039b837",
        "outputId": "b4c91832-8733-4622-90b5-e2876380c7ad"
      },
      "outputs": [
        {
          "data": {
            "text/plain": [
              "False"
            ]
          },
          "execution_count": 80,
          "metadata": {},
          "output_type": "execute_result"
        }
      ],
      "source": [
        "b>5"
      ]
    },
    {
      "cell_type": "code",
      "execution_count": null,
      "id": "6ef35066",
      "metadata": {
        "id": "6ef35066",
        "outputId": "70eba3d1-03bc-44a1-beae-6bf80d1cc4e3"
      },
      "outputs": [
        {
          "data": {
            "text/plain": [
              "array([[ 1,  2,  3,  4],\n",
              "       [ 5,  6,  7,  8],\n",
              "       [ 9, 10, 11, 12]])"
            ]
          },
          "execution_count": 81,
          "metadata": {},
          "output_type": "execute_result"
        }
      ],
      "source": [
        "a"
      ]
    },
    {
      "cell_type": "code",
      "execution_count": null,
      "id": "8f11304a",
      "metadata": {
        "id": "8f11304a",
        "outputId": "5a043dd0-1abe-4f14-f423-967dda4f578f"
      },
      "outputs": [
        {
          "data": {
            "text/plain": [
              "array([1, 2, 3, 4])"
            ]
          },
          "execution_count": 82,
          "metadata": {},
          "output_type": "execute_result"
        }
      ],
      "source": [
        "a[a<5]"
      ]
    },
    {
      "cell_type": "code",
      "execution_count": null,
      "id": "f2c40c2d",
      "metadata": {
        "id": "f2c40c2d",
        "outputId": "11c1c2df-f322-4f68-c642-7968e26e287c"
      },
      "outputs": [
        {
          "data": {
            "text/plain": [
              "array([ 3,  4,  5,  6,  7,  8,  9, 10, 11, 12])"
            ]
          },
          "execution_count": 83,
          "metadata": {},
          "output_type": "execute_result"
        }
      ],
      "source": [
        "a[a>=3]"
      ]
    },
    {
      "cell_type": "code",
      "execution_count": null,
      "id": "6c27a3eb",
      "metadata": {
        "id": "6c27a3eb",
        "outputId": "b987a47f-7393-48e0-87ce-5bedfa30e340"
      },
      "outputs": [
        {
          "data": {
            "text/plain": [
              "array([ 2,  4,  6,  8, 10, 12])"
            ]
          },
          "execution_count": 84,
          "metadata": {},
          "output_type": "execute_result"
        }
      ],
      "source": [
        "a[a%2==0]"
      ]
    },
    {
      "cell_type": "code",
      "execution_count": null,
      "id": "ecf36e45",
      "metadata": {
        "id": "ecf36e45",
        "outputId": "f5132bdb-c1a4-42c0-9034-b0d478de024c"
      },
      "outputs": [
        {
          "data": {
            "text/plain": [
              "array([ 3,  4,  5,  6,  7,  8,  9, 10])"
            ]
          },
          "execution_count": 85,
          "metadata": {},
          "output_type": "execute_result"
        }
      ],
      "source": [
        "a[(a>2)&(a<11)]"
      ]
    },
    {
      "cell_type": "code",
      "execution_count": null,
      "id": "89405bbc",
      "metadata": {
        "id": "89405bbc",
        "outputId": "a45c4cc6-9b4a-4555-b8f5-9aa6da48f490"
      },
      "outputs": [
        {
          "data": {
            "text/plain": [
              "array([[False, False,  True,  True],\n",
              "       [ True,  True,  True,  True],\n",
              "       [ True,  True, False, False]])"
            ]
          },
          "execution_count": 86,
          "metadata": {},
          "output_type": "execute_result"
        }
      ],
      "source": [
        "(a>2)&(a<11)"
      ]
    },
    {
      "cell_type": "code",
      "execution_count": null,
      "id": "ded3b757",
      "metadata": {
        "id": "ded3b757",
        "outputId": "d08490fb-cb15-4750-b5a6-17c6b42a2539"
      },
      "outputs": [
        {
          "data": {
            "text/plain": [
              "array([ 6,  7,  8,  9, 10, 11, 12])"
            ]
          },
          "execution_count": 87,
          "metadata": {},
          "output_type": "execute_result"
        }
      ],
      "source": [
        "a[(a>5)|(a==11)]"
      ]
    },
    {
      "cell_type": "code",
      "execution_count": null,
      "id": "c86913e4",
      "metadata": {
        "id": "c86913e4"
      },
      "outputs": [],
      "source": [
        "a = np.array([[1, 2, 3, 4], [5, 6, 7, 8], [9, 10, 11, 12]])"
      ]
    },
    {
      "cell_type": "code",
      "execution_count": null,
      "id": "5214c855",
      "metadata": {
        "id": "5214c855"
      },
      "outputs": [],
      "source": [
        "b=np.nonzero(a<5)"
      ]
    },
    {
      "cell_type": "code",
      "execution_count": null,
      "id": "96f3852f",
      "metadata": {
        "id": "96f3852f",
        "outputId": "31170a53-b8c4-4464-d8da-51421fc0f320"
      },
      "outputs": [
        {
          "data": {
            "text/plain": [
              "(array([0, 0, 0, 0], dtype=int64), array([0, 1, 2, 3], dtype=int64))"
            ]
          },
          "execution_count": 90,
          "metadata": {},
          "output_type": "execute_result"
        }
      ],
      "source": [
        "b"
      ]
    },
    {
      "cell_type": "code",
      "execution_count": null,
      "id": "d722cc02",
      "metadata": {
        "id": "d722cc02"
      },
      "outputs": [],
      "source": [
        "list_of_coordinates=list(zip(b[0],b[1]))"
      ]
    },
    {
      "cell_type": "code",
      "execution_count": null,
      "id": "2515811f",
      "metadata": {
        "id": "2515811f",
        "outputId": "21ce78db-7fea-4105-a3e8-ab49192fda29"
      },
      "outputs": [
        {
          "data": {
            "text/plain": [
              "[(0, 0), (0, 1), (0, 2), (0, 3)]"
            ]
          },
          "execution_count": 92,
          "metadata": {},
          "output_type": "execute_result"
        }
      ],
      "source": [
        "list_of_coordinates"
      ]
    },
    {
      "cell_type": "code",
      "execution_count": null,
      "id": "8835d020",
      "metadata": {
        "id": "8835d020",
        "outputId": "9096bc37-2e28-4d4a-f9ba-bb7ec6650794"
      },
      "outputs": [
        {
          "name": "stdout",
          "output_type": "stream",
          "text": [
            "(0, 0)\n",
            "(0, 1)\n",
            "(0, 2)\n",
            "(0, 3)\n"
          ]
        }
      ],
      "source": [
        "for coord in list_of_coordinates:\n",
        "    print(coord)"
      ]
    },
    {
      "cell_type": "code",
      "execution_count": null,
      "id": "c7fcb81c",
      "metadata": {
        "id": "c7fcb81c"
      },
      "outputs": [],
      "source": [
        "a=np.array([1,2,3,4,5,6,7,8,9,10])"
      ]
    },
    {
      "cell_type": "code",
      "execution_count": null,
      "id": "fdf64d5b",
      "metadata": {
        "id": "fdf64d5b"
      },
      "outputs": [],
      "source": [
        "arr1=a[3:8]"
      ]
    },
    {
      "cell_type": "code",
      "execution_count": null,
      "id": "8160a3ec",
      "metadata": {
        "id": "8160a3ec",
        "outputId": "845d7394-8eb3-4ccf-8e7e-c0b6b8de6f5e"
      },
      "outputs": [
        {
          "data": {
            "text/plain": [
              "array([4, 5, 6, 7, 8])"
            ]
          },
          "execution_count": 96,
          "metadata": {},
          "output_type": "execute_result"
        }
      ],
      "source": [
        "arr1"
      ]
    },
    {
      "cell_type": "code",
      "execution_count": null,
      "id": "170589b4",
      "metadata": {
        "id": "170589b4"
      },
      "outputs": [],
      "source": [
        "a1=np.array([[1,1],[2,2]])"
      ]
    },
    {
      "cell_type": "code",
      "execution_count": null,
      "id": "8151ceb3",
      "metadata": {
        "id": "8151ceb3"
      },
      "outputs": [],
      "source": [
        "a2=np.array([[3,3],[4,4]])"
      ]
    },
    {
      "cell_type": "code",
      "execution_count": null,
      "id": "19e3f91b",
      "metadata": {
        "id": "19e3f91b",
        "outputId": "57d7c7d2-f808-4ab4-ab5e-8e795bda12a5"
      },
      "outputs": [
        {
          "data": {
            "text/plain": [
              "array([[1, 1],\n",
              "       [2, 2]])"
            ]
          },
          "execution_count": 99,
          "metadata": {},
          "output_type": "execute_result"
        }
      ],
      "source": [
        "a1"
      ]
    },
    {
      "cell_type": "code",
      "execution_count": null,
      "id": "f7b0d21d",
      "metadata": {
        "id": "f7b0d21d",
        "outputId": "601a1fdb-48d1-4255-a035-cb0c75646ddc"
      },
      "outputs": [
        {
          "data": {
            "text/plain": [
              "array([[3, 3],\n",
              "       [4, 4]])"
            ]
          },
          "execution_count": 100,
          "metadata": {},
          "output_type": "execute_result"
        }
      ],
      "source": [
        "a2"
      ]
    },
    {
      "cell_type": "code",
      "execution_count": null,
      "id": "6dfa69ea",
      "metadata": {
        "id": "6dfa69ea",
        "outputId": "9080e245-21b0-4cd7-f74c-150f1973b2b5"
      },
      "outputs": [
        {
          "data": {
            "text/plain": [
              "array([[1, 1],\n",
              "       [2, 2],\n",
              "       [3, 3],\n",
              "       [4, 4]])"
            ]
          },
          "execution_count": 101,
          "metadata": {},
          "output_type": "execute_result"
        }
      ],
      "source": [
        "np.vstack((a1,a2))"
      ]
    },
    {
      "cell_type": "code",
      "execution_count": null,
      "id": "7a0c2a95",
      "metadata": {
        "id": "7a0c2a95",
        "outputId": "3b940eb3-3b4b-4b6f-c810-4cc2c9eb0575"
      },
      "outputs": [
        {
          "data": {
            "text/plain": [
              "array([[1, 1, 3, 3],\n",
              "       [2, 2, 4, 4]])"
            ]
          },
          "execution_count": 102,
          "metadata": {},
          "output_type": "execute_result"
        }
      ],
      "source": [
        "np.concatenate((a1,a2), axis=1)"
      ]
    },
    {
      "cell_type": "code",
      "execution_count": null,
      "id": "14499b88",
      "metadata": {
        "id": "14499b88",
        "outputId": "56920f68-211e-4337-b6a7-83b456d2c263"
      },
      "outputs": [
        {
          "data": {
            "text/plain": [
              "array([[1, 1, 3, 3],\n",
              "       [2, 2, 4, 4]])"
            ]
          },
          "execution_count": 103,
          "metadata": {},
          "output_type": "execute_result"
        }
      ],
      "source": [
        "np.hstack((a1,a2))"
      ]
    },
    {
      "cell_type": "code",
      "execution_count": null,
      "id": "fc1de4ca",
      "metadata": {
        "id": "fc1de4ca"
      },
      "outputs": [],
      "source": [
        "a=np.arange(1,15)"
      ]
    },
    {
      "cell_type": "code",
      "execution_count": null,
      "id": "f947654b",
      "metadata": {
        "id": "f947654b",
        "outputId": "6242500d-971e-488d-fcd4-a16cdc7058fd"
      },
      "outputs": [
        {
          "data": {
            "text/plain": [
              "array([[ 1,  2,  3,  4,  5,  6,  7],\n",
              "       [ 8,  9, 10, 11, 12, 13, 14]])"
            ]
          },
          "execution_count": 105,
          "metadata": {},
          "output_type": "execute_result"
        }
      ],
      "source": [
        "a.reshape(2,7)"
      ]
    },
    {
      "cell_type": "code",
      "execution_count": null,
      "id": "e6d5f1a6",
      "metadata": {
        "id": "e6d5f1a6",
        "outputId": "5f2d39a3-18dc-4467-bcb2-2c91f58cfa7e"
      },
      "outputs": [
        {
          "data": {
            "text/plain": [
              "array([ 1,  2,  3,  4,  5,  6,  7,  8,  9, 10, 11, 12, 13, 14])"
            ]
          },
          "execution_count": 106,
          "metadata": {},
          "output_type": "execute_result"
        }
      ],
      "source": [
        "a"
      ]
    },
    {
      "cell_type": "code",
      "execution_count": null,
      "id": "b03a5ba1",
      "metadata": {
        "id": "b03a5ba1",
        "outputId": "4e2e96ea-22dd-4d07-a9b6-fecd404b46bc"
      },
      "outputs": [
        {
          "data": {
            "text/plain": [
              "array([[ 1,  2,  3,  4,  5,  6,  7],\n",
              "       [ 8,  9, 10, 11, 12, 13, 14]])"
            ]
          },
          "execution_count": 107,
          "metadata": {},
          "output_type": "execute_result"
        }
      ],
      "source": [
        "np.arange(1,15).reshape(2,7)"
      ]
    },
    {
      "cell_type": "code",
      "execution_count": null,
      "id": "b269c788",
      "metadata": {
        "id": "b269c788"
      },
      "outputs": [],
      "source": [
        "x = np.arange(1, 25).reshape(2, 12)"
      ]
    },
    {
      "cell_type": "code",
      "execution_count": null,
      "id": "dd8d37f8",
      "metadata": {
        "id": "dd8d37f8",
        "outputId": "2cbe51b4-3788-42c5-ecdf-b31964b823f5"
      },
      "outputs": [
        {
          "data": {
            "text/plain": [
              "array([[ 1,  2,  3,  4,  5,  6,  7,  8,  9, 10, 11, 12],\n",
              "       [13, 14, 15, 16, 17, 18, 19, 20, 21, 22, 23, 24]])"
            ]
          },
          "execution_count": 109,
          "metadata": {},
          "output_type": "execute_result"
        }
      ],
      "source": [
        "x"
      ]
    },
    {
      "cell_type": "code",
      "execution_count": null,
      "id": "808e0b3d",
      "metadata": {
        "id": "808e0b3d",
        "outputId": "08ce6404-4f40-43ee-d396-777e9a4d3fab"
      },
      "outputs": [
        {
          "data": {
            "text/plain": [
              "array([[ 1,  2,  3,  4],\n",
              "       [13, 14, 15, 16]])"
            ]
          },
          "execution_count": 110,
          "metadata": {},
          "output_type": "execute_result"
        }
      ],
      "source": [
        "np.hsplit(x, 3)[0]"
      ]
    },
    {
      "cell_type": "code",
      "execution_count": null,
      "id": "a5434271",
      "metadata": {
        "id": "a5434271",
        "outputId": "9d141075-2b0d-443c-e164-1ecebd12c8e5"
      },
      "outputs": [
        {
          "data": {
            "text/plain": [
              "[array([[ 1,  2,  3],\n",
              "        [13, 14, 15]]),\n",
              " array([[ 4,  5,  6],\n",
              "        [16, 17, 18]]),\n",
              " array([[ 7,  8],\n",
              "        [19, 20]]),\n",
              " array([[ 9, 10, 11, 12],\n",
              "        [21, 22, 23, 24]])]"
            ]
          },
          "execution_count": 111,
          "metadata": {},
          "output_type": "execute_result"
        }
      ],
      "source": [
        "np.hsplit(x,(3,6,8))"
      ]
    },
    {
      "cell_type": "code",
      "execution_count": null,
      "id": "e5292c22",
      "metadata": {
        "id": "e5292c22"
      },
      "outputs": [],
      "source": [
        "a = np.array([[1, 2, 3, 4], [5, 6, 7, 8], [9, 10, 11, 12]])"
      ]
    },
    {
      "cell_type": "code",
      "execution_count": null,
      "id": "336096b1",
      "metadata": {
        "id": "336096b1",
        "outputId": "0d17f05b-173d-477b-b961-87cf4621ca04"
      },
      "outputs": [
        {
          "data": {
            "text/plain": [
              "array([[ 1,  2,  3,  4],\n",
              "       [ 5,  6,  7,  8],\n",
              "       [ 9, 10, 11, 12]])"
            ]
          },
          "execution_count": 113,
          "metadata": {},
          "output_type": "execute_result"
        }
      ],
      "source": [
        "a"
      ]
    },
    {
      "cell_type": "code",
      "execution_count": null,
      "id": "ebbf3f7a",
      "metadata": {
        "id": "ebbf3f7a",
        "outputId": "d4e58822-2962-42b0-ef5d-bbd042d518e7"
      },
      "outputs": [
        {
          "data": {
            "text/plain": [
              "12"
            ]
          },
          "execution_count": 114,
          "metadata": {},
          "output_type": "execute_result"
        }
      ],
      "source": [
        "a[2,3]"
      ]
    },
    {
      "cell_type": "code",
      "execution_count": null,
      "id": "61107d4c",
      "metadata": {
        "id": "61107d4c",
        "outputId": "c5c63b24-d999-45f7-bc9e-5a1b77afb200"
      },
      "outputs": [
        {
          "data": {
            "text/plain": [
              "array([ 9, 10, 11, 12])"
            ]
          },
          "execution_count": 115,
          "metadata": {},
          "output_type": "execute_result"
        }
      ],
      "source": [
        "a[2,:]"
      ]
    },
    {
      "cell_type": "code",
      "execution_count": null,
      "id": "2add3c4b",
      "metadata": {
        "id": "2add3c4b",
        "outputId": "04f2caa9-5fe5-487b-9ed0-11f455cb1fac"
      },
      "outputs": [
        {
          "data": {
            "text/plain": [
              "array([ 3,  7, 11])"
            ]
          },
          "execution_count": 116,
          "metadata": {},
          "output_type": "execute_result"
        }
      ],
      "source": [
        "a[:,2]"
      ]
    },
    {
      "cell_type": "code",
      "execution_count": null,
      "id": "f3460357",
      "metadata": {
        "id": "f3460357"
      },
      "outputs": [],
      "source": [
        "b1=a[0,:]"
      ]
    },
    {
      "cell_type": "code",
      "execution_count": null,
      "id": "dfbca5a5",
      "metadata": {
        "id": "dfbca5a5",
        "outputId": "f73c258c-58e3-445f-e95f-4a04a884a4ca"
      },
      "outputs": [
        {
          "data": {
            "text/plain": [
              "array([1, 2, 3, 4])"
            ]
          },
          "execution_count": 118,
          "metadata": {},
          "output_type": "execute_result"
        }
      ],
      "source": [
        "b1"
      ]
    },
    {
      "cell_type": "code",
      "execution_count": null,
      "id": "6cb4cf30",
      "metadata": {
        "id": "6cb4cf30"
      },
      "outputs": [],
      "source": [
        "b1[0]=99"
      ]
    },
    {
      "cell_type": "code",
      "execution_count": null,
      "id": "fa9b8baa",
      "metadata": {
        "id": "fa9b8baa",
        "outputId": "14e7eb7e-5183-4fc8-b191-7fded570045a"
      },
      "outputs": [
        {
          "data": {
            "text/plain": [
              "array([99,  2,  3,  4])"
            ]
          },
          "execution_count": 120,
          "metadata": {},
          "output_type": "execute_result"
        }
      ],
      "source": [
        "b1"
      ]
    },
    {
      "cell_type": "code",
      "execution_count": null,
      "id": "b43765dd",
      "metadata": {
        "id": "b43765dd",
        "outputId": "24603abe-f0f6-40ea-a822-9ecc5d4bdd5c"
      },
      "outputs": [
        {
          "data": {
            "text/plain": [
              "array([[99,  2,  3,  4],\n",
              "       [ 5,  6,  7,  8],\n",
              "       [ 9, 10, 11, 12]])"
            ]
          },
          "execution_count": 121,
          "metadata": {},
          "output_type": "execute_result"
        }
      ],
      "source": [
        "a"
      ]
    },
    {
      "cell_type": "code",
      "execution_count": null,
      "id": "e25bf42b",
      "metadata": {
        "id": "e25bf42b"
      },
      "outputs": [],
      "source": [
        "a = np.array([[1, 2, 3, 4], [5, 6, 7, 8], [9, 10, 11, 12]])"
      ]
    },
    {
      "cell_type": "code",
      "execution_count": null,
      "id": "0b95802c",
      "metadata": {
        "id": "0b95802c"
      },
      "outputs": [],
      "source": [
        "b1=a[0,:].copy()"
      ]
    },
    {
      "cell_type": "code",
      "execution_count": null,
      "id": "631a5c2f",
      "metadata": {
        "id": "631a5c2f",
        "outputId": "95a6f6e0-2217-42b1-b058-4fcf71433a30"
      },
      "outputs": [
        {
          "data": {
            "text/plain": [
              "array([1, 2, 3, 4])"
            ]
          },
          "execution_count": 124,
          "metadata": {},
          "output_type": "execute_result"
        }
      ],
      "source": [
        "b1"
      ]
    },
    {
      "cell_type": "code",
      "execution_count": null,
      "id": "cd528b5a",
      "metadata": {
        "id": "cd528b5a"
      },
      "outputs": [],
      "source": [
        "b1[0]=99"
      ]
    },
    {
      "cell_type": "code",
      "execution_count": null,
      "id": "b7944d03",
      "metadata": {
        "id": "b7944d03",
        "outputId": "50c88488-1672-4b4d-c20c-bc33ef8beb76"
      },
      "outputs": [
        {
          "data": {
            "text/plain": [
              "array([99,  2,  3,  4])"
            ]
          },
          "execution_count": 126,
          "metadata": {},
          "output_type": "execute_result"
        }
      ],
      "source": [
        "b1"
      ]
    },
    {
      "cell_type": "code",
      "execution_count": null,
      "id": "b91fac96",
      "metadata": {
        "id": "b91fac96",
        "outputId": "86b03383-6214-4b84-f875-0d6809c55f24"
      },
      "outputs": [
        {
          "data": {
            "text/plain": [
              "array([[ 1,  2,  3,  4],\n",
              "       [ 5,  6,  7,  8],\n",
              "       [ 9, 10, 11, 12]])"
            ]
          },
          "execution_count": 127,
          "metadata": {},
          "output_type": "execute_result"
        }
      ],
      "source": [
        "a"
      ]
    },
    {
      "cell_type": "code",
      "execution_count": null,
      "id": "bb03d76c",
      "metadata": {
        "id": "bb03d76c"
      },
      "outputs": [],
      "source": [
        "data=np.array([1,2])"
      ]
    },
    {
      "cell_type": "code",
      "execution_count": null,
      "id": "f36599f3",
      "metadata": {
        "id": "f36599f3"
      },
      "outputs": [],
      "source": [
        "ones=np.ones(2, dtype=int)"
      ]
    },
    {
      "cell_type": "code",
      "execution_count": null,
      "id": "16eb858b",
      "metadata": {
        "id": "16eb858b",
        "outputId": "de10aac7-b41c-45d2-8499-610ab6979ed9"
      },
      "outputs": [
        {
          "data": {
            "text/plain": [
              "array([1, 2])"
            ]
          },
          "execution_count": 130,
          "metadata": {},
          "output_type": "execute_result"
        }
      ],
      "source": [
        "data"
      ]
    },
    {
      "cell_type": "code",
      "execution_count": null,
      "id": "4e510f26",
      "metadata": {
        "id": "4e510f26",
        "outputId": "c79fe0a7-33fd-4d75-8ccd-6f59c912cb9e"
      },
      "outputs": [
        {
          "data": {
            "text/plain": [
              "array([1, 1])"
            ]
          },
          "execution_count": 131,
          "metadata": {},
          "output_type": "execute_result"
        }
      ],
      "source": [
        "ones"
      ]
    },
    {
      "cell_type": "code",
      "execution_count": null,
      "id": "c410fff6",
      "metadata": {
        "id": "c410fff6",
        "outputId": "a3697db8-89ac-49e7-d540-36854898c5d3"
      },
      "outputs": [
        {
          "data": {
            "text/plain": [
              "array([2, 3])"
            ]
          },
          "execution_count": 132,
          "metadata": {},
          "output_type": "execute_result"
        }
      ],
      "source": [
        "data+ones"
      ]
    },
    {
      "cell_type": "code",
      "execution_count": null,
      "id": "f45bf932",
      "metadata": {
        "id": "f45bf932",
        "outputId": "5f0d6441-462e-4efe-b236-725e16da1ee1"
      },
      "outputs": [
        {
          "data": {
            "text/plain": [
              "array([0, 1])"
            ]
          },
          "execution_count": 133,
          "metadata": {},
          "output_type": "execute_result"
        }
      ],
      "source": [
        "data-ones"
      ]
    },
    {
      "cell_type": "code",
      "execution_count": null,
      "id": "0be41044",
      "metadata": {
        "id": "0be41044",
        "outputId": "fe7b83e7-b10c-470a-a262-ad361c7a75c8"
      },
      "outputs": [
        {
          "data": {
            "text/plain": [
              "array([1, 2])"
            ]
          },
          "execution_count": 134,
          "metadata": {},
          "output_type": "execute_result"
        }
      ],
      "source": [
        "data*ones"
      ]
    },
    {
      "cell_type": "code",
      "execution_count": null,
      "id": "16e87258",
      "metadata": {
        "id": "16e87258",
        "outputId": "1814c0f4-e8a3-4739-dece-6e746581f23a"
      },
      "outputs": [
        {
          "data": {
            "text/plain": [
              "array([1., 2.])"
            ]
          },
          "execution_count": 135,
          "metadata": {},
          "output_type": "execute_result"
        }
      ],
      "source": [
        "data/ones"
      ]
    },
    {
      "cell_type": "code",
      "execution_count": null,
      "id": "8e0cb1e9",
      "metadata": {
        "id": "8e0cb1e9"
      },
      "outputs": [],
      "source": [
        "a = np.array([1, 2, 3, 4])"
      ]
    },
    {
      "cell_type": "code",
      "execution_count": null,
      "id": "db6f077d",
      "metadata": {
        "id": "db6f077d",
        "outputId": "2851f110-e9a3-4c01-c6fb-2dffc5f20db9"
      },
      "outputs": [
        {
          "data": {
            "text/plain": [
              "10"
            ]
          },
          "execution_count": 137,
          "metadata": {},
          "output_type": "execute_result"
        }
      ],
      "source": [
        "a.sum()"
      ]
    },
    {
      "cell_type": "code",
      "execution_count": null,
      "id": "eabcf3ae",
      "metadata": {
        "id": "eabcf3ae",
        "outputId": "a286d692-21f3-42f3-ddc3-cfaebfbea5ae"
      },
      "outputs": [
        {
          "data": {
            "text/plain": [
              "array([1, 2, 3, 4])"
            ]
          },
          "execution_count": 138,
          "metadata": {},
          "output_type": "execute_result"
        }
      ],
      "source": [
        "a"
      ]
    },
    {
      "cell_type": "code",
      "execution_count": null,
      "id": "4bf429dd",
      "metadata": {
        "id": "4bf429dd"
      },
      "outputs": [],
      "source": [
        "b=[1,2,3,4]"
      ]
    },
    {
      "cell_type": "code",
      "execution_count": null,
      "id": "6cfc238a",
      "metadata": {
        "id": "6cfc238a",
        "outputId": "741d11c5-50fb-40d1-d0e6-8460445274ba"
      },
      "outputs": [
        {
          "data": {
            "text/plain": [
              "4"
            ]
          },
          "execution_count": 140,
          "metadata": {},
          "output_type": "execute_result"
        }
      ],
      "source": [
        "len(b)"
      ]
    },
    {
      "cell_type": "code",
      "execution_count": null,
      "id": "21b91eb5",
      "metadata": {
        "id": "21b91eb5"
      },
      "outputs": [],
      "source": [
        "b.sort()"
      ]
    },
    {
      "cell_type": "code",
      "execution_count": null,
      "id": "68208856",
      "metadata": {
        "id": "68208856",
        "outputId": "1aa1cf13-1cc9-4fbb-b962-9d1a06a80983"
      },
      "outputs": [
        {
          "data": {
            "text/plain": [
              "[1, 2, 3, 4]"
            ]
          },
          "execution_count": 142,
          "metadata": {},
          "output_type": "execute_result"
        }
      ],
      "source": [
        "b"
      ]
    },
    {
      "cell_type": "code",
      "execution_count": null,
      "id": "7ef4a243",
      "metadata": {
        "id": "7ef4a243"
      },
      "outputs": [],
      "source": [
        "b=np.array([[1,1],[2,2]])"
      ]
    },
    {
      "cell_type": "code",
      "execution_count": null,
      "id": "b1c7bc33",
      "metadata": {
        "id": "b1c7bc33",
        "outputId": "7c594665-f3e8-4634-fe14-b74d14e46925"
      },
      "outputs": [
        {
          "data": {
            "text/plain": [
              "6"
            ]
          },
          "execution_count": 144,
          "metadata": {},
          "output_type": "execute_result"
        }
      ],
      "source": [
        "b.sum()"
      ]
    },
    {
      "cell_type": "code",
      "execution_count": null,
      "id": "d6b95a10",
      "metadata": {
        "id": "d6b95a10",
        "outputId": "6515b69f-b5a9-4f95-fe2e-8c6f143521e1"
      },
      "outputs": [
        {
          "data": {
            "text/plain": [
              "array([3, 3])"
            ]
          },
          "execution_count": 145,
          "metadata": {},
          "output_type": "execute_result"
        }
      ],
      "source": [
        "b.sum(axis=0)"
      ]
    },
    {
      "cell_type": "code",
      "execution_count": null,
      "id": "cdab20be",
      "metadata": {
        "id": "cdab20be",
        "outputId": "f59c352a-5db4-4395-95b3-ab9613d5333d"
      },
      "outputs": [
        {
          "data": {
            "text/plain": [
              "array([[1, 1],\n",
              "       [2, 2]])"
            ]
          },
          "execution_count": 146,
          "metadata": {},
          "output_type": "execute_result"
        }
      ],
      "source": [
        "b"
      ]
    },
    {
      "cell_type": "code",
      "execution_count": null,
      "id": "d853002e",
      "metadata": {
        "id": "d853002e",
        "outputId": "4d899138-ed56-45e2-ec9e-de7296ecfe40"
      },
      "outputs": [
        {
          "data": {
            "text/plain": [
              "array([2, 4])"
            ]
          },
          "execution_count": 147,
          "metadata": {},
          "output_type": "execute_result"
        }
      ],
      "source": [
        "b.sum(axis=1)"
      ]
    },
    {
      "cell_type": "code",
      "execution_count": null,
      "id": "baf57558",
      "metadata": {
        "id": "baf57558"
      },
      "outputs": [],
      "source": [
        "data=np.array([1.0,2.0])"
      ]
    },
    {
      "cell_type": "code",
      "execution_count": null,
      "id": "bfc0a6e9",
      "metadata": {
        "id": "bfc0a6e9",
        "outputId": "827e1b79-d11f-425f-957d-f7217fb0b49d"
      },
      "outputs": [
        {
          "data": {
            "text/plain": [
              "array([1.6, 3.2])"
            ]
          },
          "execution_count": 149,
          "metadata": {},
          "output_type": "execute_result"
        }
      ],
      "source": [
        "data*1.6"
      ]
    },
    {
      "cell_type": "code",
      "execution_count": null,
      "id": "92041228",
      "metadata": {
        "id": "92041228",
        "outputId": "897bfe32-f809-4c15-b9ac-f6fb71a73d27"
      },
      "outputs": [
        {
          "data": {
            "text/plain": [
              "array([1, 2, 3, 4])"
            ]
          },
          "execution_count": 150,
          "metadata": {},
          "output_type": "execute_result"
        }
      ],
      "source": [
        "a"
      ]
    },
    {
      "cell_type": "code",
      "execution_count": null,
      "id": "8189d218",
      "metadata": {
        "id": "8189d218",
        "outputId": "e83162bc-425b-4bf1-b713-3bd20d0f14a5"
      },
      "outputs": [
        {
          "data": {
            "text/plain": [
              "4"
            ]
          },
          "execution_count": 151,
          "metadata": {},
          "output_type": "execute_result"
        }
      ],
      "source": [
        "a.max()"
      ]
    },
    {
      "cell_type": "code",
      "execution_count": null,
      "id": "0c3d2f69",
      "metadata": {
        "id": "0c3d2f69",
        "outputId": "483c1997-4b93-4d92-88f7-6c79431dc2c7"
      },
      "outputs": [
        {
          "data": {
            "text/plain": [
              "1"
            ]
          },
          "execution_count": 152,
          "metadata": {},
          "output_type": "execute_result"
        }
      ],
      "source": [
        "a.min()"
      ]
    },
    {
      "cell_type": "code",
      "execution_count": null,
      "id": "2ee2c2a2",
      "metadata": {
        "id": "2ee2c2a2",
        "outputId": "9edd4240-c98a-4145-885b-834cb415d229"
      },
      "outputs": [
        {
          "data": {
            "text/plain": [
              "10"
            ]
          },
          "execution_count": 153,
          "metadata": {},
          "output_type": "execute_result"
        }
      ],
      "source": [
        "a.sum()"
      ]
    },
    {
      "cell_type": "code",
      "execution_count": null,
      "id": "0a70f777",
      "metadata": {
        "id": "0a70f777",
        "outputId": "b2b38279-416f-4176-80a2-a614add79c77"
      },
      "outputs": [
        {
          "data": {
            "text/plain": [
              "array([[1, 1],\n",
              "       [2, 2]])"
            ]
          },
          "execution_count": 154,
          "metadata": {},
          "output_type": "execute_result"
        }
      ],
      "source": [
        "b"
      ]
    },
    {
      "cell_type": "code",
      "execution_count": null,
      "id": "0caec182",
      "metadata": {
        "id": "0caec182"
      },
      "outputs": [],
      "source": [
        "b = np.array([[1, 4],[2, 7]])"
      ]
    },
    {
      "cell_type": "code",
      "execution_count": null,
      "id": "86b47a5b",
      "metadata": {
        "id": "86b47a5b",
        "outputId": "67b2b332-8c8c-4431-c01c-824e27082904"
      },
      "outputs": [
        {
          "data": {
            "text/plain": [
              "array([1, 4])"
            ]
          },
          "execution_count": 156,
          "metadata": {},
          "output_type": "execute_result"
        }
      ],
      "source": [
        "b.min(axis=0)  #행을 기준으로"
      ]
    },
    {
      "cell_type": "code",
      "execution_count": null,
      "id": "c463429f",
      "metadata": {
        "id": "c463429f",
        "outputId": "115fdc8e-4ef0-414e-af9f-bda09de6e4a9"
      },
      "outputs": [
        {
          "data": {
            "text/plain": [
              "7"
            ]
          },
          "execution_count": 157,
          "metadata": {},
          "output_type": "execute_result"
        }
      ],
      "source": [
        "b.max()"
      ]
    },
    {
      "cell_type": "code",
      "execution_count": null,
      "id": "22d546df",
      "metadata": {
        "id": "22d546df",
        "outputId": "28a6a369-4b78-4f1f-90a3-65637b90799c"
      },
      "outputs": [
        {
          "data": {
            "text/plain": [
              "14"
            ]
          },
          "execution_count": 158,
          "metadata": {},
          "output_type": "execute_result"
        }
      ],
      "source": [
        "b.sum()"
      ]
    },
    {
      "cell_type": "code",
      "execution_count": null,
      "id": "ad8bb2aa",
      "metadata": {
        "id": "ad8bb2aa"
      },
      "outputs": [],
      "source": [
        "data = np.array([[1, 2], [3, 4], [5, 6]])"
      ]
    },
    {
      "cell_type": "code",
      "execution_count": null,
      "id": "5ee730ea",
      "metadata": {
        "id": "5ee730ea",
        "outputId": "27cc9925-0c5e-4691-b0fd-3573014da11d"
      },
      "outputs": [
        {
          "data": {
            "text/plain": [
              "2"
            ]
          },
          "execution_count": 160,
          "metadata": {},
          "output_type": "execute_result"
        }
      ],
      "source": [
        "data[0,1]"
      ]
    },
    {
      "cell_type": "code",
      "execution_count": null,
      "id": "bdcac75b",
      "metadata": {
        "id": "bdcac75b",
        "outputId": "7270dc9d-6aa9-4078-e98f-08154f06be45"
      },
      "outputs": [
        {
          "data": {
            "text/plain": [
              "array([[3, 4],\n",
              "       [5, 6]])"
            ]
          },
          "execution_count": 161,
          "metadata": {},
          "output_type": "execute_result"
        }
      ],
      "source": [
        "data[1:3]"
      ]
    },
    {
      "cell_type": "code",
      "execution_count": null,
      "id": "e2f56082",
      "metadata": {
        "id": "e2f56082",
        "outputId": "6b78e644-15f1-4d0b-cccd-4a2046dd28ad"
      },
      "outputs": [
        {
          "data": {
            "text/plain": [
              "array([1, 3])"
            ]
          },
          "execution_count": 162,
          "metadata": {},
          "output_type": "execute_result"
        }
      ],
      "source": [
        "data[0:2,0]"
      ]
    },
    {
      "cell_type": "code",
      "execution_count": null,
      "id": "8c68444d",
      "metadata": {
        "id": "8c68444d",
        "outputId": "10e04c48-0bdf-4293-f147-330fd23fad60"
      },
      "outputs": [
        {
          "data": {
            "text/plain": [
              "array([5, 6])"
            ]
          },
          "execution_count": 163,
          "metadata": {},
          "output_type": "execute_result"
        }
      ],
      "source": [
        "data.max(axis=0)"
      ]
    },
    {
      "cell_type": "code",
      "execution_count": null,
      "id": "65620f2f",
      "metadata": {
        "id": "65620f2f",
        "outputId": "7df5573d-f0f2-4e6b-b1b4-85604ffd90c1"
      },
      "outputs": [
        {
          "data": {
            "text/plain": [
              "array([2, 4, 6])"
            ]
          },
          "execution_count": 164,
          "metadata": {},
          "output_type": "execute_result"
        }
      ],
      "source": [
        "data.max(axis=1)"
      ]
    },
    {
      "cell_type": "code",
      "execution_count": null,
      "id": "3e0dcd84",
      "metadata": {
        "id": "3e0dcd84"
      },
      "outputs": [],
      "source": [
        "data = np.array([[1, 2], [3, 4]])\n",
        "ones = np.array([[1, 1], [1, 1]])"
      ]
    },
    {
      "cell_type": "code",
      "execution_count": null,
      "id": "a29a2eab",
      "metadata": {
        "id": "a29a2eab",
        "outputId": "77920d8f-febb-4c64-fc62-365e94034f0c"
      },
      "outputs": [
        {
          "data": {
            "text/plain": [
              "array([[2, 3],\n",
              "       [4, 5]])"
            ]
          },
          "execution_count": 166,
          "metadata": {},
          "output_type": "execute_result"
        }
      ],
      "source": [
        "data + ones"
      ]
    },
    {
      "cell_type": "code",
      "execution_count": null,
      "id": "8b1e6dba",
      "metadata": {
        "id": "8b1e6dba"
      },
      "outputs": [],
      "source": [
        "data = np.array([[1, 2], [3, 4], [5, 6]])\n",
        "ones_row = np.array([[1, 1]])"
      ]
    },
    {
      "cell_type": "code",
      "execution_count": null,
      "id": "93880d09",
      "metadata": {
        "id": "93880d09",
        "outputId": "29b136d8-a999-4fd3-ac1b-c789caf38970"
      },
      "outputs": [
        {
          "data": {
            "text/plain": [
              "array([[2, 3],\n",
              "       [4, 5],\n",
              "       [6, 7]])"
            ]
          },
          "execution_count": 168,
          "metadata": {},
          "output_type": "execute_result"
        }
      ],
      "source": [
        "data + ones_row"
      ]
    },
    {
      "cell_type": "code",
      "execution_count": null,
      "id": "4e7fc1c4",
      "metadata": {
        "id": "4e7fc1c4",
        "outputId": "56b9f1ec-6a97-4fe2-f2bf-bc35b8cf2d0e"
      },
      "outputs": [
        {
          "data": {
            "text/plain": [
              "array([[[1., 1.],\n",
              "        [1., 1.],\n",
              "        [1., 1.]],\n",
              "\n",
              "       [[1., 1.],\n",
              "        [1., 1.],\n",
              "        [1., 1.]],\n",
              "\n",
              "       [[1., 1.],\n",
              "        [1., 1.],\n",
              "        [1., 1.]],\n",
              "\n",
              "       [[1., 1.],\n",
              "        [1., 1.],\n",
              "        [1., 1.]]])"
            ]
          },
          "execution_count": 169,
          "metadata": {},
          "output_type": "execute_result"
        }
      ],
      "source": [
        "np.ones((4, 3, 2))"
      ]
    },
    {
      "cell_type": "code",
      "execution_count": null,
      "id": "396a1147",
      "metadata": {
        "id": "396a1147",
        "outputId": "1f60ff90-834b-400e-82af-2864444a7fd9"
      },
      "outputs": [
        {
          "data": {
            "text/plain": [
              "array([[1, 1],\n",
              "       [1, 1]])"
            ]
          },
          "execution_count": 170,
          "metadata": {},
          "output_type": "execute_result"
        }
      ],
      "source": [
        "ones"
      ]
    },
    {
      "cell_type": "code",
      "execution_count": null,
      "id": "b384cf1e",
      "metadata": {
        "id": "b384cf1e",
        "outputId": "878e8bae-b0dc-4b8a-97b1-ba73445ec67c"
      },
      "outputs": [
        {
          "data": {
            "text/plain": [
              "array([1., 1., 1.])"
            ]
          },
          "execution_count": 171,
          "metadata": {},
          "output_type": "execute_result"
        }
      ],
      "source": [
        "np.ones(3)"
      ]
    },
    {
      "cell_type": "code",
      "execution_count": null,
      "id": "c7f5a12c",
      "metadata": {
        "id": "c7f5a12c",
        "outputId": "d7ae3dc5-1458-4273-f77b-0cdd1a78ffbc"
      },
      "outputs": [
        {
          "data": {
            "text/plain": [
              "array([0., 0., 0.])"
            ]
          },
          "execution_count": 172,
          "metadata": {},
          "output_type": "execute_result"
        }
      ],
      "source": [
        "np.zeros(3)"
      ]
    },
    {
      "cell_type": "code",
      "execution_count": null,
      "id": "71475368",
      "metadata": {
        "id": "71475368"
      },
      "outputs": [],
      "source": [
        "rng = np.random.default_rng() "
      ]
    },
    {
      "cell_type": "code",
      "execution_count": null,
      "id": "1c49c041",
      "metadata": {
        "id": "1c49c041",
        "outputId": "1545d430-c095-4081-9834-eb0b30e2274a"
      },
      "outputs": [
        {
          "data": {
            "text/plain": [
              "array([0.3611222 , 0.18683089, 0.90291969])"
            ]
          },
          "execution_count": 174,
          "metadata": {},
          "output_type": "execute_result"
        }
      ],
      "source": [
        "rng.random(3) "
      ]
    },
    {
      "cell_type": "code",
      "execution_count": null,
      "id": "bcc89330",
      "metadata": {
        "id": "bcc89330",
        "outputId": "6922be67-5c66-4206-af29-4ac648668097"
      },
      "outputs": [
        {
          "data": {
            "text/plain": [
              "array([[1., 1.],\n",
              "       [1., 1.],\n",
              "       [1., 1.]])"
            ]
          },
          "execution_count": 175,
          "metadata": {},
          "output_type": "execute_result"
        }
      ],
      "source": [
        "np.ones((3, 2))"
      ]
    },
    {
      "cell_type": "code",
      "execution_count": null,
      "id": "4e55692f",
      "metadata": {
        "id": "4e55692f",
        "outputId": "0aa21e4f-8ce7-4045-ed91-2e1223ee836b"
      },
      "outputs": [
        {
          "data": {
            "text/plain": [
              "array([[0., 0.],\n",
              "       [0., 0.],\n",
              "       [0., 0.]])"
            ]
          },
          "execution_count": 176,
          "metadata": {},
          "output_type": "execute_result"
        }
      ],
      "source": [
        "np.zeros((3, 2))"
      ]
    },
    {
      "cell_type": "code",
      "execution_count": null,
      "id": "1e438281",
      "metadata": {
        "id": "1e438281",
        "outputId": "44d8e5a5-1dd9-48eb-94d6-d4b96c93ec9f"
      },
      "outputs": [
        {
          "data": {
            "text/plain": [
              "array([[0.33888846, 0.37190545],\n",
              "       [0.33231637, 0.43230143],\n",
              "       [0.30244148, 0.27413257]])"
            ]
          },
          "execution_count": 177,
          "metadata": {},
          "output_type": "execute_result"
        }
      ],
      "source": [
        "rng.random((3, 2)) "
      ]
    },
    {
      "cell_type": "code",
      "execution_count": null,
      "id": "29c5fc45",
      "metadata": {
        "id": "29c5fc45",
        "outputId": "07b185e0-bee9-4f27-d79e-e502241ad914"
      },
      "outputs": [
        {
          "data": {
            "text/plain": [
              "Generator(PCG64) at 0x1998E9F5AC0"
            ]
          },
          "execution_count": 178,
          "metadata": {},
          "output_type": "execute_result"
        }
      ],
      "source": [
        "rng"
      ]
    },
    {
      "cell_type": "code",
      "execution_count": null,
      "id": "f8d1c669",
      "metadata": {
        "id": "f8d1c669",
        "outputId": "81edbd76-d93d-4787-edea-7b653903bc89"
      },
      "outputs": [
        {
          "data": {
            "text/plain": [
              "array([[4, 4, 0, 0],\n",
              "       [4, 2, 1, 0]], dtype=int64)"
            ]
          },
          "execution_count": 179,
          "metadata": {},
          "output_type": "execute_result"
        }
      ],
      "source": [
        "rng.integers(5, size=(2, 4)) "
      ]
    },
    {
      "cell_type": "code",
      "execution_count": null,
      "id": "650593df",
      "metadata": {
        "id": "650593df"
      },
      "outputs": [],
      "source": [
        "a = np.array([11, 11, 12, 13, 14, 15, 16, 17, 12, 13, 11, 14, 18, 19, 20])"
      ]
    },
    {
      "cell_type": "code",
      "execution_count": null,
      "id": "fb99b937",
      "metadata": {
        "id": "fb99b937"
      },
      "outputs": [],
      "source": [
        "unique_values = np.unique(a)"
      ]
    },
    {
      "cell_type": "code",
      "execution_count": null,
      "id": "8292b052",
      "metadata": {
        "id": "8292b052",
        "outputId": "acbbe9a2-9e90-4b9f-a109-5edb58227195"
      },
      "outputs": [
        {
          "data": {
            "text/plain": [
              "array([11, 12, 13, 14, 15, 16, 17, 18, 19, 20])"
            ]
          },
          "execution_count": 182,
          "metadata": {},
          "output_type": "execute_result"
        }
      ],
      "source": [
        "np.unique(a)"
      ]
    },
    {
      "cell_type": "code",
      "execution_count": null,
      "id": "f6febf5f",
      "metadata": {
        "id": "f6febf5f",
        "outputId": "b2b9a095-0282-4994-ff4a-66ef559ca0f6"
      },
      "outputs": [
        {
          "name": "stdout",
          "output_type": "stream",
          "text": [
            "[11 12 13 14 15 16 17 18 19 20]\n"
          ]
        }
      ],
      "source": [
        "print(unique_values)"
      ]
    },
    {
      "cell_type": "code",
      "execution_count": null,
      "id": "eebf9f57",
      "metadata": {
        "id": "eebf9f57"
      },
      "outputs": [],
      "source": [
        "unique_values, indices_list = np.unique(a, return_index=True)"
      ]
    },
    {
      "cell_type": "code",
      "execution_count": null,
      "id": "8235ec1b",
      "metadata": {
        "id": "8235ec1b",
        "outputId": "a724247d-d506-44d6-94d4-78863d22fe85"
      },
      "outputs": [
        {
          "name": "stdout",
          "output_type": "stream",
          "text": [
            "[ 0  2  3  4  5  6  7 12 13 14]\n"
          ]
        }
      ],
      "source": [
        "print(indices_list)"
      ]
    },
    {
      "cell_type": "code",
      "execution_count": null,
      "id": "a1bb2b0c",
      "metadata": {
        "id": "a1bb2b0c"
      },
      "outputs": [],
      "source": [
        "unique_values, occurrenced_count = np.unique(a, return_counts=True)"
      ]
    },
    {
      "cell_type": "code",
      "execution_count": null,
      "id": "fdf7c7f5",
      "metadata": {
        "id": "fdf7c7f5",
        "outputId": "5c993ed1-54c7-4233-f088-6ce15ca1535a"
      },
      "outputs": [
        {
          "name": "stdout",
          "output_type": "stream",
          "text": [
            "[3 2 2 2 1 1 1 1 1 1]\n"
          ]
        }
      ],
      "source": [
        "print(occurrenced_count)"
      ]
    },
    {
      "cell_type": "code",
      "execution_count": null,
      "id": "97c97867",
      "metadata": {
        "id": "97c97867"
      },
      "outputs": [],
      "source": [
        "a_2d = np.array([[1, 2, 3, 4], [5, 6, 7, 8], [9, 10, 11, 12], [1, 2, 3, 4]])"
      ]
    },
    {
      "cell_type": "code",
      "execution_count": null,
      "id": "b482aa67",
      "metadata": {
        "id": "b482aa67"
      },
      "outputs": [],
      "source": [
        "unique_values = np.unique(a_2d)"
      ]
    },
    {
      "cell_type": "code",
      "execution_count": null,
      "id": "b1e4396c",
      "metadata": {
        "id": "b1e4396c",
        "outputId": "f2dac0d9-24d3-4a16-bd8f-387eb49ef5b2"
      },
      "outputs": [
        {
          "name": "stdout",
          "output_type": "stream",
          "text": [
            "[ 1  2  3  4  5  6  7  8  9 10 11 12]\n"
          ]
        }
      ],
      "source": [
        "print(unique_values)"
      ]
    },
    {
      "cell_type": "code",
      "execution_count": null,
      "id": "40583745",
      "metadata": {
        "id": "40583745"
      },
      "outputs": [],
      "source": [
        "unique_rows = np.unique(a_2d, axis=0)"
      ]
    },
    {
      "cell_type": "code",
      "execution_count": null,
      "id": "b8993edf",
      "metadata": {
        "id": "b8993edf",
        "outputId": "6a1a029d-2803-4f6b-ce29-8c6e58689ba6"
      },
      "outputs": [
        {
          "name": "stdout",
          "output_type": "stream",
          "text": [
            "[[ 1  2  3  4]\n",
            " [ 5  6  7  8]\n",
            " [ 9 10 11 12]]\n"
          ]
        }
      ],
      "source": [
        "print(unique_rows)"
      ]
    },
    {
      "cell_type": "code",
      "execution_count": null,
      "id": "60b8cd32",
      "metadata": {
        "id": "60b8cd32"
      },
      "outputs": [],
      "source": [
        "unique_rows, indices, occurrence_count = np.unique(a_2d, axis=0, return_counts=True, return_index=True)"
      ]
    },
    {
      "cell_type": "code",
      "execution_count": null,
      "id": "9d8643f7",
      "metadata": {
        "id": "9d8643f7",
        "outputId": "0b2fdb21-5be4-496c-873f-378dcdd6d215"
      },
      "outputs": [
        {
          "name": "stdout",
          "output_type": "stream",
          "text": [
            "[[ 1  2  3  4]\n",
            " [ 5  6  7  8]\n",
            " [ 9 10 11 12]]\n"
          ]
        }
      ],
      "source": [
        "print(unique_rows)"
      ]
    },
    {
      "cell_type": "code",
      "execution_count": null,
      "id": "9995072a",
      "metadata": {
        "id": "9995072a",
        "outputId": "c6551d5d-572c-411c-b9da-369520ec99fb"
      },
      "outputs": [
        {
          "name": "stdout",
          "output_type": "stream",
          "text": [
            "[0 1 2]\n"
          ]
        }
      ],
      "source": [
        "print(indices)"
      ]
    },
    {
      "cell_type": "code",
      "execution_count": null,
      "id": "ee8e2637",
      "metadata": {
        "id": "ee8e2637",
        "outputId": "986cc2d7-f98a-4a0b-f72b-aa420c638c17"
      },
      "outputs": [
        {
          "name": "stdout",
          "output_type": "stream",
          "text": [
            "[2 1 1]\n"
          ]
        }
      ],
      "source": [
        "print(occurrence_count)"
      ]
    },
    {
      "cell_type": "code",
      "execution_count": null,
      "id": "bdfdb18c",
      "metadata": {
        "id": "bdfdb18c",
        "outputId": "b5f42ebd-48e3-4e9e-d663-0c86f3dc044b"
      },
      "outputs": [
        {
          "data": {
            "text/plain": [
              "array([[1, 2, 3],\n",
              "       [4, 5, 6]])"
            ]
          },
          "execution_count": 197,
          "metadata": {},
          "output_type": "execute_result"
        }
      ],
      "source": [
        "data.reshape(2, 3)"
      ]
    },
    {
      "cell_type": "code",
      "execution_count": null,
      "id": "19b658b1",
      "metadata": {
        "id": "19b658b1",
        "outputId": "18186505-33f8-42da-a87b-ed910b201e3d"
      },
      "outputs": [
        {
          "data": {
            "text/plain": [
              "array([[1, 2],\n",
              "       [3, 4],\n",
              "       [5, 6]])"
            ]
          },
          "execution_count": 198,
          "metadata": {},
          "output_type": "execute_result"
        }
      ],
      "source": [
        "data.reshape(3, 2)"
      ]
    },
    {
      "cell_type": "code",
      "execution_count": null,
      "id": "35c46076",
      "metadata": {
        "id": "35c46076"
      },
      "outputs": [],
      "source": [
        "arr = np.arange(6).reshape((2, 3))"
      ]
    },
    {
      "cell_type": "code",
      "execution_count": null,
      "id": "df0c46a4",
      "metadata": {
        "id": "df0c46a4",
        "outputId": "498dbc0c-1e92-43f2-9f29-1cede864cc4a"
      },
      "outputs": [
        {
          "data": {
            "text/plain": [
              "array([[0, 1, 2],\n",
              "       [3, 4, 5]])"
            ]
          },
          "execution_count": 200,
          "metadata": {},
          "output_type": "execute_result"
        }
      ],
      "source": [
        "arr"
      ]
    },
    {
      "cell_type": "code",
      "execution_count": null,
      "id": "47eeabb3",
      "metadata": {
        "id": "47eeabb3",
        "outputId": "c65e43db-0158-46c3-aa27-e51da20a5a68"
      },
      "outputs": [
        {
          "data": {
            "text/plain": [
              "array([[0, 3],\n",
              "       [1, 4],\n",
              "       [2, 5]])"
            ]
          },
          "execution_count": 201,
          "metadata": {},
          "output_type": "execute_result"
        }
      ],
      "source": [
        "arr.transpose()"
      ]
    },
    {
      "cell_type": "code",
      "execution_count": null,
      "id": "72883c3b",
      "metadata": {
        "id": "72883c3b",
        "outputId": "59ff2733-c707-4f94-ef1b-2cec118dad85"
      },
      "outputs": [
        {
          "data": {
            "text/plain": [
              "array([[0, 3],\n",
              "       [1, 4],\n",
              "       [2, 5]])"
            ]
          },
          "execution_count": 202,
          "metadata": {},
          "output_type": "execute_result"
        }
      ],
      "source": [
        "arr.T"
      ]
    },
    {
      "cell_type": "code",
      "execution_count": null,
      "id": "b919c260",
      "metadata": {
        "id": "b919c260"
      },
      "outputs": [],
      "source": [
        "arr = np.array([1, 2, 3, 4, 5, 6, 7, 8])"
      ]
    },
    {
      "cell_type": "code",
      "execution_count": null,
      "id": "2fcba314",
      "metadata": {
        "id": "2fcba314"
      },
      "outputs": [],
      "source": [
        "reversed_arr = np.flip(arr)"
      ]
    },
    {
      "cell_type": "code",
      "execution_count": null,
      "id": "2795caa0",
      "metadata": {
        "id": "2795caa0",
        "outputId": "9f793c98-530d-4802-c37d-5ed43feff110"
      },
      "outputs": [
        {
          "data": {
            "text/plain": [
              "array([8, 7, 6, 5, 4, 3, 2, 1])"
            ]
          },
          "execution_count": 205,
          "metadata": {},
          "output_type": "execute_result"
        }
      ],
      "source": [
        "reversed_arr"
      ]
    },
    {
      "cell_type": "code",
      "execution_count": null,
      "id": "63debf03",
      "metadata": {
        "id": "63debf03",
        "outputId": "af0625dc-cc7c-4ef4-b7e2-7be5b4709871"
      },
      "outputs": [
        {
          "name": "stdout",
          "output_type": "stream",
          "text": [
            "Reversed Array:  [8 7 6 5 4 3 2 1]\n"
          ]
        }
      ],
      "source": [
        "print('Reversed Array: ', reversed_arr)"
      ]
    },
    {
      "cell_type": "code",
      "execution_count": null,
      "id": "10cd26f9",
      "metadata": {
        "id": "10cd26f9"
      },
      "outputs": [],
      "source": [
        "arr_2d = np.array([[1, 2, 3, 4], [5, 6, 7, 8], [9, 10, 11, 12]])"
      ]
    },
    {
      "cell_type": "code",
      "execution_count": null,
      "id": "60050254",
      "metadata": {
        "id": "60050254"
      },
      "outputs": [],
      "source": [
        "reversed_arr = np.flip(arr_2d)"
      ]
    },
    {
      "cell_type": "code",
      "execution_count": null,
      "id": "c62a9762",
      "metadata": {
        "id": "c62a9762",
        "outputId": "34f67215-01e9-40ca-e4a3-d850b12a684c"
      },
      "outputs": [
        {
          "name": "stdout",
          "output_type": "stream",
          "text": [
            "[[12 11 10  9]\n",
            " [ 8  7  6  5]\n",
            " [ 4  3  2  1]]\n"
          ]
        }
      ],
      "source": [
        "print(reversed_arr)"
      ]
    },
    {
      "cell_type": "code",
      "execution_count": null,
      "id": "c9dff432",
      "metadata": {
        "id": "c9dff432"
      },
      "outputs": [],
      "source": [
        "reversed_arr_rows = np.flip(arr_2d, axis=0)"
      ]
    },
    {
      "cell_type": "code",
      "execution_count": null,
      "id": "626ae28b",
      "metadata": {
        "id": "626ae28b",
        "outputId": "019da1d8-698a-4161-996c-a3098585e164"
      },
      "outputs": [
        {
          "name": "stdout",
          "output_type": "stream",
          "text": [
            "[[ 9 10 11 12]\n",
            " [ 5  6  7  8]\n",
            " [ 1  2  3  4]]\n"
          ]
        }
      ],
      "source": [
        "print(reversed_arr_rows)"
      ]
    },
    {
      "cell_type": "code",
      "execution_count": null,
      "id": "4e88bde0",
      "metadata": {
        "id": "4e88bde0"
      },
      "outputs": [],
      "source": [
        "reversed_arr_columns = np.flip(arr_2d, axis=1)"
      ]
    },
    {
      "cell_type": "code",
      "execution_count": null,
      "id": "d5d87435",
      "metadata": {
        "id": "d5d87435",
        "outputId": "faa2ab3e-fb22-4de8-b6d5-76257c5c4d42"
      },
      "outputs": [
        {
          "name": "stdout",
          "output_type": "stream",
          "text": [
            "[[ 4  3  2  1]\n",
            " [ 8  7  6  5]\n",
            " [12 11 10  9]]\n"
          ]
        }
      ],
      "source": [
        "print(reversed_arr_columns)"
      ]
    },
    {
      "cell_type": "code",
      "execution_count": null,
      "id": "802c118a",
      "metadata": {
        "id": "802c118a"
      },
      "outputs": [],
      "source": [
        "arr_2d[1] = np.flip(arr_2d[1])"
      ]
    },
    {
      "cell_type": "code",
      "execution_count": null,
      "id": "babe3763",
      "metadata": {
        "id": "babe3763",
        "outputId": "917b7572-31c0-4556-e73b-25f373ade866"
      },
      "outputs": [
        {
          "name": "stdout",
          "output_type": "stream",
          "text": [
            "[[ 1  2  3  4]\n",
            " [ 8  7  6  5]\n",
            " [ 9 10 11 12]]\n"
          ]
        }
      ],
      "source": [
        "print(arr_2d)"
      ]
    },
    {
      "cell_type": "code",
      "execution_count": null,
      "id": "7055dd7d",
      "metadata": {
        "id": "7055dd7d"
      },
      "outputs": [],
      "source": [
        "arr_2d[:,1] = np.flip(arr_2d[:,1])"
      ]
    },
    {
      "cell_type": "code",
      "execution_count": null,
      "id": "72ba4ce0",
      "metadata": {
        "id": "72ba4ce0",
        "outputId": "08c619bf-7c40-4dfc-abbd-a03b33781497"
      },
      "outputs": [
        {
          "name": "stdout",
          "output_type": "stream",
          "text": [
            "[[ 1 10  3  4]\n",
            " [ 8  7  6  5]\n",
            " [ 9  2 11 12]]\n"
          ]
        }
      ],
      "source": [
        "print(arr_2d)"
      ]
    },
    {
      "cell_type": "code",
      "execution_count": null,
      "id": "3c82c531",
      "metadata": {
        "id": "3c82c531"
      },
      "outputs": [],
      "source": [
        "x = np.array([[1 , 2, 3, 4], [5, 6, 7, 8], [9, 10, 11, 12]])"
      ]
    },
    {
      "cell_type": "code",
      "execution_count": null,
      "id": "1acf7f4b",
      "metadata": {
        "id": "1acf7f4b",
        "outputId": "3b2f7be0-0bbf-4d55-bbb1-272c17f0f886"
      },
      "outputs": [
        {
          "data": {
            "text/plain": [
              "array([ 1,  2,  3,  4,  5,  6,  7,  8,  9, 10, 11, 12])"
            ]
          },
          "execution_count": 219,
          "metadata": {},
          "output_type": "execute_result"
        }
      ],
      "source": [
        "x.flatten()"
      ]
    },
    {
      "cell_type": "code",
      "execution_count": null,
      "id": "1123dfc9",
      "metadata": {
        "id": "1123dfc9"
      },
      "outputs": [],
      "source": [
        "a1 = x.flatten()"
      ]
    },
    {
      "cell_type": "code",
      "execution_count": null,
      "id": "dc6c27e0",
      "metadata": {
        "id": "dc6c27e0"
      },
      "outputs": [],
      "source": [
        "a1[0] = 99"
      ]
    },
    {
      "cell_type": "code",
      "execution_count": null,
      "id": "60f483c7",
      "metadata": {
        "id": "60f483c7",
        "outputId": "c9de8ae6-0d19-479e-dbd4-96ebedfdd6c4"
      },
      "outputs": [
        {
          "name": "stdout",
          "output_type": "stream",
          "text": [
            "[[ 1  2  3  4]\n",
            " [ 5  6  7  8]\n",
            " [ 9 10 11 12]]\n"
          ]
        }
      ],
      "source": [
        "print(x)"
      ]
    },
    {
      "cell_type": "code",
      "execution_count": null,
      "id": "50d0de9f",
      "metadata": {
        "id": "50d0de9f",
        "outputId": "e93ff150-3894-4db9-cdeb-c1e85c24f289"
      },
      "outputs": [
        {
          "name": "stdout",
          "output_type": "stream",
          "text": [
            "[99  2  3  4  5  6  7  8  9 10 11 12]\n"
          ]
        }
      ],
      "source": [
        "print(a1)"
      ]
    },
    {
      "cell_type": "code",
      "execution_count": null,
      "id": "8fbace3f",
      "metadata": {
        "id": "8fbace3f"
      },
      "outputs": [],
      "source": [
        "a2 = x.ravel()"
      ]
    },
    {
      "cell_type": "code",
      "execution_count": null,
      "id": "824e5e2e",
      "metadata": {
        "id": "824e5e2e"
      },
      "outputs": [],
      "source": [
        "a2[0] = 98"
      ]
    },
    {
      "cell_type": "code",
      "execution_count": null,
      "id": "854c8eb1",
      "metadata": {
        "id": "854c8eb1",
        "outputId": "eb6c6008-e1a8-4c62-8aa6-d3dd34fc6955"
      },
      "outputs": [
        {
          "name": "stdout",
          "output_type": "stream",
          "text": [
            "[[98  2  3  4]\n",
            " [ 5  6  7  8]\n",
            " [ 9 10 11 12]]\n"
          ]
        }
      ],
      "source": [
        "print(x)"
      ]
    },
    {
      "cell_type": "code",
      "execution_count": null,
      "id": "0e716573",
      "metadata": {
        "id": "0e716573",
        "outputId": "d05d918b-3c3a-4533-ec32-01bfdbbb49a9"
      },
      "outputs": [
        {
          "name": "stdout",
          "output_type": "stream",
          "text": [
            "[98  2  3  4  5  6  7  8  9 10 11 12]\n"
          ]
        }
      ],
      "source": [
        "print(a2)"
      ]
    },
    {
      "cell_type": "code",
      "execution_count": null,
      "id": "b3bffe39",
      "metadata": {
        "id": "b3bffe39"
      },
      "outputs": [],
      "source": [
        "import re"
      ]
    },
    {
      "cell_type": "code",
      "execution_count": null,
      "id": "0b2cf3fc",
      "metadata": {
        "id": "0b2cf3fc",
        "outputId": "bf528154-dfe7-4a2a-847f-8e8075f35546"
      },
      "outputs": [
        {
          "name": "stdout",
          "output_type": "stream",
          "text": [
            "\n",
            "park 800905-*******\n",
            "kim 700905-*******\n",
            "\n"
          ]
        }
      ],
      "source": [
        " data = \"\"\"\n",
        " park 800905-1049118\n",
        " kim 700905-1059119\n",
        " \"\"\"\n",
        "    \n",
        "pat = re.compile(\"(\\d{6})[-]\\d{7}\")\n",
        "print(pat.sub(\"\\g<1>-*******\", data))  #g:gruop"
      ]
    },
    {
      "cell_type": "code",
      "execution_count": null,
      "id": "5b6a6221",
      "metadata": {
        "id": "5b6a6221"
      },
      "outputs": [],
      "source": [
        "#NLTK : 자연어 처리를 위한 Tool kit"
      ]
    },
    {
      "cell_type": "code",
      "execution_count": null,
      "id": "9e20b9e2",
      "metadata": {
        "id": "9e20b9e2",
        "outputId": "50248f31-b462-4525-86eb-9b0ca672508b"
      },
      "outputs": [
        {
          "name": "stdout",
          "output_type": "stream",
          "text": [
            "Requirement already satisfied: nltk in c:\\users\\toshiba\\anaconda3\\lib\\site-packages (3.6.5)\n",
            "Requirement already satisfied: click in c:\\users\\toshiba\\anaconda3\\lib\\site-packages (from nltk) (8.0.3)\n",
            "Requirement already satisfied: joblib in c:\\users\\toshiba\\anaconda3\\lib\\site-packages (from nltk) (1.1.0)\n",
            "Requirement already satisfied: regex>=2021.8.3 in c:\\users\\toshiba\\anaconda3\\lib\\site-packages (from nltk) (2021.8.3)\n",
            "Requirement already satisfied: tqdm in c:\\users\\toshiba\\anaconda3\\lib\\site-packages (from nltk) (4.62.3)\n",
            "Requirement already satisfied: colorama in c:\\users\\toshiba\\anaconda3\\lib\\site-packages (from click->nltk) (0.4.4)\n",
            "Note: you may need to restart the kernel to use updated packages.\n"
          ]
        }
      ],
      "source": [
        "pip install nltk"
      ]
    },
    {
      "cell_type": "code",
      "execution_count": null,
      "id": "52a4d3ec",
      "metadata": {
        "id": "52a4d3ec"
      },
      "outputs": [],
      "source": [
        "import nltk"
      ]
    },
    {
      "cell_type": "code",
      "execution_count": null,
      "id": "80e8a207",
      "metadata": {
        "id": "80e8a207"
      },
      "outputs": [],
      "source": [
        "#nltk.download()"
      ]
    },
    {
      "cell_type": "code",
      "execution_count": null,
      "id": "df1f6d1a",
      "metadata": {
        "id": "df1f6d1a",
        "outputId": "caf81278-fec1-45ec-e033-b2025bcc17c0"
      },
      "outputs": [
        {
          "name": "stdout",
          "output_type": "stream",
          "text": [
            "*** Introductory Examples for the NLTK Book ***\n",
            "Loading text1, ..., text9 and sent1, ..., sent9\n",
            "Type the name of the text or sentence to view it.\n",
            "Type: 'texts()' or 'sents()' to list the materials.\n",
            "text1: Moby Dick by Herman Melville 1851\n",
            "text2: Sense and Sensibility by Jane Austen 1811\n",
            "text3: The Book of Genesis\n",
            "text4: Inaugural Address Corpus\n",
            "text5: Chat Corpus\n",
            "text6: Monty Python and the Holy Grail\n",
            "text7: Wall Street Journal\n",
            "text8: Personals Corpus\n",
            "text9: The Man Who Was Thursday by G . K . Chesterton 1908\n"
          ]
        }
      ],
      "source": [
        "from nltk.book import *"
      ]
    },
    {
      "cell_type": "code",
      "execution_count": null,
      "id": "f68c8055",
      "metadata": {
        "id": "f68c8055"
      },
      "outputs": [],
      "source": [
        "import re\n",
        "wordlist = [w for w in nltk.corpus.words.words('en') if w.islower()]  #소문자만 "
      ]
    },
    {
      "cell_type": "code",
      "execution_count": null,
      "id": "21acf89a",
      "metadata": {
        "id": "21acf89a",
        "outputId": "bf5ce254-2807-4ec1-e4c9-0b4f21910197"
      },
      "outputs": [
        {
          "data": {
            "text/plain": [
              "210687"
            ]
          },
          "execution_count": 236,
          "metadata": {},
          "output_type": "execute_result"
        }
      ],
      "source": [
        "len(wordlist)"
      ]
    },
    {
      "cell_type": "code",
      "execution_count": null,
      "id": "f56d8482",
      "metadata": {
        "id": "f56d8482",
        "outputId": "3d7839d3-58ac-478f-f6ce-1577661a8153"
      },
      "outputs": [
        {
          "data": {
            "text/plain": [
              "['abaissed',\n",
              " 'abandoned',\n",
              " 'abased',\n",
              " 'abashed',\n",
              " 'abatised',\n",
              " 'abed',\n",
              " 'aborted',\n",
              " 'abridged',\n",
              " 'abscessed',\n",
              " 'absconded',\n",
              " 'absorbed',\n",
              " 'abstracted',\n",
              " 'abstricted',\n",
              " 'accelerated',\n",
              " 'accepted',\n",
              " 'accidented',\n",
              " 'accoladed',\n",
              " 'accolated',\n",
              " 'accomplished',\n",
              " 'accosted',\n",
              " 'accredited',\n",
              " 'accursed',\n",
              " 'accused',\n",
              " 'accustomed',\n",
              " 'acetated',\n",
              " 'acheweed',\n",
              " 'aciculated',\n",
              " 'aciliated',\n",
              " 'acknowledged',\n",
              " 'acorned',\n",
              " 'acquainted',\n",
              " 'acquired',\n",
              " 'acquisited',\n",
              " 'acred',\n",
              " 'aculeated',\n",
              " 'addebted',\n",
              " 'added',\n",
              " 'addicted',\n",
              " 'addlebrained',\n",
              " 'addleheaded',\n",
              " 'addlepated',\n",
              " 'addorsed',\n",
              " 'adempted',\n",
              " 'adfected',\n",
              " 'adjoined',\n",
              " 'admired',\n",
              " 'admitted',\n",
              " 'adnexed',\n",
              " 'adopted',\n",
              " 'adossed',\n",
              " 'adreamed',\n",
              " 'adscripted',\n",
              " 'aduncated',\n",
              " 'advanced',\n",
              " 'advised',\n",
              " 'aeried',\n",
              " 'aethered',\n",
              " 'afeared',\n",
              " 'affected',\n",
              " 'affectioned',\n",
              " 'affined',\n",
              " 'afflicted',\n",
              " 'affricated',\n",
              " 'affrighted',\n",
              " 'affronted',\n",
              " 'aforenamed',\n",
              " 'afterfeed',\n",
              " 'aftershafted',\n",
              " 'afterthoughted',\n",
              " 'afterwitted',\n",
              " 'agazed',\n",
              " 'aged',\n",
              " 'agglomerated',\n",
              " 'aggrieved',\n",
              " 'agminated',\n",
              " 'agnamed',\n",
              " 'agonied',\n",
              " 'agreed',\n",
              " 'agueweed',\n",
              " 'ahungered',\n",
              " 'aiguilletted',\n",
              " 'ailweed',\n",
              " 'airbrained',\n",
              " 'airified',\n",
              " 'aiseweed',\n",
              " 'aisled',\n",
              " 'alarmed',\n",
              " 'alated',\n",
              " 'alimonied',\n",
              " 'aliped',\n",
              " 'alleyed',\n",
              " 'allied',\n",
              " 'alligatored',\n",
              " 'allseed',\n",
              " 'almsdeed',\n",
              " 'aloed',\n",
              " 'altared',\n",
              " 'alveolated',\n",
              " 'amazed',\n",
              " 'ameed',\n",
              " 'amiced',\n",
              " 'amphitheatered',\n",
              " 'ampullated',\n",
              " 'amused',\n",
              " 'anchored',\n",
              " 'angled',\n",
              " 'anguiped',\n",
              " 'anguished',\n",
              " 'angulated',\n",
              " 'angulinerved',\n",
              " 'anhungered',\n",
              " 'animated',\n",
              " 'aniseed',\n",
              " 'annodated',\n",
              " 'annulated',\n",
              " 'anomaliped',\n",
              " 'anserated',\n",
              " 'anteflected',\n",
              " 'anteflexed',\n",
              " 'antimoniated',\n",
              " 'antimoniureted',\n",
              " 'antimoniuretted',\n",
              " 'antiquated',\n",
              " 'antired',\n",
              " 'antiweed',\n",
              " 'antlered',\n",
              " 'apertured',\n",
              " 'apexed',\n",
              " 'apicifixed',\n",
              " 'apiculated',\n",
              " 'apocopated',\n",
              " 'apostrophied',\n",
              " 'appearanced',\n",
              " 'appellatived',\n",
              " 'appendaged',\n",
              " 'appendiculated',\n",
              " 'applied',\n",
              " 'appressed',\n",
              " 'aralkylated',\n",
              " 'arbored',\n",
              " 'arched',\n",
              " 'architraved',\n",
              " 'arcked',\n",
              " 'arcuated',\n",
              " 'ared',\n",
              " 'areolated',\n",
              " 'ariled',\n",
              " 'arillated',\n",
              " 'armchaired',\n",
              " 'armed',\n",
              " 'armied',\n",
              " 'armillated',\n",
              " 'armored',\n",
              " 'armoried',\n",
              " 'arpeggiated',\n",
              " 'arpeggioed',\n",
              " 'arrased',\n",
              " 'arrowed',\n",
              " 'arrowheaded',\n",
              " 'arrowweed',\n",
              " 'arseneted',\n",
              " 'arsenetted',\n",
              " 'arseniureted',\n",
              " 'articled',\n",
              " 'articulated',\n",
              " 'ashamed',\n",
              " 'ashlared',\n",
              " 'ashweed',\n",
              " 'aspersed',\n",
              " 'asphyxied',\n",
              " 'assented',\n",
              " 'assessed',\n",
              " 'assigned',\n",
              " 'assistanted',\n",
              " 'associated',\n",
              " 'assonanced',\n",
              " 'assorted',\n",
              " 'assumed',\n",
              " 'assured',\n",
              " 'asteriated',\n",
              " 'astonied',\n",
              " 'aswooned',\n",
              " 'atrophiated',\n",
              " 'atrophied',\n",
              " 'attached',\n",
              " 'attired',\n",
              " 'attrited',\n",
              " 'augmented',\n",
              " 'aurated',\n",
              " 'auricled',\n",
              " 'auriculated',\n",
              " 'authorized',\n",
              " 'autoinhibited',\n",
              " 'autosensitized',\n",
              " 'autosled',\n",
              " 'averted',\n",
              " 'avowed',\n",
              " 'awearied',\n",
              " 'awned',\n",
              " 'awninged',\n",
              " 'axed',\n",
              " 'axhammered',\n",
              " 'axised',\n",
              " 'axled',\n",
              " 'axseed',\n",
              " 'axweed',\n",
              " 'azoted',\n",
              " 'azured',\n",
              " 'babied',\n",
              " 'babished',\n",
              " 'babyfied',\n",
              " 'baccated',\n",
              " 'backboned',\n",
              " 'backed',\n",
              " 'backhanded',\n",
              " 'backwatered',\n",
              " 'baconweed',\n",
              " 'badgerweed',\n",
              " 'bagged',\n",
              " 'bagwigged',\n",
              " 'baked',\n",
              " 'balanced',\n",
              " 'balconied',\n",
              " 'baldachined',\n",
              " 'baldricked',\n",
              " 'balled',\n",
              " 'ballweed',\n",
              " 'balsamweed',\n",
              " 'balustered',\n",
              " 'balustraded',\n",
              " 'bandannaed',\n",
              " 'banded',\n",
              " 'bandoleered',\n",
              " 'bangled',\n",
              " 'banked',\n",
              " 'bankweed',\n",
              " 'bannered',\n",
              " 'barbated',\n",
              " 'barbed',\n",
              " 'barebacked',\n",
              " 'bareboned',\n",
              " 'barefaced',\n",
              " 'barefooted',\n",
              " 'barehanded',\n",
              " 'bareheaded',\n",
              " 'barelegged',\n",
              " 'barenecked',\n",
              " 'barmybrained',\n",
              " 'barred',\n",
              " 'barreled',\n",
              " 'bartizaned',\n",
              " 'basebred',\n",
              " 'based',\n",
              " 'basehearted',\n",
              " 'basifixed',\n",
              " 'basilweed',\n",
              " 'basined',\n",
              " 'basinerved',\n",
              " 'basqued',\n",
              " 'bastioned',\n",
              " 'bated',\n",
              " 'bathroomed',\n",
              " 'battered',\n",
              " 'batteried',\n",
              " 'battled',\n",
              " 'battlemented',\n",
              " 'bayed',\n",
              " 'bayoneted',\n",
              " 'beached',\n",
              " 'beaded',\n",
              " 'beaked',\n",
              " 'bealtared',\n",
              " 'beamed',\n",
              " 'beanweed',\n",
              " 'beaproned',\n",
              " 'bearded',\n",
              " 'beautied',\n",
              " 'beavered',\n",
              " 'beballed',\n",
              " 'bebannered',\n",
              " 'bebed',\n",
              " 'bebelted',\n",
              " 'bebled',\n",
              " 'bebothered',\n",
              " 'bebouldered',\n",
              " 'bebuttoned',\n",
              " 'becassocked',\n",
              " 'bechained',\n",
              " 'bechignoned',\n",
              " 'becircled',\n",
              " 'becoiffed',\n",
              " 'becombed',\n",
              " 'becousined',\n",
              " 'becrinolined',\n",
              " 'becuffed',\n",
              " 'becurtained',\n",
              " 'becushioned',\n",
              " 'bed',\n",
              " 'bedaggered',\n",
              " 'bedangled',\n",
              " 'bedded',\n",
              " 'bediademed',\n",
              " 'bediamonded',\n",
              " 'beedged',\n",
              " 'beefheaded',\n",
              " 'beeheaded',\n",
              " 'beeswinged',\n",
              " 'beetled',\n",
              " 'beetleheaded',\n",
              " 'beetleweed',\n",
              " 'beeweed',\n",
              " 'befamilied',\n",
              " 'befanned',\n",
              " 'befathered',\n",
              " 'beferned',\n",
              " 'befetished',\n",
              " 'befezzed',\n",
              " 'befilleted',\n",
              " 'befilmed',\n",
              " 'beforested',\n",
              " 'befountained',\n",
              " 'befrocked',\n",
              " 'befrogged',\n",
              " 'befurbelowed',\n",
              " 'befurred',\n",
              " 'begabled',\n",
              " 'begarlanded',\n",
              " 'begartered',\n",
              " 'beggarweed',\n",
              " 'beglobed',\n",
              " 'begoggled',\n",
              " 'begowned',\n",
              " 'behatted',\n",
              " 'behaviored',\n",
              " 'beheadlined',\n",
              " 'behooped',\n",
              " 'beinked',\n",
              " 'bekilted',\n",
              " 'beknived',\n",
              " 'beknotted',\n",
              " 'belaced',\n",
              " 'belated',\n",
              " 'belatticed',\n",
              " 'belavendered',\n",
              " 'beledgered',\n",
              " 'belfried',\n",
              " 'beliked',\n",
              " 'belimousined',\n",
              " 'belled',\n",
              " 'bellied',\n",
              " 'bellmouthed',\n",
              " 'bellweed',\n",
              " 'beloved',\n",
              " 'belozenged',\n",
              " 'belted',\n",
              " 'bemazed',\n",
              " 'bemedaled',\n",
              " 'bemedalled',\n",
              " 'bemitered',\n",
              " 'bemitred',\n",
              " 'bemused',\n",
              " 'bemuslined',\n",
              " 'bended',\n",
              " 'beneaped',\n",
              " 'beneficed',\n",
              " 'beneighbored',\n",
              " 'benempted',\n",
              " 'benighted',\n",
              " 'bennetweed',\n",
              " 'benumbed',\n",
              " 'benweed',\n",
              " 'benzoated',\n",
              " 'benzoinated',\n",
              " 'bepastured',\n",
              " 'bepatched',\n",
              " 'beperiwigged',\n",
              " 'bepewed',\n",
              " 'bepillared',\n",
              " 'bepistoled',\n",
              " 'beplaided',\n",
              " 'beplumed',\n",
              " 'beribanded',\n",
              " 'beribboned',\n",
              " 'beringed',\n",
              " 'beringleted',\n",
              " 'berobed',\n",
              " 'berouged',\n",
              " 'berried',\n",
              " 'berthed',\n",
              " 'beruffed',\n",
              " 'beruffled',\n",
              " 'beshawled',\n",
              " 'besieged',\n",
              " 'beslushed',\n",
              " 'besotted',\n",
              " 'bespecked',\n",
              " 'bespectacled',\n",
              " 'besped',\n",
              " 'bespeed',\n",
              " 'bespelled',\n",
              " 'bespurred',\n",
              " 'bestatued',\n",
              " 'bestayed',\n",
              " 'bestrapped',\n",
              " 'bestubbled',\n",
              " 'besweatered',\n",
              " 'betattered',\n",
              " 'betaxed',\n",
              " 'betowered',\n",
              " 'betrothed',\n",
              " 'betrousered',\n",
              " 'betted',\n",
              " 'betuckered',\n",
              " 'beturbaned',\n",
              " 'betusked',\n",
              " 'betutored',\n",
              " 'betwattled',\n",
              " 'beuniformed',\n",
              " 'beveled',\n",
              " 'bevelled',\n",
              " 'bevesseled',\n",
              " 'bevesselled',\n",
              " 'bevined',\n",
              " 'bevoiled',\n",
              " 'bewaitered',\n",
              " 'bewhiskered',\n",
              " 'bewigged',\n",
              " 'bewildered',\n",
              " 'bewinged',\n",
              " 'bewired',\n",
              " 'bewrathed',\n",
              " 'biangulated',\n",
              " 'biarcuated',\n",
              " 'biarticulated',\n",
              " 'bicarbureted',\n",
              " 'biciliated',\n",
              " 'bicolored',\n",
              " 'bicorned',\n",
              " 'bidented',\n",
              " 'bifanged',\n",
              " 'bifidated',\n",
              " 'biflected',\n",
              " 'biforked',\n",
              " 'biformed',\n",
              " 'bifronted',\n",
              " 'bifurcated',\n",
              " 'bigeminated',\n",
              " 'bighearted',\n",
              " 'bigmouthed',\n",
              " 'bigoted',\n",
              " 'bigwigged',\n",
              " 'bilamellated',\n",
              " 'bilaminated',\n",
              " 'billed',\n",
              " 'bilobated',\n",
              " 'bilobed',\n",
              " 'bilsted',\n",
              " 'bimaculated',\n",
              " 'bimotored',\n",
              " 'bindweed',\n",
              " 'bineweed',\n",
              " 'binominated',\n",
              " 'binucleated',\n",
              " 'biparted',\n",
              " 'bipectinated',\n",
              " 'biped',\n",
              " 'bipennated',\n",
              " 'bipinnated',\n",
              " 'bipinnatiparted',\n",
              " 'bipinnatisected',\n",
              " 'biradiated',\n",
              " 'birdmouthed',\n",
              " 'birdseed',\n",
              " 'birdweed',\n",
              " 'birostrated',\n",
              " 'birthbed',\n",
              " 'bisexed',\n",
              " 'bishopweed',\n",
              " 'bistered',\n",
              " 'bistipuled',\n",
              " 'bisubstituted',\n",
              " 'bitted',\n",
              " 'bitterhearted',\n",
              " 'bitterweed',\n",
              " 'bituberculated',\n",
              " 'bitumed',\n",
              " 'bivalved',\n",
              " 'bivaulted',\n",
              " 'bivocalized',\n",
              " 'blackhearted',\n",
              " 'blackseed',\n",
              " 'blackshirted',\n",
              " 'bladderseed',\n",
              " 'bladderweed',\n",
              " 'bladed',\n",
              " 'blakeberyed',\n",
              " 'blamed',\n",
              " 'blanked',\n",
              " 'blanketed',\n",
              " 'blanketweed',\n",
              " 'blasted',\n",
              " 'bleached',\n",
              " 'bleared',\n",
              " 'bleed',\n",
              " 'blended',\n",
              " 'blessed',\n",
              " 'blighted',\n",
              " 'blinded',\n",
              " 'blindfolded',\n",
              " 'blindweed',\n",
              " 'blinked',\n",
              " 'blinkered',\n",
              " 'blistered',\n",
              " 'blisterweed',\n",
              " 'blithehearted',\n",
              " 'bloated',\n",
              " 'blobbed',\n",
              " 'blocked',\n",
              " 'blockheaded',\n",
              " 'blooded',\n",
              " 'bloodied',\n",
              " 'bloodshed',\n",
              " 'bloodstained',\n",
              " 'bloodweed',\n",
              " 'blossomed',\n",
              " 'blotched',\n",
              " 'bloused',\n",
              " 'blowzed',\n",
              " 'bludgeoned',\n",
              " 'bluebelled',\n",
              " 'bluehearted',\n",
              " 'blueweed',\n",
              " 'blunderheaded',\n",
              " 'blunthearted',\n",
              " 'blurred',\n",
              " 'bobbed',\n",
              " 'bobsled',\n",
              " 'bobtailed',\n",
              " 'bodiced',\n",
              " 'bodied',\n",
              " 'boiled',\n",
              " 'boldhearted',\n",
              " 'bolectioned',\n",
              " 'boled',\n",
              " 'boleweed',\n",
              " 'bolled',\n",
              " 'bombed',\n",
              " 'bonded',\n",
              " 'boned',\n",
              " 'boneheaded',\n",
              " 'bonneted',\n",
              " 'booked',\n",
              " 'booted',\n",
              " 'bootied',\n",
              " 'boozed',\n",
              " 'bordered',\n",
              " 'bordured',\n",
              " 'bosomed',\n",
              " 'bossed',\n",
              " 'bosselated',\n",
              " 'botched',\n",
              " 'botherheaded',\n",
              " 'bothsided',\n",
              " 'bottled',\n",
              " 'bottomed',\n",
              " 'boughed',\n",
              " 'bounded',\n",
              " 'bountied',\n",
              " 'bowed',\n",
              " 'boweled',\n",
              " 'bowlegged',\n",
              " 'bowstringed',\n",
              " 'braced',\n",
              " 'braceleted',\n",
              " 'brackened',\n",
              " 'bracted',\n",
              " 'braided',\n",
              " 'brambled',\n",
              " 'branched',\n",
              " 'branded',\n",
              " 'brandied',\n",
              " 'brangled',\n",
              " 'bravehearted',\n",
              " 'brawned',\n",
              " 'brazenfaced',\n",
              " 'breasted',\n",
              " 'breastweed',\n",
              " 'breathed',\n",
              " 'brecciated',\n",
              " 'bred',\n",
              " 'breeched',\n",
              " 'breed',\n",
              " 'breviped',\n",
              " 'bridebed',\n",
              " 'brideweed',\n",
              " 'bridged',\n",
              " 'bridled',\n",
              " 'briered',\n",
              " 'brimmed',\n",
              " 'bristled',\n",
              " 'broadhearted',\n",
              " 'brocaded',\n",
              " 'brocked',\n",
              " 'brokenhearted',\n",
              " 'bromoiodized',\n",
              " 'bronzed',\n",
              " 'brooked',\n",
              " 'brookweed',\n",
              " 'broomweed',\n",
              " 'broozled',\n",
              " 'browed',\n",
              " 'brownweed',\n",
              " 'bruckled',\n",
              " 'brushed',\n",
              " 'buboed',\n",
              " 'bucked',\n",
              " 'buckled',\n",
              " 'buckskinned',\n",
              " 'buffed',\n",
              " 'bugled',\n",
              " 'bugleweed',\n",
              " 'bugseed',\n",
              " 'bugweed',\n",
              " 'bulbed',\n",
              " 'bulked',\n",
              " 'bulkheaded',\n",
              " 'bullated',\n",
              " 'bulldogged',\n",
              " 'bulleted',\n",
              " 'bulletheaded',\n",
              " 'bullheaded',\n",
              " 'bullweed',\n",
              " 'bummed',\n",
              " 'bundlerooted',\n",
              " 'bundweed',\n",
              " 'bunted',\n",
              " 'buried',\n",
              " 'burled',\n",
              " 'burned',\n",
              " 'burnoosed',\n",
              " 'burntweed',\n",
              " 'burred',\n",
              " 'burroweed',\n",
              " 'burseed',\n",
              " 'burweed',\n",
              " 'bushed',\n",
              " 'busied',\n",
              " 'busked',\n",
              " 'buskined',\n",
              " 'busted',\n",
              " 'bustled',\n",
              " 'busybodied',\n",
              " 'buttered',\n",
              " 'butterfingered',\n",
              " 'butterweed',\n",
              " 'butteryfingered',\n",
              " 'buttocked',\n",
              " 'buttoned',\n",
              " 'buttonweed',\n",
              " 'cabled',\n",
              " 'caboshed',\n",
              " 'caddiced',\n",
              " 'caddised',\n",
              " 'cadenced',\n",
              " 'cadweed',\n",
              " 'caftaned',\n",
              " 'caged',\n",
              " 'cairned',\n",
              " 'caissoned',\n",
              " 'calced',\n",
              " 'calcified',\n",
              " 'calcined',\n",
              " 'calculated',\n",
              " 'calibered',\n",
              " 'calicoed',\n",
              " 'caligated',\n",
              " 'calpacked',\n",
              " 'calved',\n",
              " 'calycled',\n",
              " 'calyculated',\n",
              " 'camailed',\n",
              " 'camerated',\n",
              " 'cammed',\n",
              " 'campanulated',\n",
              " 'campshed',\n",
              " 'camused',\n",
              " 'canaliculated',\n",
              " 'cancellated',\n",
              " 'cancered',\n",
              " 'cancerweed',\n",
              " 'candied',\n",
              " 'candlelighted',\n",
              " 'candlesticked',\n",
              " 'candyweed',\n",
              " 'canioned',\n",
              " 'cankered',\n",
              " 'cankerweed',\n",
              " 'canned',\n",
              " 'cannelated',\n",
              " 'cannelured',\n",
              " 'cannoned',\n",
              " 'cannulated',\n",
              " 'canted',\n",
              " 'cantilevered',\n",
              " 'cantoned',\n",
              " 'cantred',\n",
              " 'caped',\n",
              " 'capernoited',\n",
              " 'capeweed',\n",
              " 'capitaled',\n",
              " 'capitated',\n",
              " 'capped',\n",
              " 'capriped',\n",
              " 'capsulated',\n",
              " 'capuched',\n",
              " 'carapaced',\n",
              " 'carbolated',\n",
              " 'carboyed',\n",
              " 'carbuncled',\n",
              " 'carcaneted',\n",
              " 'carded',\n",
              " 'carinated',\n",
              " 'carkled',\n",
              " 'carnaged',\n",
              " 'carnationed',\n",
              " 'carpetweed',\n",
              " 'carried',\n",
              " 'carrotweed',\n",
              " 'carucated',\n",
              " 'carunculated',\n",
              " 'cased',\n",
              " 'casemated',\n",
              " 'casemented',\n",
              " 'caseweed',\n",
              " 'casqued',\n",
              " 'castellated',\n",
              " 'castled',\n",
              " 'castorized',\n",
              " 'catamited',\n",
              " 'cataracted',\n",
              " 'catarrhed',\n",
              " 'catchweed',\n",
              " 'catenated',\n",
              " 'caterpillared',\n",
              " 'catfaced',\n",
              " 'catfooted',\n",
              " 'cathedraled',\n",
              " 'caudated',\n",
              " 'caverned',\n",
              " 'cavitied',\n",
              " 'cayenned',\n",
              " 'cedared',\n",
              " 'ceilinged',\n",
              " 'celebrated',\n",
              " 'cellated',\n",
              " 'celled',\n",
              " 'cellulated',\n",
              " 'celluloided',\n",
              " 'centered',\n",
              " 'centriffed',\n",
              " 'centuried',\n",
              " 'cerated',\n",
              " 'cered',\n",
              " 'certified',\n",
              " 'chafeweed',\n",
              " 'chaffseed',\n",
              " 'chaffweed',\n",
              " 'chafted',\n",
              " 'chained',\n",
              " 'chaliced',\n",
              " 'chambered',\n",
              " 'chamberleted',\n",
              " 'chamberletted',\n",
              " 'chanceled',\n",
              " 'channeled',\n",
              " 'channelled',\n",
              " 'chaped',\n",
              " 'chapleted',\n",
              " 'chapournetted',\n",
              " 'chapped',\n",
              " 'charioted',\n",
              " 'charqued',\n",
              " 'chartered',\n",
              " 'chasmed',\n",
              " 'chasteweed',\n",
              " 'chasubled',\n",
              " 'checked',\n",
              " 'checkered',\n",
              " 'checkrowed',\n",
              " 'cheered',\n",
              " 'cheliped',\n",
              " 'cherried',\n",
              " 'chickenbreasted',\n",
              " 'chickenhearted',\n",
              " 'chickenweed',\n",
              " 'chickweed',\n",
              " 'chicqued',\n",
              " 'chiggerweed',\n",
              " 'chignoned',\n",
              " 'childbed',\n",
              " 'childed',\n",
              " 'chilled',\n",
              " 'chined',\n",
              " 'chinned',\n",
              " 'chipped',\n",
              " 'chiseled',\n",
              " 'chitinized',\n",
              " 'chokered',\n",
              " 'chokeweed',\n",
              " 'cholterheaded',\n",
              " 'chopped',\n",
              " 'choppered',\n",
              " 'chorded',\n",
              " 'chowderheaded',\n",
              " 'christened',\n",
              " 'chubbed',\n",
              " 'chuckleheaded',\n",
              " 'churchified',\n",
              " 'churled',\n",
              " 'ciliated',\n",
              " 'cingulated',\n",
              " 'cinnamoned',\n",
              " 'cinquefoiled',\n",
              " 'circled',\n",
              " 'circumscribed',\n",
              " 'circumstanced',\n",
              " 'cirrated',\n",
              " 'cirrhosed',\n",
              " 'cirriped',\n",
              " 'cisted',\n",
              " 'citied',\n",
              " 'citified',\n",
              " 'citrated',\n",
              " 'civilized',\n",
              " 'clammed',\n",
              " 'clammyweed',\n",
              " 'clanned',\n",
              " 'clapped',\n",
              " 'classed',\n",
              " 'classified',\n",
              " 'clavated',\n",
              " 'clavellated',\n",
              " 'clawed',\n",
              " 'claybrained',\n",
              " 'clayweed',\n",
              " 'cleaded',\n",
              " 'cleanhanded',\n",
              " 'cleanhearted',\n",
              " 'clearheaded',\n",
              " 'clearhearted',\n",
              " 'clearweed',\n",
              " 'cled',\n",
              " 'cleeked',\n",
              " 'clefted',\n",
              " 'clerestoried',\n",
              " 'cliented',\n",
              " 'cliffed',\n",
              " 'cliffweed',\n",
              " 'clipped',\n",
              " 'cloaked',\n",
              " 'clocked',\n",
              " 'clodpated',\n",
              " 'cloistered',\n",
              " 'closed',\n",
              " 'closefisted',\n",
              " 'closehanded',\n",
              " 'closehearted',\n",
              " 'closemouthed',\n",
              " 'clotweed',\n",
              " 'clouded',\n",
              " 'clouted',\n",
              " 'clovered',\n",
              " 'clubbed',\n",
              " 'clubfisted',\n",
              " 'clubfooted',\n",
              " 'clubweed',\n",
              " 'clustered',\n",
              " 'coaged',\n",
              " 'coaggregated',\n",
              " 'coated',\n",
              " 'coattailed',\n",
              " 'cobbed',\n",
              " 'cocashweed',\n",
              " 'cochleated',\n",
              " 'cockaded',\n",
              " 'cocked',\n",
              " 'cockeyed',\n",
              " 'cockled',\n",
              " 'cockneybred',\n",
              " 'cockscombed',\n",
              " 'cockweed',\n",
              " 'codheaded',\n",
              " 'coed',\n",
              " 'coelongated',\n",
              " 'coembedded',\n",
              " 'coequated',\n",
              " 'coexpanded',\n",
              " 'coffeeweed',\n",
              " 'cogged',\n",
              " 'coifed',\n",
              " 'coiled',\n",
              " 'coldhearted',\n",
              " 'coleseed',\n",
              " 'colicweed',\n",
              " 'collared',\n",
              " 'collected',\n",
              " 'collied',\n",
              " 'colloped',\n",
              " 'colonnaded',\n",
              " 'colored',\n",
              " 'columnated',\n",
              " 'columned',\n",
              " 'combed',\n",
              " 'combined',\n",
              " 'compacted',\n",
              " 'complected',\n",
              " 'complexioned',\n",
              " 'complicated',\n",
              " 'componed',\n",
              " 'componented',\n",
              " 'composed',\n",
              " 'compressed',\n",
              " 'comprised',\n",
              " 'compulsed',\n",
              " 'conamed',\n",
              " 'concamerated',\n",
              " 'concealed',\n",
              " 'conceded',\n",
              " 'conceited',\n",
              " 'concentrated',\n",
              " 'concerned',\n",
              " 'concerted',\n",
              " 'conched',\n",
              " 'conchyliated',\n",
              " 'condemned',\n",
              " 'condensed',\n",
              " 'conditioned',\n",
              " 'conduplicated',\n",
              " 'coned',\n",
              " 'confated',\n",
              " 'conferted',\n",
              " 'confined',\n",
              " 'confirmed',\n",
              " 'conflated',\n",
              " 'confounded',\n",
              " 'confused',\n",
              " 'congested',\n",
              " 'conjoined',\n",
              " 'conjugated',\n",
              " 'connected',\n",
              " 'conred',\n",
              " 'consecrated',\n",
              " 'considered',\n",
              " 'consolidated',\n",
              " 'constrained',\n",
              " 'constricted',\n",
              " 'consumpted',\n",
              " 'contagioned',\n",
              " 'contented',\n",
              " 'contextured',\n",
              " 'continued',\n",
              " 'contorted',\n",
              " 'contortioned',\n",
              " 'contracted',\n",
              " 'contractured',\n",
              " 'contusioned',\n",
              " 'converted',\n",
              " 'convexed',\n",
              " 'convinced',\n",
              " 'convoluted',\n",
              " 'coolheaded',\n",
              " 'coolweed',\n",
              " 'copied',\n",
              " 'copleased',\n",
              " 'copped',\n",
              " 'coppernosed',\n",
              " 'copperytailed',\n",
              " 'coppiced',\n",
              " 'coppled',\n",
              " 'copsewooded',\n",
              " 'copygraphed',\n",
              " 'coraled',\n",
              " 'corded',\n",
              " 'corduroyed',\n",
              " 'cored',\n",
              " 'coreflexed',\n",
              " 'corked',\n",
              " 'cornered',\n",
              " 'cornified',\n",
              " 'cornuated',\n",
              " 'cornuted',\n",
              " 'corollated',\n",
              " 'coronaled',\n",
              " 'coronated',\n",
              " 'coroneted',\n",
              " 'coronetted',\n",
              " 'corpusculated',\n",
              " 'corrected',\n",
              " 'correlated',\n",
              " 'corridored',\n",
              " ...]"
            ]
          },
          "execution_count": 238,
          "metadata": {},
          "output_type": "execute_result"
        }
      ],
      "source": [
        "[w for w in wordlist if re.search('ed$',w)]"
      ]
    },
    {
      "cell_type": "code",
      "execution_count": null,
      "id": "03a0a899",
      "metadata": {
        "id": "03a0a899",
        "outputId": "2ba7952c-a3c1-4c42-ab8a-7196ace0bede"
      },
      "outputs": [
        {
          "data": {
            "text/plain": [
              "['abjectly',\n",
              " 'adjuster',\n",
              " 'dejected',\n",
              " 'dejectly',\n",
              " 'injector',\n",
              " 'majestic',\n",
              " 'objectee',\n",
              " 'objector',\n",
              " 'rejecter',\n",
              " 'rejector',\n",
              " 'unjilted',\n",
              " 'unjolted',\n",
              " 'unjustly']"
            ]
          },
          "execution_count": 240,
          "metadata": {},
          "output_type": "execute_result"
        }
      ],
      "source": [
        "[w for w in wordlist if re.search('^..j..t..$',w)]"
      ]
    },
    {
      "cell_type": "code",
      "execution_count": null,
      "id": "9bcee9ea",
      "metadata": {
        "id": "9bcee9ea",
        "outputId": "1a59db1c-1a56-4d47-c0c1-7e6785eda0ed"
      },
      "outputs": [
        {
          "data": {
            "text/plain": [
              "['gold', 'golf', 'hold', 'hole']"
            ]
          },
          "execution_count": 241,
          "metadata": {},
          "output_type": "execute_result"
        }
      ],
      "source": [
        "[w for w in wordlist if re.search('^[ghi][mno][jlk][def]$',w)]"
      ]
    },
    {
      "cell_type": "code",
      "execution_count": null,
      "id": "2d933502",
      "metadata": {
        "id": "2d933502"
      },
      "outputs": [],
      "source": [
        "chat_words = sorted(set(w for w in nltk.corpus.nps_chat.words()))"
      ]
    },
    {
      "cell_type": "code",
      "execution_count": null,
      "id": "1ce51972",
      "metadata": {
        "id": "1ce51972",
        "outputId": "c21ba096-1f1c-4e08-9eb2-7d2d324df6cf"
      },
      "outputs": [
        {
          "data": {
            "text/plain": [
              "['miiiiiiiiiiiiinnnnnnnnnnneeeeeeeeee',\n",
              " 'miiiiiinnnnnnnnnneeeeeeee',\n",
              " 'mine',\n",
              " 'mmmmmmmmiiiiiiiiinnnnnnnnneeeeeeee']"
            ]
          },
          "execution_count": 251,
          "metadata": {},
          "output_type": "execute_result"
        }
      ],
      "source": [
        "[w for w in chat_words if re.search('^m+i+n+e+$',w)]"
      ]
    },
    {
      "cell_type": "code",
      "execution_count": null,
      "id": "b7f537a2",
      "metadata": {
        "id": "b7f537a2",
        "outputId": "f26e1fd4-6afc-42e3-9a0a-fb0edb6d306a"
      },
      "outputs": [
        {
          "data": {
            "text/plain": [
              "['a',\n",
              " 'aaaaaaaaaaaaaaaaa',\n",
              " 'aaahhhh',\n",
              " 'ah',\n",
              " 'ahah',\n",
              " 'ahahah',\n",
              " 'ahh',\n",
              " 'ahhahahaha',\n",
              " 'ahhh',\n",
              " 'ahhhh',\n",
              " 'ahhhhhh',\n",
              " 'ahhhhhhhhhhhhhh',\n",
              " 'h',\n",
              " 'ha',\n",
              " 'haaa',\n",
              " 'hah',\n",
              " 'haha',\n",
              " 'hahaaa',\n",
              " 'hahah',\n",
              " 'hahaha',\n",
              " 'hahahaa',\n",
              " 'hahahah',\n",
              " 'hahahaha',\n",
              " 'hahahahaaa',\n",
              " 'hahahahahaha',\n",
              " 'hahahahahahaha',\n",
              " 'hahahahahahahahahahahahahahahaha',\n",
              " 'hahahhahah',\n",
              " 'hahhahahaha']"
            ]
          },
          "execution_count": 252,
          "metadata": {},
          "output_type": "execute_result"
        }
      ],
      "source": [
        "[w for w in chat_words if re.search('^[ha]+$',w)]"
      ]
    },
    {
      "cell_type": "code",
      "execution_count": null,
      "id": "cb9db692",
      "metadata": {
        "id": "cb9db692"
      },
      "outputs": [],
      "source": [
        "wsj=sorted(set(nltk.corpus.treebank.words()))"
      ]
    },
    {
      "cell_type": "code",
      "execution_count": null,
      "id": "b1668001",
      "metadata": {
        "id": "b1668001",
        "outputId": "57dcaad1-5c5c-412a-c7c6-c4326ead1843"
      },
      "outputs": [
        {
          "data": {
            "text/plain": [
              "['0.0085',\n",
              " '0.05',\n",
              " '0.1',\n",
              " '0.16',\n",
              " '0.2',\n",
              " '0.25',\n",
              " '0.28',\n",
              " '0.3',\n",
              " '0.4',\n",
              " '0.5',\n",
              " '0.50',\n",
              " '0.54',\n",
              " '0.56',\n",
              " '0.60',\n",
              " '0.7',\n",
              " '0.82',\n",
              " '0.84',\n",
              " '0.9',\n",
              " '0.95',\n",
              " '0.99',\n",
              " '1.01',\n",
              " '1.1',\n",
              " '1.125',\n",
              " '1.14',\n",
              " '1.1650',\n",
              " '1.17',\n",
              " '1.18',\n",
              " '1.19',\n",
              " '1.2',\n",
              " '1.20',\n",
              " '1.24',\n",
              " '1.25',\n",
              " '1.26',\n",
              " '1.28',\n",
              " '1.35',\n",
              " '1.39',\n",
              " '1.4',\n",
              " '1.457',\n",
              " '1.46',\n",
              " '1.49',\n",
              " '1.5',\n",
              " '1.50',\n",
              " '1.55',\n",
              " '1.56',\n",
              " '1.5755',\n",
              " '1.5805',\n",
              " '1.6',\n",
              " '1.61',\n",
              " '1.637',\n",
              " '1.64',\n",
              " '1.65',\n",
              " '1.7',\n",
              " '1.75',\n",
              " '1.76',\n",
              " '1.8',\n",
              " '1.82',\n",
              " '1.8415',\n",
              " '1.85',\n",
              " '1.8500',\n",
              " '1.9',\n",
              " '1.916',\n",
              " '1.92',\n",
              " '10.19',\n",
              " '10.2',\n",
              " '10.5',\n",
              " '107.03',\n",
              " '107.9',\n",
              " '109.73',\n",
              " '11.10',\n",
              " '11.5',\n",
              " '11.57',\n",
              " '11.6',\n",
              " '11.72',\n",
              " '11.95',\n",
              " '112.9',\n",
              " '113.2',\n",
              " '116.3',\n",
              " '116.4',\n",
              " '116.7',\n",
              " '116.9',\n",
              " '118.6',\n",
              " '12.09',\n",
              " '12.5',\n",
              " '12.52',\n",
              " '12.68',\n",
              " '12.7',\n",
              " '12.82',\n",
              " '12.97',\n",
              " '120.7',\n",
              " '1206.26',\n",
              " '121.6',\n",
              " '126.1',\n",
              " '126.15',\n",
              " '127.03',\n",
              " '129.91',\n",
              " '13.1',\n",
              " '13.15',\n",
              " '13.5',\n",
              " '13.50',\n",
              " '13.625',\n",
              " '13.65',\n",
              " '13.73',\n",
              " '13.8',\n",
              " '13.90',\n",
              " '130.6',\n",
              " '130.7',\n",
              " '131.01',\n",
              " '132.9',\n",
              " '133.7',\n",
              " '133.8',\n",
              " '14.00',\n",
              " '14.13',\n",
              " '14.26',\n",
              " '14.28',\n",
              " '14.43',\n",
              " '14.5',\n",
              " '14.53',\n",
              " '14.54',\n",
              " '14.6',\n",
              " '14.75',\n",
              " '14.99',\n",
              " '141.9',\n",
              " '142.84',\n",
              " '142.85',\n",
              " '143.08',\n",
              " '143.80',\n",
              " '143.93',\n",
              " '148.9',\n",
              " '149.9',\n",
              " '15.5',\n",
              " '150.00',\n",
              " '153.3',\n",
              " '154.2',\n",
              " '16.05',\n",
              " '16.09',\n",
              " '16.125',\n",
              " '16.2',\n",
              " '16.5',\n",
              " '16.68',\n",
              " '16.7',\n",
              " '16.9',\n",
              " '169.9',\n",
              " '17.3',\n",
              " '17.4',\n",
              " '17.5',\n",
              " '17.95',\n",
              " '1738.1',\n",
              " '176.1',\n",
              " '18.3',\n",
              " '18.6',\n",
              " '18.95',\n",
              " '185.9',\n",
              " '188.84',\n",
              " '19.3',\n",
              " '19.50',\n",
              " '19.6',\n",
              " '19.94',\n",
              " '19.95',\n",
              " '191.9',\n",
              " '2.07',\n",
              " '2.1',\n",
              " '2.15',\n",
              " '2.19',\n",
              " '2.2',\n",
              " '2.25',\n",
              " '2.29',\n",
              " '2.3',\n",
              " '2.30',\n",
              " '2.35',\n",
              " '2.375',\n",
              " '2.4',\n",
              " '2.42',\n",
              " '2.44',\n",
              " '2.46',\n",
              " '2.47',\n",
              " '2.5',\n",
              " '2.50',\n",
              " '2.6',\n",
              " '2.62',\n",
              " '2.65',\n",
              " '2.7',\n",
              " '2.75',\n",
              " '2.8',\n",
              " '2.80',\n",
              " '2.87',\n",
              " '2.875',\n",
              " '2.9',\n",
              " '2.95',\n",
              " '20.07',\n",
              " '20.5',\n",
              " '21.1',\n",
              " '21.9',\n",
              " '2141.7',\n",
              " '2160.1',\n",
              " '2163.2',\n",
              " '22.75',\n",
              " '220.45',\n",
              " '221.4',\n",
              " '225.6',\n",
              " '23.25',\n",
              " '23.4',\n",
              " '23.5',\n",
              " '23.72',\n",
              " '234.4',\n",
              " '236.74',\n",
              " '236.79',\n",
              " '24.95',\n",
              " '25.50',\n",
              " '25.6',\n",
              " '251.2',\n",
              " '26.2',\n",
              " '26.5',\n",
              " '26.8',\n",
              " '263.07',\n",
              " '2645.90',\n",
              " '2691.19',\n",
              " '27.1',\n",
              " '27.4',\n",
              " '273.5',\n",
              " '278.7',\n",
              " '28.25',\n",
              " '28.36',\n",
              " '28.4',\n",
              " '28.5',\n",
              " '28.53',\n",
              " '28.6',\n",
              " '29.3',\n",
              " '29.4',\n",
              " '29.9',\n",
              " '292.32',\n",
              " '3.01',\n",
              " '3.04',\n",
              " '3.1',\n",
              " '3.16',\n",
              " '3.18',\n",
              " '3.19',\n",
              " '3.2',\n",
              " '3.20',\n",
              " '3.23',\n",
              " '3.253',\n",
              " '3.28',\n",
              " '3.3',\n",
              " '3.35',\n",
              " '3.375',\n",
              " '3.4',\n",
              " '3.42',\n",
              " '3.43',\n",
              " '3.5',\n",
              " '3.55',\n",
              " '3.6',\n",
              " '3.61',\n",
              " '3.625',\n",
              " '3.7',\n",
              " '3.75',\n",
              " '3.8',\n",
              " '3.80',\n",
              " '3.9',\n",
              " '30.6',\n",
              " '30.9',\n",
              " '319.75',\n",
              " '32.8',\n",
              " '334.5',\n",
              " '34.625',\n",
              " '341.20',\n",
              " '3436.58',\n",
              " '35.2',\n",
              " '35.7',\n",
              " '352.7',\n",
              " '352.9',\n",
              " '35500.64',\n",
              " '35564.43',\n",
              " '36.9',\n",
              " '361.8',\n",
              " '3648.82',\n",
              " '37.3',\n",
              " '37.5',\n",
              " '372.14',\n",
              " '372.9',\n",
              " '374.19',\n",
              " '374.20',\n",
              " '377.60',\n",
              " '38.3',\n",
              " '38.375',\n",
              " '38.5',\n",
              " '38.875',\n",
              " '387.8',\n",
              " '4.1',\n",
              " '4.10',\n",
              " '4.2',\n",
              " '4.25',\n",
              " '4.3',\n",
              " '4.4',\n",
              " '4.5',\n",
              " '4.55',\n",
              " '4.6',\n",
              " '4.7',\n",
              " '4.75',\n",
              " '4.8',\n",
              " '4.875',\n",
              " '4.898',\n",
              " '4.9',\n",
              " '40.21',\n",
              " '41.60',\n",
              " '415.6',\n",
              " '415.8',\n",
              " '42.1',\n",
              " '42.5',\n",
              " '422.5',\n",
              " '43.875',\n",
              " '434.4',\n",
              " '436.01',\n",
              " '446.62',\n",
              " '449.04',\n",
              " '45.2',\n",
              " '45.3',\n",
              " '45.75',\n",
              " '456.64',\n",
              " '46.1',\n",
              " '47.1',\n",
              " '47.125',\n",
              " '47.5',\n",
              " '47.6',\n",
              " '49.9',\n",
              " '494.50',\n",
              " '497.34',\n",
              " '5.1',\n",
              " '5.2180',\n",
              " '5.276',\n",
              " '5.29',\n",
              " '5.3',\n",
              " '5.39',\n",
              " '5.4',\n",
              " '5.435',\n",
              " '5.5',\n",
              " '5.57',\n",
              " '5.6',\n",
              " '5.63',\n",
              " '5.7',\n",
              " '5.70',\n",
              " '5.8',\n",
              " '5.82',\n",
              " '5.9',\n",
              " '5.92',\n",
              " '50.1',\n",
              " '50.38',\n",
              " '50.45',\n",
              " '51.25',\n",
              " '51.6',\n",
              " '55.1',\n",
              " '566.54',\n",
              " '57.50',\n",
              " '57.6',\n",
              " '57.7',\n",
              " '58.64',\n",
              " '59.6',\n",
              " '59.9',\n",
              " '6.03',\n",
              " '6.1',\n",
              " '6.20',\n",
              " '6.21',\n",
              " '6.25',\n",
              " '6.4',\n",
              " '6.40',\n",
              " '6.44',\n",
              " '6.5',\n",
              " '6.50',\n",
              " '6.53',\n",
              " '6.6',\n",
              " '6.7',\n",
              " '6.70',\n",
              " '6.79',\n",
              " '6.84',\n",
              " '6.9',\n",
              " '60.36',\n",
              " '618.1',\n",
              " '62.1',\n",
              " '62.5',\n",
              " '62.625',\n",
              " '63.79',\n",
              " '630.9',\n",
              " '64.5',\n",
              " '66.5',\n",
              " '7.15',\n",
              " '7.2',\n",
              " '7.20',\n",
              " '7.272',\n",
              " '7.3',\n",
              " '7.4',\n",
              " '7.40',\n",
              " '7.422',\n",
              " '7.45',\n",
              " '7.458',\n",
              " '7.5',\n",
              " '7.50',\n",
              " '7.52',\n",
              " '7.55',\n",
              " '7.60',\n",
              " '7.62',\n",
              " '7.63',\n",
              " '7.65',\n",
              " '7.74',\n",
              " '7.78',\n",
              " '7.79',\n",
              " '7.8',\n",
              " '7.80',\n",
              " '7.84',\n",
              " '7.88',\n",
              " '7.90',\n",
              " '7.95',\n",
              " '70.2',\n",
              " '70.7',\n",
              " '705.6',\n",
              " '72.7',\n",
              " '734.9',\n",
              " '737.5',\n",
              " '77.56',\n",
              " '77.6',\n",
              " '77.70',\n",
              " '8.04',\n",
              " '8.06',\n",
              " '8.07',\n",
              " '8.1',\n",
              " '8.12',\n",
              " '8.14',\n",
              " '8.15',\n",
              " '8.19',\n",
              " '8.2',\n",
              " '8.22',\n",
              " '8.25',\n",
              " '8.30',\n",
              " '8.35',\n",
              " '8.45',\n",
              " '8.467',\n",
              " '8.47',\n",
              " '8.48',\n",
              " '8.5',\n",
              " '8.50',\n",
              " '8.53',\n",
              " '8.55',\n",
              " '8.56',\n",
              " '8.575',\n",
              " '8.60',\n",
              " '8.64',\n",
              " '8.65',\n",
              " '8.70',\n",
              " '8.75',\n",
              " '8.9',\n",
              " '80.50',\n",
              " '80.8',\n",
              " '81.8',\n",
              " '811.9',\n",
              " '83.4',\n",
              " '84.29',\n",
              " '84.9',\n",
              " '85.1',\n",
              " '85.7',\n",
              " '86.12',\n",
              " '87.5',\n",
              " '88.32',\n",
              " '89.7',\n",
              " '89.9',\n",
              " '9.3',\n",
              " '9.32',\n",
              " '9.37',\n",
              " '9.45',\n",
              " '9.5',\n",
              " '9.625',\n",
              " '9.75',\n",
              " '9.8',\n",
              " '9.82',\n",
              " '9.9',\n",
              " '92.9',\n",
              " '93.3',\n",
              " '93.9',\n",
              " '94.2',\n",
              " '94.8',\n",
              " '95.09',\n",
              " '96.4',\n",
              " '98.3',\n",
              " '99.1',\n",
              " '99.3']"
            ]
          },
          "execution_count": 256,
          "metadata": {},
          "output_type": "execute_result"
        }
      ],
      "source": [
        "[w for w in wsj if re.search('^[0-9]+\\.[0-9]+$',w)]  #\\.--> 문자 그 자체를 나타냄"
      ]
    },
    {
      "cell_type": "code",
      "execution_count": null,
      "id": "45c87961",
      "metadata": {
        "id": "45c87961",
        "outputId": "e5d79b70-25ab-47d1-89df-f49294189f1d"
      },
      "outputs": [
        {
          "data": {
            "text/plain": [
              "['C$', 'US$']"
            ]
          },
          "execution_count": 257,
          "metadata": {},
          "output_type": "execute_result"
        }
      ],
      "source": [
        "[w for w in wsj if re.search('^[A-Z]+\\$$',w)]"
      ]
    },
    {
      "cell_type": "code",
      "execution_count": null,
      "id": "d01e5d5c",
      "metadata": {
        "id": "d01e5d5c",
        "outputId": "b8557862-d5f2-4553-c4c0-e7eafc73b587"
      },
      "outputs": [
        {
          "data": {
            "text/plain": [
              "['1614',\n",
              " '1637',\n",
              " '1787',\n",
              " '1901',\n",
              " '1903',\n",
              " '1917',\n",
              " '1925',\n",
              " '1929',\n",
              " '1933',\n",
              " '1934',\n",
              " '1948',\n",
              " '1953',\n",
              " '1955',\n",
              " '1956',\n",
              " '1961',\n",
              " '1965',\n",
              " '1966',\n",
              " '1967',\n",
              " '1968',\n",
              " '1969',\n",
              " '1970',\n",
              " '1971',\n",
              " '1972',\n",
              " '1973',\n",
              " '1975',\n",
              " '1976',\n",
              " '1977',\n",
              " '1979',\n",
              " '1980',\n",
              " '1981',\n",
              " '1982',\n",
              " '1983',\n",
              " '1984',\n",
              " '1985',\n",
              " '1986',\n",
              " '1987',\n",
              " '1988',\n",
              " '1989',\n",
              " '1990',\n",
              " '1991',\n",
              " '1992',\n",
              " '1993',\n",
              " '1994',\n",
              " '1995',\n",
              " '1996',\n",
              " '1997',\n",
              " '1998',\n",
              " '1999',\n",
              " '2000',\n",
              " '2005',\n",
              " '2009',\n",
              " '2017',\n",
              " '2019',\n",
              " '2029',\n",
              " '3057',\n",
              " '8300']"
            ]
          },
          "execution_count": 258,
          "metadata": {},
          "output_type": "execute_result"
        }
      ],
      "source": [
        "[w for w in wsj if re.search('^[0-9]{4}$',w)]"
      ]
    },
    {
      "cell_type": "code",
      "execution_count": null,
      "id": "6e97a3c4",
      "metadata": {
        "id": "6e97a3c4",
        "outputId": "d662ef09-a9d9-402f-89b5-9feca7c1cfd0"
      },
      "outputs": [
        {
          "data": {
            "text/plain": [
              "['black-and-white',\n",
              " 'bread-and-butter',\n",
              " 'father-in-law',\n",
              " 'machine-gun-toting',\n",
              " 'savings-and-loan']"
            ]
          },
          "execution_count": 264,
          "metadata": {},
          "output_type": "execute_result"
        }
      ],
      "source": [
        "[w for w in wsj if re.search('[a-z]{5,}-[a-z]{2,3}-[a-z]{,6}$',w)]   #5개 이상,6개 미만"
      ]
    },
    {
      "cell_type": "code",
      "execution_count": null,
      "id": "6f18a9bf",
      "metadata": {
        "id": "6f18a9bf",
        "outputId": "cce91efd-7eb9-43bf-c7f8-1b5feaa5dcee"
      },
      "outputs": [
        {
          "data": {
            "text/plain": [
              "['10-day',\n",
              " '10-lap',\n",
              " '10-year',\n",
              " '100-megabyte',\n",
              " '100-share',\n",
              " '11-month-old',\n",
              " '12-member',\n",
              " '12-point',\n",
              " '12-year',\n",
              " '14-hour',\n",
              " '15-day',\n",
              " '150-point',\n",
              " '17-year-old',\n",
              " '18-year-old',\n",
              " '19-month-old',\n",
              " '190-point',\n",
              " '20-point',\n",
              " '20-stock',\n",
              " '21-month',\n",
              " '237-seat',\n",
              " '240-page',\n",
              " '25-year-old',\n",
              " '27-year',\n",
              " '30-day',\n",
              " '30-minute',\n",
              " '30-point',\n",
              " '30-share',\n",
              " '30-year',\n",
              " '300-day',\n",
              " '31-year-old',\n",
              " '36-day',\n",
              " '36-minute',\n",
              " '36-store',\n",
              " '37-year-old',\n",
              " '40-megabyte',\n",
              " '40-year-old',\n",
              " '42-year',\n",
              " '43-year-old',\n",
              " '50-state',\n",
              " '500-stock',\n",
              " '51-year-old',\n",
              " '52-week',\n",
              " '520-lawyer',\n",
              " '53-year-old',\n",
              " '54-year-old',\n",
              " '55-year-old',\n",
              " '58-year-old',\n",
              " '59-year-old',\n",
              " '62-year-old',\n",
              " '63-year-old',\n",
              " '64-year-old',\n",
              " '69-point',\n",
              " '75-year-old',\n",
              " '84-month',\n",
              " '84-year-old',\n",
              " '87-store',\n",
              " '90-cent-an-hour',\n",
              " '90-day']"
            ]
          },
          "execution_count": 259,
          "metadata": {},
          "output_type": "execute_result"
        }
      ],
      "source": [
        "[w for w in wsj if re.search('^[0-9]+-[a-z]{3,5}',w)]"
      ]
    },
    {
      "cell_type": "code",
      "execution_count": null,
      "id": "b1f2cadc",
      "metadata": {
        "id": "b1f2cadc"
      },
      "outputs": [],
      "source": [
        "a=[w for w in wsj if re.search('(ed|ing)$',w)]   #|--> or"
      ]
    },
    {
      "cell_type": "code",
      "execution_count": null,
      "id": "89a305b1",
      "metadata": {
        "id": "89a305b1",
        "outputId": "462bf978-2e56-4d05-a843-f9ff6b316c8e"
      },
      "outputs": [
        {
          "data": {
            "text/plain": [
              "1841"
            ]
          },
          "execution_count": 263,
          "metadata": {},
          "output_type": "execute_result"
        }
      ],
      "source": [
        "len(a)"
      ]
    },
    {
      "cell_type": "code",
      "execution_count": null,
      "id": "13678056",
      "metadata": {
        "id": "13678056"
      },
      "outputs": [],
      "source": [
        "#http://wikidocs.net/4308"
      ]
    }
  ],
  "metadata": {
    "kernelspec": {
      "display_name": "Python 3 (ipykernel)",
      "language": "python",
      "name": "python3"
    },
    "language_info": {
      "codemirror_mode": {
        "name": "ipython",
        "version": 3
      },
      "file_extension": ".py",
      "mimetype": "text/x-python",
      "name": "python",
      "nbconvert_exporter": "python",
      "pygments_lexer": "ipython3",
      "version": "3.9.7"
    },
    "colab": {
      "provenance": [],
      "include_colab_link": true
    }
  },
  "nbformat": 4,
  "nbformat_minor": 5
}