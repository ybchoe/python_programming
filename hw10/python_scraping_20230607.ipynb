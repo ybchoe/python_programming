{
  "cells": [
    {
      "cell_type": "markdown",
      "metadata": {
        "id": "view-in-github",
        "colab_type": "text"
      },
      "source": [
        "<a href=\"https://colab.research.google.com/github/ybchoe/python_programming/blob/main/hw10/python_scraping_20230607.ipynb\" target=\"_parent\"><img src=\"https://colab.research.google.com/assets/colab-badge.svg\" alt=\"Open In Colab\"/></a>"
      ]
    },
    {
      "cell_type": "code",
      "execution_count": null,
      "id": "2f6dc54b",
      "metadata": {
        "id": "2f6dc54b"
      },
      "outputs": [],
      "source": [
        "import xml.etree.ElementTree as et"
      ]
    },
    {
      "cell_type": "code",
      "execution_count": null,
      "id": "db25e8d3",
      "metadata": {
        "id": "db25e8d3"
      },
      "outputs": [],
      "source": [
        "tree = et.ElementTree(file='menu.xml')\n",
        "root = tree.getroot()"
      ]
    },
    {
      "cell_type": "code",
      "execution_count": null,
      "id": "0319f7a0",
      "metadata": {
        "id": "0319f7a0",
        "outputId": "ce4f3c57-2e10-4539-ebc1-da8e682eb3c2"
      },
      "outputs": [
        {
          "data": {
            "text/plain": [
              "<xml.etree.ElementTree.ElementTree at 0x1bd865abf10>"
            ]
          },
          "execution_count": 3,
          "metadata": {},
          "output_type": "execute_result"
        }
      ],
      "source": [
        "tree"
      ]
    },
    {
      "cell_type": "code",
      "execution_count": null,
      "id": "a04e8478",
      "metadata": {
        "id": "a04e8478",
        "outputId": "2fba714b-990f-489c-e33d-1c75269ae715"
      },
      "outputs": [
        {
          "name": "stdout",
          "output_type": "stream",
          "text": [
            "menu\n"
          ]
        }
      ],
      "source": [
        "print(root.tag)"
      ]
    },
    {
      "cell_type": "code",
      "execution_count": null,
      "id": "35b41dcd",
      "metadata": {
        "id": "35b41dcd",
        "outputId": "3caa5f36-9ca8-4597-d9ad-a73a8231e493"
      },
      "outputs": [
        {
          "data": {
            "text/plain": [
              "xml.etree.ElementTree.Element"
            ]
          },
          "execution_count": 5,
          "metadata": {},
          "output_type": "execute_result"
        }
      ],
      "source": [
        "type(root)"
      ]
    },
    {
      "cell_type": "code",
      "execution_count": null,
      "id": "f2f8bd03",
      "metadata": {
        "id": "f2f8bd03",
        "outputId": "4902cd33-64e4-4438-92e2-94b645ca716c"
      },
      "outputs": [
        {
          "name": "stdout",
          "output_type": "stream",
          "text": [
            "<Element 'menu' at 0x000001BD865B8360>\n"
          ]
        }
      ],
      "source": [
        "print(root)"
      ]
    },
    {
      "cell_type": "code",
      "execution_count": null,
      "id": "5cd28898",
      "metadata": {
        "id": "5cd28898",
        "outputId": "1e89d327-dd02-486c-d4fb-c6e28fd8351b"
      },
      "outputs": [
        {
          "name": "stdout",
          "output_type": "stream",
          "text": [
            "tag: breakfast attributes: {'hours': '7-11'}\n",
            "\ttag: item attributes: {'price': '$6.00'}\n",
            "\ttag: item attributes: {'price': '$4.00'}\n",
            "tag: lunch attributes: {'hours': '11-3'}\n",
            "\ttag: item attributes: {'price': '$5.00'}\n",
            "tag: dinner attributes: {'hours': '3-10'}\n",
            "\ttag: item attributes: {'price': '8.00'}\n"
          ]
        }
      ],
      "source": [
        "for child in root:\n",
        "    print('tag:',child.tag,'attributes:',child.attrib)\n",
        "    for grandchild in child:\n",
        "        print('\\ttag:',grandchild.tag,'attributes:',grandchild.attrib)"
      ]
    },
    {
      "cell_type": "code",
      "execution_count": null,
      "id": "d8a0a104",
      "metadata": {
        "id": "d8a0a104",
        "outputId": "493def22-d281-496a-faa0-def42838ea74"
      },
      "outputs": [
        {
          "data": {
            "text/plain": [
              "3"
            ]
          },
          "execution_count": 8,
          "metadata": {},
          "output_type": "execute_result"
        }
      ],
      "source": [
        "len(root)"
      ]
    },
    {
      "cell_type": "code",
      "execution_count": null,
      "id": "99ae34ea",
      "metadata": {
        "id": "99ae34ea",
        "outputId": "85a0a852-85da-4449-99b9-1efd443326b1"
      },
      "outputs": [
        {
          "data": {
            "text/plain": [
              "2"
            ]
          },
          "execution_count": 9,
          "metadata": {},
          "output_type": "execute_result"
        }
      ],
      "source": [
        "len(root[0])"
      ]
    },
    {
      "cell_type": "code",
      "execution_count": null,
      "id": "50446126",
      "metadata": {
        "id": "50446126",
        "outputId": "d0749899-2fec-4580-9d7d-836f41eb9609"
      },
      "outputs": [
        {
          "data": {
            "text/plain": [
              "xml.etree.ElementTree.Element"
            ]
          },
          "execution_count": 10,
          "metadata": {},
          "output_type": "execute_result"
        }
      ],
      "source": [
        "type(root[0])"
      ]
    },
    {
      "cell_type": "code",
      "execution_count": null,
      "id": "be7b8fd4",
      "metadata": {
        "id": "be7b8fd4",
        "outputId": "6719f153-5905-41c8-9663-64feb63daaf5"
      },
      "outputs": [
        {
          "name": "stdout",
          "output_type": "stream",
          "text": [
            "<Element 'breakfast' at 0x000001BD865B83B0>\n",
            "7-11\n",
            "['hours']\n",
            "[('hours', '7-11')]\n"
          ]
        }
      ],
      "source": [
        "print(root[0])\n",
        "print(root[0].get(\"hours\"))\n",
        "print(root[0].keys())\n",
        "print(root[0].items())"
      ]
    },
    {
      "cell_type": "code",
      "execution_count": null,
      "id": "8690bd4b",
      "metadata": {
        "id": "8690bd4b",
        "outputId": "0ff82f5f-1011-4f87-e8f2-6927a2946daa"
      },
      "outputs": [
        {
          "name": "stdout",
          "output_type": "stream",
          "text": [
            "<Element 'lunch' at 0x000001BD865B84F0>\n",
            "11-3\n",
            "['hours']\n",
            "[('hours', '11-3')]\n"
          ]
        }
      ],
      "source": [
        "lunch=root.find(\"lunch\")\n",
        "print(lunch)\n",
        "print(lunch.get(\"hours\"))\n",
        "print(lunch.keys())\n",
        "print(lunch.items())"
      ]
    },
    {
      "cell_type": "code",
      "execution_count": null,
      "id": "e1991e85",
      "metadata": {
        "id": "e1991e85",
        "outputId": "557e242f-109a-4be2-916f-699540915940"
      },
      "outputs": [
        {
          "data": {
            "text/plain": [
              "xml.etree.ElementTree.Element"
            ]
          },
          "execution_count": 13,
          "metadata": {},
          "output_type": "execute_result"
        }
      ],
      "source": [
        "type(lunch)"
      ]
    },
    {
      "cell_type": "code",
      "execution_count": null,
      "id": "7949509b",
      "metadata": {
        "id": "7949509b",
        "outputId": "be118bef-064f-4be9-d358-c52ba703adb0"
      },
      "outputs": [
        {
          "name": "stdout",
          "output_type": "stream",
          "text": [
            "[<Element 'item' at 0x000001BD865B8400>, <Element 'item' at 0x000001BD865B84A0>]\n"
          ]
        }
      ],
      "source": [
        "print(root[0].findall('item'))"
      ]
    },
    {
      "cell_type": "code",
      "execution_count": null,
      "id": "1ec027b9",
      "metadata": {
        "id": "1ec027b9",
        "outputId": "ca16db60-0401-4fe0-9ba6-a96729e0c3fa"
      },
      "outputs": [
        {
          "name": "stdout",
          "output_type": "stream",
          "text": [
            "[<Element 'item' at 0x000001BD865B8400>, <Element 'item' at 0x000001BD865B84A0>]\n",
            "$6.00\n",
            "breakfast burritos\n",
            "$4.00\n",
            "pancakes\n"
          ]
        }
      ],
      "source": [
        "print(root[0].findall('item'))\n",
        "for item in root[0].findall('item'):\n",
        "    print(item.get('price'))\n",
        "    print(item.text)"
      ]
    },
    {
      "cell_type": "code",
      "execution_count": null,
      "id": "27fb3049",
      "metadata": {
        "id": "27fb3049"
      },
      "outputs": [],
      "source": [
        "import json"
      ]
    },
    {
      "cell_type": "code",
      "execution_count": null,
      "id": "23e82404",
      "metadata": {
        "id": "23e82404"
      },
      "outputs": [],
      "source": [
        "j1={\"name\":\"홍길동\", \"birth\":\"0525\",\"age\":30}"
      ]
    },
    {
      "cell_type": "code",
      "execution_count": null,
      "id": "0b3ddc35",
      "metadata": {
        "id": "0b3ddc35",
        "outputId": "cd7a2e4b-e57b-4762-851e-208e52a31650"
      },
      "outputs": [
        {
          "data": {
            "text/plain": [
              "{'name': '홍길동', 'birth': '0525', 'age': 30}"
            ]
          },
          "execution_count": 18,
          "metadata": {},
          "output_type": "execute_result"
        }
      ],
      "source": [
        "j1"
      ]
    },
    {
      "cell_type": "code",
      "execution_count": null,
      "id": "cd66ffc6",
      "metadata": {
        "id": "cd66ffc6",
        "outputId": "2c5a01ab-4c6c-44d9-f205-d476040cb46a"
      },
      "outputs": [
        {
          "data": {
            "text/plain": [
              "'{\"name\": \"\\\\ud64d\\\\uae38\\\\ub3d9\", \"birth\": \"0525\", \"age\": 30}'"
            ]
          },
          "execution_count": 19,
          "metadata": {},
          "output_type": "execute_result"
        }
      ],
      "source": [
        "json.dumps(j1)"
      ]
    },
    {
      "cell_type": "code",
      "execution_count": null,
      "id": "e6cbfd15",
      "metadata": {
        "id": "e6cbfd15",
        "outputId": "477ad2ad-29b0-4212-a021-8d9ce2cbab48"
      },
      "outputs": [
        {
          "data": {
            "text/plain": [
              "dict"
            ]
          },
          "execution_count": 20,
          "metadata": {},
          "output_type": "execute_result"
        }
      ],
      "source": [
        "type(j1)"
      ]
    },
    {
      "cell_type": "code",
      "execution_count": null,
      "id": "fa481c38",
      "metadata": {
        "id": "fa481c38",
        "outputId": "80be354e-346a-424b-ccad-6b18846593ef"
      },
      "outputs": [
        {
          "data": {
            "text/plain": [
              "str"
            ]
          },
          "execution_count": 21,
          "metadata": {},
          "output_type": "execute_result"
        }
      ],
      "source": [
        "type(json.dumps(j1))"
      ]
    },
    {
      "cell_type": "code",
      "execution_count": null,
      "id": "e4db1290",
      "metadata": {
        "id": "e4db1290",
        "outputId": "7e20e5d5-c331-4190-e977-c02ee9bcd399"
      },
      "outputs": [
        {
          "name": "stdout",
          "output_type": "stream",
          "text": [
            "{\n",
            "  \"name\": \"\\ud64d\\uae38\\ub3d9\",\n",
            "  \"birth\": \"0525\",\n",
            "  \"age\": 30\n",
            "}\n"
          ]
        }
      ],
      "source": [
        "print(json.dumps(j1, indent=2))"
      ]
    },
    {
      "cell_type": "code",
      "execution_count": null,
      "id": "74fa7a81",
      "metadata": {
        "id": "74fa7a81",
        "outputId": "40a4fa99-8726-4285-d6d1-d0bf4064b1ea"
      },
      "outputs": [
        {
          "data": {
            "text/plain": [
              "'[1, 2, 3]'"
            ]
          },
          "execution_count": 23,
          "metadata": {},
          "output_type": "execute_result"
        }
      ],
      "source": [
        "json.dumps([1,2,3])"
      ]
    },
    {
      "cell_type": "code",
      "execution_count": null,
      "id": "90ff5714",
      "metadata": {
        "id": "90ff5714",
        "outputId": "59617621-f4e3-4e01-de38-783c2af79415"
      },
      "outputs": [
        {
          "data": {
            "text/plain": [
              "'[4, 5, 6]'"
            ]
          },
          "execution_count": 24,
          "metadata": {},
          "output_type": "execute_result"
        }
      ],
      "source": [
        "json.dumps((4,5,6))"
      ]
    },
    {
      "cell_type": "code",
      "execution_count": null,
      "id": "f4a0bc96",
      "metadata": {
        "id": "f4a0bc96"
      },
      "outputs": [],
      "source": [
        "d1=json.dumps(j1)"
      ]
    },
    {
      "cell_type": "code",
      "execution_count": null,
      "id": "a4368a02",
      "metadata": {
        "id": "a4368a02",
        "outputId": "0ce4cba5-1170-4081-bd97-032530a81d73"
      },
      "outputs": [
        {
          "data": {
            "text/plain": [
              "{'name': '홍길동', 'birth': '0525', 'age': 30}"
            ]
          },
          "execution_count": 26,
          "metadata": {},
          "output_type": "execute_result"
        }
      ],
      "source": [
        "json.loads(d1)"
      ]
    },
    {
      "cell_type": "code",
      "execution_count": null,
      "id": "b118a342",
      "metadata": {
        "id": "b118a342"
      },
      "outputs": [],
      "source": [
        "with open('./myinfo.json','rt', encoding='UTF8') as f:\n",
        "    data=json.load(f)"
      ]
    },
    {
      "cell_type": "code",
      "execution_count": null,
      "id": "da7c85af",
      "metadata": {
        "id": "da7c85af",
        "outputId": "f6504c3e-5d4c-44e8-e1ab-b1ca33bd7f88"
      },
      "outputs": [
        {
          "name": "stdout",
          "output_type": "stream",
          "text": [
            "<class 'dict'>\n"
          ]
        }
      ],
      "source": [
        "print(type(data))"
      ]
    },
    {
      "cell_type": "code",
      "execution_count": null,
      "id": "950f3696",
      "metadata": {
        "id": "950f3696",
        "outputId": "45e613fa-b395-492c-c7ed-129f0ecbbe9a"
      },
      "outputs": [
        {
          "name": "stdout",
          "output_type": "stream",
          "text": [
            "{'name': '홍길동', 'birth': '0525', 'age': 30}\n"
          ]
        }
      ],
      "source": [
        "print(data)"
      ]
    },
    {
      "cell_type": "code",
      "execution_count": null,
      "id": "5513cb05",
      "metadata": {
        "id": "5513cb05"
      },
      "outputs": [],
      "source": [
        "from urllib.request import urlopen"
      ]
    },
    {
      "cell_type": "code",
      "execution_count": null,
      "id": "e1613981",
      "metadata": {
        "id": "e1613981",
        "outputId": "a4c4669e-19ae-42c3-e99e-dcac4275a9c9"
      },
      "outputs": [
        {
          "name": "stdout",
          "output_type": "stream",
          "text": [
            "b'<html>\\n<head>\\n<title>A Useful Page</title>\\n</head>\\n<body>\\n<h1>An Interesting Title</h1>\\n<div>\\nLorem ipsum dolor sit amet, consectetur adipisicing elit, sed do eiusmod tempor incididunt ut labore et dolore magna aliqua. Ut enim ad minim veniam, quis nostrud exercitation ullamco laboris nisi ut aliquip ex ea commodo consequat. Duis aute irure dolor in reprehenderit in voluptate velit esse cillum dolore eu fugiat nulla pariatur. Excepteur sint occaecat cupidatat non proident, sunt in culpa qui officia deserunt mollit anim id est laborum.\\n</div>\\n</body>\\n</html>\\n'\n"
          ]
        }
      ],
      "source": [
        "html = urlopen(\"http://pythonscraping.com/pages/page1.html\")\n",
        "print(html.read())"
      ]
    },
    {
      "cell_type": "code",
      "execution_count": null,
      "id": "78f590d5",
      "metadata": {
        "id": "78f590d5",
        "outputId": "ec8090e4-244c-4542-a377-1f1cfb3a6bff"
      },
      "outputs": [
        {
          "name": "stdout",
          "output_type": "stream",
          "text": [
            "<h1>An Interesting Title</h1>\n"
          ]
        }
      ],
      "source": [
        "from urllib.request import urlopen\n",
        "from bs4 import BeautifulSoup\n",
        "html = urlopen(\"http://pythonscraping.com/pages/page1.html\")\n",
        "bsObj = BeautifulSoup(html.read(),\"html.parser\")\n",
        "print(bsObj.h1)"
      ]
    }
  ],
  "metadata": {
    "kernelspec": {
      "display_name": "Python 3 (ipykernel)",
      "language": "python",
      "name": "python3"
    },
    "language_info": {
      "codemirror_mode": {
        "name": "ipython",
        "version": 3
      },
      "file_extension": ".py",
      "mimetype": "text/x-python",
      "name": "python",
      "nbconvert_exporter": "python",
      "pygments_lexer": "ipython3",
      "version": "3.9.7"
    },
    "colab": {
      "provenance": [],
      "include_colab_link": true
    }
  },
  "nbformat": 4,
  "nbformat_minor": 5
}