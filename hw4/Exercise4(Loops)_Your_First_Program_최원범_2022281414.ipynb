{
  "nbformat": 4,
  "nbformat_minor": 0,
  "metadata": {
    "kernelspec": {
      "display_name": "Python 3",
      "language": "python",
      "name": "python3"
    },
    "language_info": {
      "codemirror_mode": {
        "name": "ipython",
        "version": 3
      },
      "file_extension": ".py",
      "mimetype": "text/x-python",
      "name": "python",
      "nbconvert_exporter": "python",
      "pygments_lexer": "ipython3",
      "version": "3.6.8"
    },
    "colab": {
      "provenance": [],
      "include_colab_link": true
    }
  },
  "cells": [
    {
      "cell_type": "markdown",
      "metadata": {
        "id": "view-in-github",
        "colab_type": "text"
      },
      "source": [
        "<a href=\"https://colab.research.google.com/github/ybchoe/python_programming/blob/main/hw4/Exercise4(Loops)_Your_First_Program_%EC%B5%9C%EC%9B%90%EB%B2%94_2022281414.ipynb\" target=\"_parent\"><img src=\"https://colab.research.google.com/assets/colab-badge.svg\" alt=\"Open In Colab\"/></a>"
      ]
    },
    {
      "cell_type": "markdown",
      "metadata": {
        "id": "veuE7B07Lavt"
      },
      "source": [
        "<h1>Loops in Python (반복문) </h1>"
      ]
    },
    {
      "cell_type": "markdown",
      "metadata": {
        "id": "51gjNoDFLavu"
      },
      "source": [
        "<p><strong>Welcome!</strong> This notebook will teach you about the loops in the Python Programming Language. By the end of this lab, you'll know how to use the loop statements in Python, including for loop, and while loop.</p>"
      ]
    },
    {
      "cell_type": "markdown",
      "metadata": {
        "id": "-DmgaqO5Lavw"
      },
      "source": [
        "<h2 id=\"loop\">Loops</h2>"
      ]
    },
    {
      "cell_type": "markdown",
      "metadata": {
        "id": "xPBnIWEzLavw"
      },
      "source": [
        "<h3 id=\"range\">Range</h3>"
      ]
    },
    {
      "cell_type": "markdown",
      "metadata": {
        "id": "hTZ0cAGwLavx"
      },
      "source": [
        "Sometimes, you might want to repeat a given operation many times. Repeated executions like this are performed by <b>loops</b>. We will look at two types of loops, <code>for</code> loops and <code>while</code> loops.\n",
        "\n",
        "Before we discuss loops lets discuss the <code>range</code> object. It is helpful to think of the range object as an ordered list. For now, let's look at the simplest case. If we would like to generate a sequence that contains three elements ordered from 0 to 2 we simply use the following command:"
      ]
    },
    {
      "cell_type": "code",
      "metadata": {
        "id": "lWhJdKiyLavx",
        "colab": {
          "base_uri": "https://localhost:8080/"
        },
        "outputId": "1ed8b65f-bb99-4bac-8d58-3a14ec368e35"
      },
      "source": [
        "# Use the range ([0, 1, 2])\n",
        "\n",
        "test=range(3)\n",
        "test"
      ],
      "execution_count": 2,
      "outputs": [
        {
          "output_type": "execute_result",
          "data": {
            "text/plain": [
              "range(0, 3)"
            ]
          },
          "metadata": {},
          "execution_count": 2
        }
      ]
    },
    {
      "cell_type": "markdown",
      "metadata": {
        "id": "SmdwJdYFLav1"
      },
      "source": [
        "<img src=\"https://s3-api.us-geo.objectstorage.softlayer.net/cf-courses-data/CognitiveClass/PY0101EN/Chapter%203/Images/LoopsRange.png\" width=\"300\" />"
      ]
    },
    {
      "cell_type": "markdown",
      "metadata": {
        "id": "DGtn2UWBLav1"
      },
      "source": [
        "<h3 id=\"for\">What is <code>for</code> loop?</h3>"
      ]
    },
    {
      "cell_type": "markdown",
      "metadata": {
        "id": "c1LJRwE_Lav2"
      },
      "source": [
        "The <code>for</code> loop enables you to execute a code block multiple times. For example, you would use this if you would like to print out every element in a list.    \n",
        "Let's try to use a <code>for</code> loop to print all the years presented in the list <code>dates</code>:"
      ]
    },
    {
      "cell_type": "markdown",
      "metadata": {
        "id": "kmiYt8JJLav2"
      },
      "source": [
        "This can be done as follows:"
      ]
    },
    {
      "cell_type": "code",
      "metadata": {
        "id": "xhJbqIpcLav3",
        "colab": {
          "base_uri": "https://localhost:8080/"
        },
        "outputId": "d22671aa-bb46-49ca-b559-2adf1b04fb35"
      },
      "source": [
        "# For loop example\n",
        "\n",
        "dates = [1982,1980,1973] #List[0] =1982 \n",
        "N = len(dates) #3 \n",
        "\n",
        "for i in range(N): #range(3) = [0, 1, 2] list --> i는 list에 있는 첫번째 값인 0, 그 다음에는 두번째 값인 1, 그 다음에는 세번째 값인 2 \n",
        "    print(dates[i]) # i=0 , i =1 , i =2   --> dates[0] = 1982, dates[1] = 1980, dates[2] =1973\n"
      ],
      "execution_count": 3,
      "outputs": [
        {
          "output_type": "stream",
          "name": "stdout",
          "text": [
            "1982\n",
            "1980\n",
            "1973\n"
          ]
        }
      ]
    },
    {
      "cell_type": "markdown",
      "metadata": {
        "id": "mFKLORq6Lav5"
      },
      "source": [
        "The code in the indent is executed <code>N</code> times, each time the value of <code>i</code> is increased by 1 for every execution. The statement executed is to <code>print</code> out the value in the list at index <code>i</code> as shown here:"
      ]
    },
    {
      "cell_type": "markdown",
      "metadata": {
        "id": "2TdxZXtMLav6"
      },
      "source": [
        "<img src=\"https://s3-api.us-geo.objectstorage.softlayer.net/cf-courses-data/CognitiveClass/PY0101EN/Chapter%203/Images/LoopsForRange.gif\" width=\"800\" />"
      ]
    },
    {
      "cell_type": "markdown",
      "metadata": {
        "id": "CMEnNUGgLav6"
      },
      "source": [
        "In this example we can print out a sequence of numbers from 0 to 7:"
      ]
    },
    {
      "cell_type": "code",
      "metadata": {
        "id": "hKcwbqXdLav7",
        "colab": {
          "base_uri": "https://localhost:8080/"
        },
        "outputId": "2aadd492-527b-4c57-b495-f14434151d28"
      },
      "source": [
        "# Example of for loop\n",
        "\n",
        "for i in range(0, 8): \n",
        "    print(\"i is equal to\", i)"
      ],
      "execution_count": 5,
      "outputs": [
        {
          "output_type": "stream",
          "name": "stdout",
          "text": [
            "i is equal to 0\n",
            "i is equal to 1\n",
            "i is equal to 2\n",
            "i is equal to 3\n",
            "i is equal to 4\n",
            "i is equal to 5\n",
            "i is equal to 6\n",
            "i is equal to 7\n"
          ]
        }
      ]
    },
    {
      "cell_type": "markdown",
      "metadata": {
        "id": "0TWdrINfLav9"
      },
      "source": [
        "In Python we can directly access the elements in the list as follows: "
      ]
    },
    {
      "cell_type": "code",
      "metadata": {
        "id": "0uj23KUTLav-",
        "colab": {
          "base_uri": "https://localhost:8080/"
        },
        "outputId": "cc52f1a3-c635-4854-e86b-a86ceeb2bf2e"
      },
      "source": [
        "# Exmaple of for loop, loop through list\n",
        "\n",
        "for year in dates:  #이것을 가장 자주 사용한다. \n",
        "    print(year)   "
      ],
      "execution_count": 6,
      "outputs": [
        {
          "output_type": "stream",
          "name": "stdout",
          "text": [
            "1982\n",
            "1980\n",
            "1973\n"
          ]
        }
      ]
    },
    {
      "cell_type": "markdown",
      "metadata": {
        "id": "cuNKB6_TLawB"
      },
      "source": [
        "For each iteration, the value of the variable <code>years</code> behaves like the value of <code>dates[i]</code> in the  first example:"
      ]
    },
    {
      "cell_type": "markdown",
      "metadata": {
        "id": "fFv4XnKCLawB"
      },
      "source": [
        "<img src=\"https://s3-api.us-geo.objectstorage.softlayer.net/cf-courses-data/CognitiveClass/PY0101EN/Chapter%203/Images/LoopsForList.gif\" width=\"800\">"
      ]
    },
    {
      "cell_type": "markdown",
      "metadata": {
        "id": "9sun46G_LawE"
      },
      "source": [
        "We can change the elements in a list:"
      ]
    },
    {
      "cell_type": "code",
      "metadata": {
        "id": "vrE8gmpgLawE",
        "colab": {
          "base_uri": "https://localhost:8080/"
        },
        "outputId": "8b4b8c41-6b7d-47ec-ca89-09518b09e359"
      },
      "source": [
        "# Use for loop to change the elements in list\n",
        "\n",
        "squares = ['red', 'yellow', 'green', 'purple', 'blue']\n",
        "\n",
        "for i in range(0, 5):\n",
        "    print(\"Before square \", i, 'is',  squares[i])\n",
        "    squares[i] = 'weight'\n",
        "    print(\"After square \", i, 'is',  squares[i])"
      ],
      "execution_count": 7,
      "outputs": [
        {
          "output_type": "stream",
          "name": "stdout",
          "text": [
            "Before square  0 is red\n",
            "After square  0 is weight\n",
            "Before square  1 is yellow\n",
            "After square  1 is weight\n",
            "Before square  2 is green\n",
            "After square  2 is weight\n",
            "Before square  3 is purple\n",
            "After square  3 is weight\n",
            "Before square  4 is blue\n",
            "After square  4 is weight\n"
          ]
        }
      ]
    },
    {
      "cell_type": "code",
      "metadata": {
        "id": "Zixyk0nPMrlR",
        "colab": {
          "base_uri": "https://localhost:8080/"
        },
        "outputId": "c304c83b-3249-446b-cb91-e8c5cd8f28f1"
      },
      "source": [
        "squares"
      ],
      "execution_count": 8,
      "outputs": [
        {
          "output_type": "execute_result",
          "data": {
            "text/plain": [
              "['weight', 'weight', 'weight', 'weight', 'weight']"
            ]
          },
          "metadata": {},
          "execution_count": 8
        }
      ]
    },
    {
      "cell_type": "code",
      "metadata": {
        "id": "Qqqyj3SDMuno",
        "colab": {
          "base_uri": "https://localhost:8080/"
        },
        "outputId": "30c7ad49-8767-48ad-c38a-a01a5e0dc5fd"
      },
      "source": [
        "squares = ['red', 'yellow', 'green', 'purple', 'blue']\n",
        "\n",
        "for i in squares:\n",
        "  print(\"Before square is: \", i)\n",
        "  \n",
        "for i in range(0,5):\n",
        "  squares[i] = i* \"what the heck!\" \n",
        "  print(squares[i])"
      ],
      "execution_count": 13,
      "outputs": [
        {
          "output_type": "stream",
          "name": "stdout",
          "text": [
            "Before square is:  red\n",
            "Before square is:  yellow\n",
            "Before square is:  green\n",
            "Before square is:  purple\n",
            "Before square is:  blue\n",
            "\n",
            "what the heck!\n",
            "what the heck!what the heck!\n",
            "what the heck!what the heck!what the heck!\n",
            "what the heck!what the heck!what the heck!what the heck!\n"
          ]
        }
      ]
    },
    {
      "cell_type": "markdown",
      "metadata": {
        "id": "mE29YMQWLawJ"
      },
      "source": [
        "<h3 id=\"while\">What is <code>while</code> loop?</h3>"
      ]
    },
    {
      "cell_type": "markdown",
      "metadata": {
        "id": "NYXnOv-NLawK"
      },
      "source": [
        "As you can see, the <code>for</code> loop is used for a controlled flow of repetition. However, what if we don't know when we want to stop the loop? What if we want to keep executing a code block until a certain condition is met? The <code>while</code> loop exists as a tool for repeated execution based on a condition. The code block will keep being executed until the given logical condition returns a **False** boolean value.\n"
      ]
    },
    {
      "cell_type": "markdown",
      "metadata": {
        "id": "VZTuYRGOLawK"
      },
      "source": [
        "Let’s say we would like to iterate through list <code>dates</code> and stop at the year 1973, then print out the number of iterations. This can be done with the following block of code:"
      ]
    },
    {
      "cell_type": "code",
      "metadata": {
        "id": "VQJvbPu5LawL",
        "colab": {
          "base_uri": "https://localhost:8080/"
        },
        "outputId": "2f4185dd-e020-495c-da16-54a21a00896f"
      },
      "source": [
        "# While Loop Example \n",
        "\n",
        "dates = [1982, 1980, 1973, 2000]\n",
        "\n",
        "i = 0\n",
        "year = 0\n",
        "\n",
        "while(year != 2000):\n",
        "    year = dates[i] #1982, 1980, 1973, 2000  \n",
        "    i = i + 1 #i =1, 2, 3, 4 \n",
        "    print(year) #1982, 1980, 1973, 2000  \n",
        "\n",
        "print(\"It took \", i ,\"repetitions to get out of loop.\")"
      ],
      "execution_count": 55,
      "outputs": [
        {
          "output_type": "stream",
          "name": "stdout",
          "text": [
            "1982\n",
            "1980\n",
            "1973\n",
            "2000\n",
            "It took  4 repetitions to get out of loop.\n"
          ]
        }
      ]
    },
    {
      "cell_type": "markdown",
      "metadata": {
        "id": "IdFAcKFfLawO"
      },
      "source": [
        "A while loop iterates merely until the condition in the argument is not  met, as shown in the following figure:"
      ]
    },
    {
      "cell_type": "markdown",
      "metadata": {
        "id": "WcY0Xi7hLawP"
      },
      "source": [
        "<img src=\"https://s3-api.us-geo.objectstorage.softlayer.net/cf-courses-data/CognitiveClass/PY0101EN/Chapter%203/Images/LoopsWhile.gif\" width=\"650\" />"
      ]
    },
    {
      "cell_type": "markdown",
      "metadata": {
        "id": "lVq1-tvvLawP"
      },
      "source": [
        "<hr>"
      ]
    },
    {
      "cell_type": "markdown",
      "metadata": {
        "id": "yxfGHiYiLawP"
      },
      "source": [
        "<h2 id=\"quiz\">Quiz on Loops</h2>"
      ]
    },
    {
      "cell_type": "markdown",
      "metadata": {
        "id": "ZHGYe8j5LawQ"
      },
      "source": [
        "Write a <code>for</code> loop the prints out all the element between <b>-5</b> and <b>5</b> using the range function."
      ]
    },
    {
      "cell_type": "code",
      "metadata": {
        "id": "QIXNfubLLawQ"
      },
      "source": [
        "# Write your code below and press Shift+Enter to execute"
      ],
      "execution_count": null,
      "outputs": []
    },
    {
      "cell_type": "code",
      "source": [
        "for i in range(-5, 6):\n",
        "    print(i)"
      ],
      "metadata": {
        "colab": {
          "base_uri": "https://localhost:8080/"
        },
        "id": "G88scfNR_P9D",
        "outputId": "7ffb971c-a0c5-4272-a1e3-3c3c6726ba0c"
      },
      "execution_count": 14,
      "outputs": [
        {
          "output_type": "stream",
          "name": "stdout",
          "text": [
            "-5\n",
            "-4\n",
            "-3\n",
            "-2\n",
            "-1\n",
            "0\n",
            "1\n",
            "2\n",
            "3\n",
            "4\n",
            "5\n"
          ]
        }
      ]
    },
    {
      "cell_type": "markdown",
      "metadata": {
        "id": "2leKrJ-OLawS"
      },
      "source": [
        "Double-click __here__ for the solution.\n",
        "<!-- \n",
        "for i in range(-5, 6):\n",
        "    print(i)\n",
        "-->"
      ]
    },
    {
      "cell_type": "markdown",
      "metadata": {
        "id": "lgt-lOBcLawT"
      },
      "source": [
        "Print the elements of the following list:\n",
        "<code>Genres=[ 'rock', 'R&B', 'Soundtrack', 'R&B', 'soul', 'pop']</code>\n",
        "Make sure you follow Python conventions."
      ]
    },
    {
      "cell_type": "code",
      "metadata": {
        "id": "y1P9DewULawT"
      },
      "source": [
        "# Write your code below and press Shift+Enter to execute"
      ],
      "execution_count": null,
      "outputs": []
    },
    {
      "cell_type": "code",
      "source": [
        "Genres = ['rock', 'R&B', 'Soundtrack', 'R&B', 'soul', 'pop']\n",
        "for i in Genres:\n",
        "    print(i)"
      ],
      "metadata": {
        "colab": {
          "base_uri": "https://localhost:8080/"
        },
        "id": "smLsxsak_bDn",
        "outputId": "70c0212e-fadd-43d7-b822-7901c59ef7c5"
      },
      "execution_count": 17,
      "outputs": [
        {
          "output_type": "stream",
          "name": "stdout",
          "text": [
            "rock\n",
            "R&B\n",
            "Soundtrack\n",
            "R&B\n",
            "soul\n",
            "pop\n"
          ]
        }
      ]
    },
    {
      "cell_type": "markdown",
      "metadata": {
        "id": "jI1uHNwkLawV"
      },
      "source": [
        "Double-click __here__ for the solution.\n",
        "<!-- \n",
        "Genres = ['rock', 'R&B', 'Soundtrack', 'R&B', 'soul', 'pop']\n",
        "for Genre in Genres:\n",
        "    print(Genre)\n",
        "-->"
      ]
    },
    {
      "cell_type": "markdown",
      "metadata": {
        "id": "R8_dlBvrLawW"
      },
      "source": [
        "<hr>"
      ]
    },
    {
      "cell_type": "markdown",
      "metadata": {
        "id": "VUot42j7LawW"
      },
      "source": [
        "Write a for loop that prints out the following list: <code>squares=['red', 'yellow', 'green', 'purple', 'blue']</code>"
      ]
    },
    {
      "cell_type": "code",
      "metadata": {
        "id": "E0MCFnuqLawW"
      },
      "source": [
        "# Write your code below and press Shift+Enter to execute"
      ],
      "execution_count": null,
      "outputs": []
    },
    {
      "cell_type": "code",
      "source": [
        "squares=['red', 'yellow', 'green', 'purple', 'blue']\n",
        "for i in squares:\n",
        "    print(i)"
      ],
      "metadata": {
        "colab": {
          "base_uri": "https://localhost:8080/"
        },
        "id": "WZq1YQZO_8Dp",
        "outputId": "d9b9bf57-50e2-4547-f9ce-35b72241d87f"
      },
      "execution_count": 19,
      "outputs": [
        {
          "output_type": "stream",
          "name": "stdout",
          "text": [
            "red\n",
            "yellow\n",
            "green\n",
            "purple\n",
            "blue\n"
          ]
        }
      ]
    },
    {
      "cell_type": "markdown",
      "metadata": {
        "id": "eWchoPkCLawZ"
      },
      "source": [
        "Double-click __here__ for the solution.\n",
        "<!-- \n",
        "squares=['red', 'yellow', 'green', 'purple', 'blue']\n",
        "for square in squares:\n",
        "    print(square)\n",
        " -->"
      ]
    },
    {
      "cell_type": "markdown",
      "metadata": {
        "id": "9Yg-AQRxLawa"
      },
      "source": [
        "<hr>"
      ]
    },
    {
      "cell_type": "markdown",
      "metadata": {
        "id": "hnPtqt7_Lawa"
      },
      "source": [
        "Write a while loop to display the values of the Rating of an album playlist stored in the list <code>PlayListRatings</code>. If the score is less than 6, exit the loop. The list <code>PlayListRatings</code> is given by: <code>PlayListRatings = [10, 9.5, 10, 8, 7.5, 5, 10, 10]</code>"
      ]
    },
    {
      "cell_type": "code",
      "metadata": {
        "id": "5Kw0DO-ALawa"
      },
      "source": [
        "# Write your code below and press Shift+Enter to execute"
      ],
      "execution_count": null,
      "outputs": []
    },
    {
      "cell_type": "code",
      "source": [
        "PlayListRatings = [10, 9.5, 10, 8, 7.5, 5, 10, 10]\n",
        "i = 1\n",
        "Rating = PlayListRatings[0]\n",
        "while(Rating >= 6):\n",
        "    print(Rating)\n",
        "    Rating = PlayListRatings[i]\n",
        "    i = i + 1"
      ],
      "metadata": {
        "colab": {
          "base_uri": "https://localhost:8080/"
        },
        "id": "13khn4nPASmU",
        "outputId": "166eb7df-9e2b-4e73-a068-1a064be000b6"
      },
      "execution_count": 67,
      "outputs": [
        {
          "output_type": "stream",
          "name": "stdout",
          "text": [
            "10\n",
            "9.5\n",
            "10\n",
            "8\n",
            "7.5\n"
          ]
        }
      ]
    },
    {
      "cell_type": "markdown",
      "metadata": {
        "id": "menasC9BLawd"
      },
      "source": [
        "Double-click __here__ for the solution.\n",
        "<!-- \n",
        "PlayListRatings = [10, 9.5, 10, 8, 7.5, 5, 10, 10]\n",
        "i = 1\n",
        "Rating = PlayListRatings[0]\n",
        "while(Rating >= 6):\n",
        "    print(Rating)\n",
        "    Rating = PlayListRatings[i]\n",
        "    i = i + 1\n",
        " -->"
      ]
    },
    {
      "cell_type": "markdown",
      "metadata": {
        "id": "v91g8dYeLawd"
      },
      "source": [
        "<hr>"
      ]
    },
    {
      "cell_type": "markdown",
      "metadata": {
        "id": "asUW74l8Lawe"
      },
      "source": [
        "Write a while loop to copy the strings <code>'orange'</code> of the list <code>squares</code> to the list <code>new_squares</code>. Stop and exit the loop if the value on the list is not <code>'orange'</code>:"
      ]
    },
    {
      "cell_type": "code",
      "metadata": {
        "id": "oIB8hw4mLawf"
      },
      "source": [
        "# Write your code below and press Shift+Enter to execute\n",
        "\n",
        "squares = ['orange', 'orange', 'purple', 'blue ', 'orange']\n",
        "new_squares = []"
      ],
      "execution_count": null,
      "outputs": []
    },
    {
      "cell_type": "code",
      "source": [
        "squares = ['orange', 'orange', 'purple', 'blue ', 'orange']\n",
        "new_squares = []\n",
        "i = 0\n",
        "while(squares[i] == 'orange'):\n",
        "    new_squares.append(squares[i])\n",
        "    i = i + 1\n",
        "print (new_squares)"
      ],
      "metadata": {
        "colab": {
          "base_uri": "https://localhost:8080/"
        },
        "id": "ijHI3S9GFFG-",
        "outputId": "e3c94254-da20-4da0-8514-145b1bfce875"
      },
      "execution_count": 63,
      "outputs": [
        {
          "output_type": "stream",
          "name": "stdout",
          "text": [
            "['orange', 'orange']\n"
          ]
        }
      ]
    },
    {
      "cell_type": "markdown",
      "metadata": {
        "id": "tSPVKaNxLawg"
      },
      "source": [
        "Double-click __here__ for the solution.\n",
        "<!-- \n",
        "squares = ['orange', 'orange', 'purple', 'blue ', 'orange']\n",
        "new_squares = []\n",
        "i = 0\n",
        "while(squares[i] == 'orange'):\n",
        "    new_squares.append(squares[i])\n",
        "    i = i + 1\n",
        "print (new_squares)\n",
        " -->"
      ]
    },
    {
      "cell_type": "markdown",
      "metadata": {
        "id": "gnPi6DEjLawh"
      },
      "source": [
        "<hr>\n",
        "<h2>The last exercise!</h2>\n",
        "<p>Congratulations, you have completed your first lesson and hands-on lab in Python. However, there is one more thing you need to do. The Data Science community encourages sharing work. The best way to share and showcase your work is to share it on GitHub. By sharing your notebook on GitHub you are not only building your reputation with fellow data scientists, but you can also show it off when applying for a job. Even though this was your first piece of work, it is never too early to start building good habits. Please submit all your exercises to Github & let the traces in our LMS, so for me to access your work.\n",
        "<hr>"
      ]
    },
    {
      "cell_type": "markdown",
      "metadata": {
        "id": "9ESytxxcLawi"
      },
      "source": [
        "<hr>"
      ]
    },
    {
      "cell_type": "markdown",
      "metadata": {
        "id": "ICo-40EXLawj"
      },
      "source": [
        "<p>Copyright &copy; 2023 RYU HOKYOUNG based on 2018 IBM Developer Skills Network. This notebook and its source code are released under the terms of the <a href=\"https://cognitiveclass.ai/mit-license/\">MIT License</a>.</p>"
      ]
    }
  ]
}