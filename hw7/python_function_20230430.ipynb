{
  "cells": [
    {
      "cell_type": "markdown",
      "metadata": {
        "id": "view-in-github",
        "colab_type": "text"
      },
      "source": [
        "<a href=\"https://colab.research.google.com/github/ybchoe/python_programming/blob/main/hw7/python_function_20230430.ipynb\" target=\"_parent\"><img src=\"https://colab.research.google.com/assets/colab-badge.svg\" alt=\"Open In Colab\"/></a>"
      ]
    },
    {
      "cell_type": "code",
      "execution_count": null,
      "id": "cf73ff20",
      "metadata": {
        "id": "cf73ff20"
      },
      "outputs": [],
      "source": [
        "a=[]\n",
        "for i in [1,2,3]:\n",
        "    a.append(i+1)"
      ]
    },
    {
      "cell_type": "code",
      "execution_count": null,
      "id": "702f0fc8",
      "metadata": {
        "id": "702f0fc8",
        "outputId": "c8239a41-b4ce-4a17-9553-017376bab0dd"
      },
      "outputs": [
        {
          "data": {
            "text/plain": [
              "[2, 3, 4]"
            ]
          },
          "execution_count": 2,
          "metadata": {},
          "output_type": "execute_result"
        }
      ],
      "source": [
        "a"
      ]
    },
    {
      "cell_type": "code",
      "execution_count": null,
      "id": "f200a3bb",
      "metadata": {
        "id": "f200a3bb"
      },
      "outputs": [],
      "source": [
        "b=[i+1 for i in [1,2,3]]"
      ]
    },
    {
      "cell_type": "code",
      "execution_count": null,
      "id": "2eae9ded",
      "metadata": {
        "id": "2eae9ded",
        "outputId": "7814fed6-a988-4d3e-b2cb-aaad6e2edd17"
      },
      "outputs": [
        {
          "data": {
            "text/plain": [
              "[2, 3, 4]"
            ]
          },
          "execution_count": 5,
          "metadata": {},
          "output_type": "execute_result"
        }
      ],
      "source": [
        "b"
      ]
    },
    {
      "cell_type": "code",
      "execution_count": null,
      "id": "2ac1cdfc",
      "metadata": {
        "id": "2ac1cdfc"
      },
      "outputs": [],
      "source": [
        "def calcul(i):\n",
        "    c=i*2*3+1\n",
        "    return c"
      ]
    },
    {
      "cell_type": "code",
      "execution_count": null,
      "id": "4dbc401c",
      "metadata": {
        "id": "4dbc401c"
      },
      "outputs": [],
      "source": [
        "b=[calcul(i) for i in [1,2,3]]"
      ]
    },
    {
      "cell_type": "code",
      "execution_count": null,
      "id": "400c92a8",
      "metadata": {
        "id": "400c92a8",
        "outputId": "e138b78a-03a4-4dc5-fa27-7e62a7a3ded9"
      },
      "outputs": [
        {
          "data": {
            "text/plain": [
              "[7, 13, 19]"
            ]
          },
          "execution_count": 10,
          "metadata": {},
          "output_type": "execute_result"
        }
      ],
      "source": [
        "b"
      ]
    },
    {
      "cell_type": "code",
      "execution_count": null,
      "id": "011f5fe3",
      "metadata": {
        "id": "011f5fe3",
        "outputId": "b257261f-37fc-42a7-e689-46d6ea2821b9"
      },
      "outputs": [
        {
          "data": {
            "text/plain": [
              "[3]"
            ]
          },
          "execution_count": 13,
          "metadata": {},
          "output_type": "execute_result"
        }
      ],
      "source": [
        "[i+1 for i in [1,2,3] if i%2==0]"
      ]
    },
    {
      "cell_type": "code",
      "execution_count": null,
      "id": "5b0eee44",
      "metadata": {
        "id": "5b0eee44"
      },
      "outputs": [],
      "source": [
        "a=[]\n",
        "for i in range(1,4):\n",
        "    if i%2==0:\n",
        "      a.append(i+1)"
      ]
    },
    {
      "cell_type": "code",
      "execution_count": null,
      "id": "a2eeb7de",
      "metadata": {
        "id": "a2eeb7de",
        "outputId": "97576c25-8f3a-42b4-c7fa-653bae999290"
      },
      "outputs": [
        {
          "data": {
            "text/plain": [
              "[3]"
            ]
          },
          "execution_count": 17,
          "metadata": {},
          "output_type": "execute_result"
        }
      ],
      "source": [
        "a"
      ]
    },
    {
      "cell_type": "code",
      "execution_count": null,
      "id": "60ddd7b4",
      "metadata": {
        "id": "60ddd7b4"
      },
      "outputs": [],
      "source": [
        "number_list = []\n",
        "number_list.append(1)\n",
        "number_list.append(2)\n",
        "number_list.append(3)\n",
        "number_list.append(4)\n",
        "number_list.append(5)"
      ]
    },
    {
      "cell_type": "code",
      "execution_count": null,
      "id": "01e3954c",
      "metadata": {
        "id": "01e3954c",
        "outputId": "65bc6867-1c0f-4617-b67e-926275e21091"
      },
      "outputs": [
        {
          "data": {
            "text/plain": [
              "[1, 2, 3, 4, 5]"
            ]
          },
          "execution_count": 19,
          "metadata": {},
          "output_type": "execute_result"
        }
      ],
      "source": [
        "number_list"
      ]
    },
    {
      "cell_type": "code",
      "execution_count": null,
      "id": "7598f2ab",
      "metadata": {
        "id": "7598f2ab"
      },
      "outputs": [],
      "source": [
        "number_list = []\n",
        "for number in range(1, 6):\n",
        "    number_list.append(number)"
      ]
    },
    {
      "cell_type": "code",
      "execution_count": null,
      "id": "64a203a9",
      "metadata": {
        "id": "64a203a9",
        "outputId": "0dd087f9-dbbe-4e98-9fa8-b20d34a4dd60"
      },
      "outputs": [
        {
          "data": {
            "text/plain": [
              "[1, 2, 3, 4, 5]"
            ]
          },
          "execution_count": 21,
          "metadata": {},
          "output_type": "execute_result"
        }
      ],
      "source": [
        "number_list"
      ]
    },
    {
      "cell_type": "code",
      "execution_count": null,
      "id": "d61a0b1b",
      "metadata": {
        "id": "d61a0b1b"
      },
      "outputs": [],
      "source": [
        "number_list = list(range(1, 6))"
      ]
    },
    {
      "cell_type": "code",
      "execution_count": null,
      "id": "a6a7545f",
      "metadata": {
        "id": "a6a7545f",
        "outputId": "d404829d-bca9-48c2-a979-7ac3cc8fda71"
      },
      "outputs": [
        {
          "data": {
            "text/plain": [
              "[1, 2, 3, 4, 5]"
            ]
          },
          "execution_count": 23,
          "metadata": {},
          "output_type": "execute_result"
        }
      ],
      "source": [
        "number_list"
      ]
    },
    {
      "cell_type": "code",
      "execution_count": null,
      "id": "8033970c",
      "metadata": {
        "id": "8033970c"
      },
      "outputs": [],
      "source": [
        "number_list = [number for number in range(1,6)]"
      ]
    },
    {
      "cell_type": "code",
      "execution_count": null,
      "id": "28d42170",
      "metadata": {
        "id": "28d42170",
        "outputId": "e723cfee-4258-4edb-b0de-ddb59bb29a9e"
      },
      "outputs": [
        {
          "data": {
            "text/plain": [
              "[1, 2, 3, 4, 5]"
            ]
          },
          "execution_count": 29,
          "metadata": {},
          "output_type": "execute_result"
        }
      ],
      "source": [
        "number_list"
      ]
    },
    {
      "cell_type": "code",
      "execution_count": null,
      "id": "b4c9c802",
      "metadata": {
        "id": "b4c9c802"
      },
      "outputs": [],
      "source": [
        "number_list = [number-1 for number in range(1,6)]"
      ]
    },
    {
      "cell_type": "code",
      "execution_count": null,
      "id": "ecd94620",
      "metadata": {
        "id": "ecd94620",
        "outputId": "08dad09a-3b94-4650-d412-869ee25b3e45"
      },
      "outputs": [
        {
          "data": {
            "text/plain": [
              "[0, 1, 2, 3, 4]"
            ]
          },
          "execution_count": 31,
          "metadata": {},
          "output_type": "execute_result"
        }
      ],
      "source": [
        "number_list"
      ]
    },
    {
      "cell_type": "code",
      "execution_count": null,
      "id": "94795a20",
      "metadata": {
        "id": "94795a20"
      },
      "outputs": [],
      "source": [
        "a_list = [number for number in range(1,6) if number % 2 == 1]"
      ]
    },
    {
      "cell_type": "code",
      "execution_count": null,
      "id": "2e65abb3",
      "metadata": {
        "id": "2e65abb3",
        "outputId": "8bc67e4e-d73b-422d-e0e8-f6a8923d8b22"
      },
      "outputs": [
        {
          "data": {
            "text/plain": [
              "[1, 3, 5]"
            ]
          },
          "execution_count": 35,
          "metadata": {},
          "output_type": "execute_result"
        }
      ],
      "source": [
        "a_list"
      ]
    },
    {
      "cell_type": "code",
      "execution_count": null,
      "id": "3586d487",
      "metadata": {
        "id": "3586d487"
      },
      "outputs": [],
      "source": [
        "a_list = []\n",
        "for number in range(1,6):\n",
        "    if number%2 == 1:\n",
        "        a_list.append(number)"
      ]
    },
    {
      "cell_type": "code",
      "execution_count": null,
      "id": "48984e74",
      "metadata": {
        "id": "48984e74",
        "outputId": "9672379f-3ee2-4f1b-e036-401e72519164"
      },
      "outputs": [
        {
          "data": {
            "text/plain": [
              "[1, 3, 5]"
            ]
          },
          "execution_count": 38,
          "metadata": {},
          "output_type": "execute_result"
        }
      ],
      "source": [
        "a_list"
      ]
    },
    {
      "cell_type": "code",
      "execution_count": null,
      "id": "dda519d6",
      "metadata": {
        "id": "dda519d6",
        "outputId": "76c6348f-6138-45c3-eb9e-59235a057777"
      },
      "outputs": [
        {
          "data": {
            "text/plain": [
              "[0, 1, 2, 3, 4, 5, 6, 7, 8, 9]"
            ]
          },
          "execution_count": 43,
          "metadata": {},
          "output_type": "execute_result"
        }
      ],
      "source": [
        "list(range(10))"
      ]
    },
    {
      "cell_type": "code",
      "execution_count": null,
      "id": "55fe300b",
      "metadata": {
        "id": "55fe300b"
      },
      "outputs": [],
      "source": [
        "sentence = ['I', 'Love', 'Python', 'Soooooo', 'MUCH!!!']"
      ]
    },
    {
      "cell_type": "code",
      "execution_count": null,
      "id": "0bb1c780",
      "metadata": {
        "id": "0bb1c780",
        "outputId": "5bcbe481-8ec0-465c-acf3-0a2301b012f3"
      },
      "outputs": [
        {
          "data": {
            "text/plain": [
              "['i', 'love', 'python', 'soooooo', 'much!!!']"
            ]
          },
          "execution_count": 45,
          "metadata": {},
          "output_type": "execute_result"
        }
      ],
      "source": [
        "[word.lower() for word in sentence]"
      ]
    },
    {
      "cell_type": "code",
      "execution_count": null,
      "id": "14421198",
      "metadata": {
        "id": "14421198",
        "outputId": "36e3c60e-08ed-4ba9-a9cb-aa7ecb3184f7"
      },
      "outputs": [
        {
          "data": {
            "text/plain": [
              "['I', 'LOVE', 'PYTHON', 'SOOOOOO', 'MUCH!!!']"
            ]
          },
          "execution_count": 47,
          "metadata": {},
          "output_type": "execute_result"
        }
      ],
      "source": [
        "[word.upper() for word in sentence]"
      ]
    },
    {
      "cell_type": "code",
      "execution_count": null,
      "id": "1e35f6ae",
      "metadata": {
        "id": "1e35f6ae",
        "outputId": "72398e6f-e714-42f8-bed4-ad557a62d03a"
      },
      "outputs": [
        {
          "data": {
            "text/plain": [
              "['Soooooo', 'MUCH!!!']"
            ]
          },
          "execution_count": 48,
          "metadata": {},
          "output_type": "execute_result"
        }
      ],
      "source": [
        "[word for word in sentence if len(word) > 6]"
      ]
    },
    {
      "cell_type": "code",
      "execution_count": null,
      "id": "778d7edd",
      "metadata": {
        "id": "778d7edd",
        "outputId": "b8c9c25e-4683-42fa-9d60-f61ecefe3ac6"
      },
      "outputs": [
        {
          "data": {
            "text/plain": [
              "['I', 'Love', 'Python']"
            ]
          },
          "execution_count": 53,
          "metadata": {},
          "output_type": "execute_result"
        }
      ],
      "source": [
        "[word for word in sentence if len(word)<=6]"
      ]
    },
    {
      "cell_type": "code",
      "execution_count": null,
      "id": "d3db405c",
      "metadata": {
        "id": "d3db405c",
        "outputId": "ff5acf01-33ba-45c8-edae-1930790da28d"
      },
      "outputs": [
        {
          "data": {
            "text/plain": [
              "[(0, 0, 0),\n",
              " (1, 1, 1),\n",
              " (2, 4, 8),\n",
              " (3, 9, 27),\n",
              " (4, 16, 64),\n",
              " (5, 25, 125),\n",
              " (6, 36, 216),\n",
              " (7, 49, 343),\n",
              " (8, 64, 512),\n",
              " (9, 81, 729)]"
            ]
          },
          "execution_count": 54,
          "metadata": {},
          "output_type": "execute_result"
        }
      ],
      "source": [
        "[(x, x ** 2, x ** 3) for x in range(10)]"
      ]
    },
    {
      "cell_type": "code",
      "execution_count": null,
      "id": "28ad4056",
      "metadata": {
        "id": "28ad4056",
        "outputId": "8864455e-2585-4f4a-f2e0-d8fe0706095f"
      },
      "outputs": [
        {
          "data": {
            "text/plain": [
              "[(2, 4), (3, 5), (4, 6)]"
            ]
          },
          "execution_count": 65,
          "metadata": {},
          "output_type": "execute_result"
        }
      ],
      "source": [
        "[(x,x+2) for x in range(2,5)]"
      ]
    },
    {
      "cell_type": "code",
      "execution_count": null,
      "id": "39f65c9f",
      "metadata": {
        "id": "39f65c9f",
        "outputId": "1684040e-583a-4e11-f992-bd2984d27e08"
      },
      "outputs": [
        {
          "name": "stdout",
          "output_type": "stream",
          "text": [
            "1 1\n",
            "1 2\n",
            "2 1\n",
            "2 2\n",
            "3 1\n",
            "3 2\n"
          ]
        }
      ],
      "source": [
        "rows = range(1,4) \n",
        "cols = range(1,3) \n",
        "for row in rows:\n",
        "    for col in cols: \n",
        "        print(row, col)"
      ]
    },
    {
      "cell_type": "code",
      "execution_count": null,
      "id": "d3c5dcc4",
      "metadata": {
        "id": "d3c5dcc4",
        "outputId": "6ebdd655-2e09-479f-fa10-22d074ddcbb9"
      },
      "outputs": [
        {
          "data": {
            "text/plain": [
              "[1, 2, 3]"
            ]
          },
          "execution_count": 9,
          "metadata": {},
          "output_type": "execute_result"
        }
      ],
      "source": [
        "list(range(1,4))"
      ]
    },
    {
      "cell_type": "code",
      "execution_count": null,
      "id": "28ee120d",
      "metadata": {
        "id": "28ee120d",
        "outputId": "1e5ada3a-6dcc-4fea-f688-10aae1975066"
      },
      "outputs": [
        {
          "name": "stdout",
          "output_type": "stream",
          "text": [
            "(1, 1)\n",
            "(1, 2)\n",
            "(2, 1)\n",
            "(2, 2)\n",
            "(3, 1)\n",
            "(3, 2)\n"
          ]
        }
      ],
      "source": [
        "rows=range(1,4)\n",
        "cols=range(1,3)\n",
        "cells=[(row,col) for row in rows for col in cols]\n",
        "for cell in cells:\n",
        "    print(cell)"
      ]
    },
    {
      "cell_type": "code",
      "execution_count": null,
      "id": "468b6943",
      "metadata": {
        "id": "468b6943",
        "outputId": "567acba5-0cdb-4a70-c7e6-0ad2bd6bf5f2"
      },
      "outputs": [
        {
          "data": {
            "text/plain": [
              "[(1, 1), (1, 2), (2, 1), (2, 2), (3, 1), (3, 2)]"
            ]
          },
          "execution_count": 27,
          "metadata": {},
          "output_type": "execute_result"
        }
      ],
      "source": [
        "cells"
      ]
    },
    {
      "cell_type": "code",
      "execution_count": null,
      "id": "fd28725f",
      "metadata": {
        "id": "fd28725f",
        "outputId": "5c7fdec8-8c74-4a9d-fd5e-4901c95f0a24"
      },
      "outputs": [
        {
          "name": "stdout",
          "output_type": "stream",
          "text": [
            "(1, 1)\n",
            "(1, 2)\n",
            "(2, 1)\n",
            "(2, 2)\n",
            "(3, 1)\n",
            "(3, 2)\n"
          ]
        }
      ],
      "source": [
        "for cell in cells:\n",
        "    print(cell)"
      ]
    },
    {
      "cell_type": "code",
      "execution_count": null,
      "id": "4bf44fa9",
      "metadata": {
        "id": "4bf44fa9",
        "outputId": "abc6a188-e862-4458-e36d-9bb16bbab3f6"
      },
      "outputs": [
        {
          "data": {
            "text/plain": [
              "[(1, 0), (2, 0), (2, 1), (3, 0), (3, 1), (3, 2)]"
            ]
          },
          "execution_count": 32,
          "metadata": {},
          "output_type": "execute_result"
        }
      ],
      "source": [
        "[(i,j) for i in range(4) for j in range(i)]"
      ]
    },
    {
      "cell_type": "code",
      "execution_count": null,
      "id": "691ba7e4",
      "metadata": {
        "id": "691ba7e4"
      },
      "outputs": [],
      "source": [
        "word=\"letter\""
      ]
    },
    {
      "cell_type": "code",
      "execution_count": null,
      "id": "6220ad13",
      "metadata": {
        "id": "6220ad13",
        "outputId": "d37a8641-0056-4847-bc15-e4e6e837c200"
      },
      "outputs": [
        {
          "data": {
            "text/plain": [
              "'letter'"
            ]
          },
          "execution_count": 40,
          "metadata": {},
          "output_type": "execute_result"
        }
      ],
      "source": [
        "word"
      ]
    },
    {
      "cell_type": "code",
      "execution_count": null,
      "id": "51a361f8",
      "metadata": {
        "id": "51a361f8",
        "outputId": "82c5fb26-9ef1-4d8b-90eb-3eafd7d95624"
      },
      "outputs": [
        {
          "name": "stdout",
          "output_type": "stream",
          "text": [
            "l\n",
            "e\n",
            "t\n",
            "t\n",
            "e\n",
            "r\n"
          ]
        }
      ],
      "source": [
        "for letter in word:\n",
        "    print(letter)"
      ]
    },
    {
      "cell_type": "code",
      "execution_count": null,
      "id": "5c119e30",
      "metadata": {
        "id": "5c119e30",
        "outputId": "1274026d-e700-4b33-e481-33db642f7981"
      },
      "outputs": [
        {
          "data": {
            "text/plain": [
              "'LETTER'"
            ]
          },
          "execution_count": 43,
          "metadata": {},
          "output_type": "execute_result"
        }
      ],
      "source": [
        "word.upper()"
      ]
    },
    {
      "cell_type": "code",
      "execution_count": null,
      "id": "4dc23cba",
      "metadata": {
        "id": "4dc23cba",
        "outputId": "a83b1ae1-535e-4043-f37e-7af35392451e"
      },
      "outputs": [
        {
          "data": {
            "text/plain": [
              "'Letter'"
            ]
          },
          "execution_count": 44,
          "metadata": {},
          "output_type": "execute_result"
        }
      ],
      "source": [
        "word.title()"
      ]
    },
    {
      "cell_type": "code",
      "execution_count": null,
      "id": "cf72cda3",
      "metadata": {
        "id": "cf72cda3",
        "outputId": "07288692-715b-4be9-eb54-4096eba8b6a2"
      },
      "outputs": [
        {
          "data": {
            "text/plain": [
              "6"
            ]
          },
          "execution_count": 45,
          "metadata": {},
          "output_type": "execute_result"
        }
      ],
      "source": [
        "len(word)"
      ]
    },
    {
      "cell_type": "code",
      "execution_count": null,
      "id": "0ed6463b",
      "metadata": {
        "id": "0ed6463b",
        "outputId": "82137a85-936f-4338-cc53-48bc45407fee"
      },
      "outputs": [
        {
          "data": {
            "text/plain": [
              "2"
            ]
          },
          "execution_count": 47,
          "metadata": {},
          "output_type": "execute_result"
        }
      ],
      "source": [
        "word.count('e')"
      ]
    },
    {
      "cell_type": "code",
      "execution_count": null,
      "id": "24530321",
      "metadata": {
        "id": "24530321"
      },
      "outputs": [],
      "source": [
        "word='letters'\n",
        "letter_counts={letter:word.count(letter) for letter in word}"
      ]
    },
    {
      "cell_type": "code",
      "execution_count": null,
      "id": "56646b04",
      "metadata": {
        "id": "56646b04",
        "outputId": "9a984645-cfc3-4e2e-c9ae-205b9286f13f"
      },
      "outputs": [
        {
          "data": {
            "text/plain": [
              "{'l': 1, 'e': 2, 't': 2, 'r': 1, 's': 1}"
            ]
          },
          "execution_count": 55,
          "metadata": {},
          "output_type": "execute_result"
        }
      ],
      "source": [
        "letter_counts"
      ]
    },
    {
      "cell_type": "code",
      "execution_count": null,
      "id": "221e4219",
      "metadata": {
        "id": "221e4219",
        "outputId": "ea567c9e-b819-4ef7-944b-1c5eb551c0ec"
      },
      "outputs": [
        {
          "data": {
            "text/plain": [
              "{'l': 1, 'e': 2, 't': 2, 'r': 1, 's': 1}"
            ]
          },
          "execution_count": 56,
          "metadata": {},
          "output_type": "execute_result"
        }
      ],
      "source": [
        "{letter:word.count(letter) for letter in word}"
      ]
    },
    {
      "cell_type": "code",
      "execution_count": null,
      "id": "df8cc389",
      "metadata": {
        "id": "df8cc389",
        "outputId": "323b6015-e90f-4549-aa9e-1c5979f32a1a"
      },
      "outputs": [
        {
          "data": {
            "text/plain": [
              "{'a', 'e', 'l', 'p'}"
            ]
          },
          "execution_count": 57,
          "metadata": {},
          "output_type": "execute_result"
        }
      ],
      "source": [
        "set('apple')"
      ]
    },
    {
      "cell_type": "code",
      "execution_count": null,
      "id": "43955551",
      "metadata": {
        "id": "43955551"
      },
      "outputs": [],
      "source": [
        "word='letter'\n",
        "letter_counts = {letter:word.count(letter) for letter in set(word)}"
      ]
    },
    {
      "cell_type": "code",
      "execution_count": null,
      "id": "8c206fea",
      "metadata": {
        "id": "8c206fea",
        "outputId": "57a86716-b42e-4cbc-a6de-f65984b1ac3d"
      },
      "outputs": [
        {
          "data": {
            "text/plain": [
              "{'e': 2, 'r': 1, 'l': 1, 't': 2}"
            ]
          },
          "execution_count": 60,
          "metadata": {},
          "output_type": "execute_result"
        }
      ],
      "source": [
        "letter_counts"
      ]
    },
    {
      "cell_type": "code",
      "execution_count": null,
      "id": "0d96e4f8",
      "metadata": {
        "id": "0d96e4f8",
        "outputId": "0df70709-95aa-4378-8a9e-9e61b44ef053"
      },
      "outputs": [
        {
          "data": {
            "text/plain": [
              "{'넷', '둘', '셋', '하나'}"
            ]
          },
          "execution_count": 62,
          "metadata": {},
          "output_type": "execute_result"
        }
      ],
      "source": [
        "set(['하나', '둘', '셋', '셋', '넷'])"
      ]
    },
    {
      "cell_type": "code",
      "execution_count": null,
      "id": "27156a06",
      "metadata": {
        "id": "27156a06"
      },
      "outputs": [],
      "source": [
        "a_set={number for number in range(1,6) if number%3==1}"
      ]
    },
    {
      "cell_type": "code",
      "execution_count": null,
      "id": "f7ef955e",
      "metadata": {
        "id": "f7ef955e",
        "outputId": "1545f1b8-34f8-4fe1-dd21-41946cf96b9e"
      },
      "outputs": [
        {
          "data": {
            "text/plain": [
              "{1, 4}"
            ]
          },
          "execution_count": 70,
          "metadata": {},
          "output_type": "execute_result"
        }
      ],
      "source": [
        "a_set"
      ]
    },
    {
      "cell_type": "code",
      "execution_count": null,
      "id": "6f1e039e",
      "metadata": {
        "id": "6f1e039e"
      },
      "outputs": [],
      "source": [
        "def sum(a,b):\n",
        "    return a+b"
      ]
    },
    {
      "cell_type": "code",
      "execution_count": null,
      "id": "b65685bb",
      "metadata": {
        "id": "b65685bb",
        "outputId": "9780288c-99ec-4ae3-c50a-7b00eaed7247"
      },
      "outputs": [
        {
          "data": {
            "text/plain": [
              "3"
            ]
          },
          "execution_count": 74,
          "metadata": {},
          "output_type": "execute_result"
        }
      ],
      "source": [
        "sum(1,2)"
      ]
    },
    {
      "cell_type": "code",
      "execution_count": null,
      "id": "c1da17c0",
      "metadata": {
        "id": "c1da17c0",
        "outputId": "4bd0effa-c345-464f-91d8-50ea19f91efa"
      },
      "outputs": [
        {
          "data": {
            "text/plain": [
              "4.42"
            ]
          },
          "execution_count": 76,
          "metadata": {},
          "output_type": "execute_result"
        }
      ],
      "source": [
        "sum(1.3,3.12)"
      ]
    },
    {
      "cell_type": "code",
      "execution_count": null,
      "id": "e51eeb2f",
      "metadata": {
        "id": "e51eeb2f",
        "outputId": "a47a648c-5a6f-4258-c3dd-7dcff496c6a1"
      },
      "outputs": [
        {
          "data": {
            "text/plain": [
              "'love python'"
            ]
          },
          "execution_count": 78,
          "metadata": {},
          "output_type": "execute_result"
        }
      ],
      "source": [
        "sum('love ', 'python')"
      ]
    },
    {
      "cell_type": "code",
      "execution_count": null,
      "id": "7011c143",
      "metadata": {
        "id": "7011c143"
      },
      "outputs": [],
      "source": [
        "days = ['Monday', 'Tuesday', 'Wednesday'] \n",
        "fruits = ['banana', 'orange', 'peach'] \n",
        "drinks = ['coffee', 'tea', 'beer']\n",
        "desserts = ['tiramisu', 'ice cream', 'pie', 'pudding']"
      ]
    },
    {
      "cell_type": "code",
      "execution_count": null,
      "id": "fc380240",
      "metadata": {
        "id": "fc380240",
        "outputId": "41feed24-5059-4f75-9bc5-d2c28436d4fa"
      },
      "outputs": [
        {
          "name": "stdout",
          "output_type": "stream",
          "text": [
            "Monday : drink coffee - eat banana - enjoy tiramisu\n",
            "Tuesday : drink tea - eat orange - enjoy ice cream\n",
            "Wednesday : drink beer - eat peach - enjoy pie\n"
          ]
        }
      ],
      "source": [
        "for day, fruit, drink, dessert in zip(days, fruits, drinks, desserts):\n",
        "    print(day, \": drink\", drink,\"- eat\", fruit,\"- enjoy\", dessert )"
      ]
    },
    {
      "cell_type": "code",
      "execution_count": null,
      "id": "1209f855",
      "metadata": {
        "id": "1209f855",
        "outputId": "ff1055cf-7de5-49ee-e20a-b8d396d29894"
      },
      "outputs": [
        {
          "data": {
            "text/plain": [
              "<zip at 0x2475074e400>"
            ]
          },
          "execution_count": 92,
          "metadata": {},
          "output_type": "execute_result"
        }
      ],
      "source": [
        "zip(days, fruits, drinks, desserts)"
      ]
    },
    {
      "cell_type": "code",
      "execution_count": null,
      "id": "e49dcb06",
      "metadata": {
        "id": "e49dcb06",
        "outputId": "1780b4dc-69cb-43be-df5f-47304375e7e4"
      },
      "outputs": [
        {
          "data": {
            "text/plain": [
              "[('Monday', 'banana', 'coffee', 'tiramisu'),\n",
              " ('Tuesday', 'orange', 'tea', 'ice cream'),\n",
              " ('Wednesday', 'peach', 'beer', 'pie')]"
            ]
          },
          "execution_count": 93,
          "metadata": {},
          "output_type": "execute_result"
        }
      ],
      "source": [
        "list(zip(days, fruits, drinks, desserts))"
      ]
    },
    {
      "cell_type": "code",
      "execution_count": null,
      "id": "10a030e5",
      "metadata": {
        "id": "10a030e5"
      },
      "outputs": [],
      "source": [
        "english = 'Monday', 'Tuesday', 'Wednesday' \n",
        "french = 'Lundi', 'Mardi', 'Mercredi'"
      ]
    },
    {
      "cell_type": "code",
      "execution_count": null,
      "id": "2961691c",
      "metadata": {
        "id": "2961691c",
        "outputId": "51d6e02c-263e-4868-ba3f-487c33d2ebe8"
      },
      "outputs": [
        {
          "data": {
            "text/plain": [
              "[('Monday', 'Lundi'), ('Tuesday', 'Mardi'), ('Wednesday', 'Mercredi')]"
            ]
          },
          "execution_count": 97,
          "metadata": {},
          "output_type": "execute_result"
        }
      ],
      "source": [
        "list(zip(english, french))"
      ]
    },
    {
      "cell_type": "code",
      "execution_count": null,
      "id": "98be4ede",
      "metadata": {
        "id": "98be4ede",
        "outputId": "5a73826c-a89f-4cee-a4c8-070311f5849e"
      },
      "outputs": [
        {
          "data": {
            "text/plain": [
              "{'Monday': 'Lundi', 'Tuesday': 'Mardi', 'Wednesday': 'Mercredi'}"
            ]
          },
          "execution_count": 98,
          "metadata": {},
          "output_type": "execute_result"
        }
      ],
      "source": [
        "dict(zip(english, french))"
      ]
    },
    {
      "cell_type": "code",
      "execution_count": null,
      "id": "2197aeee",
      "metadata": {
        "id": "2197aeee"
      },
      "outputs": [],
      "source": [
        "def menu(wine, entree, dessert):\n",
        "    return {'wine': wine, 'entree': entree, 'dessert': dessert}"
      ]
    },
    {
      "cell_type": "code",
      "execution_count": null,
      "id": "19a9c9c9",
      "metadata": {
        "id": "19a9c9c9",
        "outputId": "fd8b1f59-9948-4218-d1e8-456294ca952b"
      },
      "outputs": [
        {
          "data": {
            "text/plain": [
              "{'wine': 'chardonnay', 'entree': 'chicken', 'dessert': 'cake'}"
            ]
          },
          "execution_count": 101,
          "metadata": {},
          "output_type": "execute_result"
        }
      ],
      "source": [
        "menu('chardonnay', 'chicken', 'cake')"
      ]
    },
    {
      "cell_type": "code",
      "execution_count": null,
      "id": "6b5480df",
      "metadata": {
        "id": "6b5480df",
        "outputId": "2590913e-3728-463b-9273-ed491fe4e802"
      },
      "outputs": [
        {
          "data": {
            "text/plain": [
              "{'wine': 'bordeaux', 'entree': 'beef', 'dessert': 'bagel'}"
            ]
          },
          "execution_count": 102,
          "metadata": {},
          "output_type": "execute_result"
        }
      ],
      "source": [
        "menu(entree='beef', dessert='bagel', wine='bordeaux')"
      ]
    },
    {
      "cell_type": "code",
      "execution_count": null,
      "id": "fd02e322",
      "metadata": {
        "id": "fd02e322",
        "outputId": "84c3ce38-cc58-44c8-c86e-390d4264c208"
      },
      "outputs": [
        {
          "data": {
            "text/plain": [
              "{'wine': 'frontenac', 'entree': 'fish', 'dessert': 'flan'}"
            ]
          },
          "execution_count": 103,
          "metadata": {},
          "output_type": "execute_result"
        }
      ],
      "source": [
        "menu('frontenac', dessert='flan', entree='fish')"
      ]
    },
    {
      "cell_type": "code",
      "execution_count": null,
      "id": "725b7d87",
      "metadata": {
        "id": "725b7d87"
      },
      "outputs": [],
      "source": [
        "def menu(wine, entree, dessert='pudding'):\n",
        "    return {'wine': wine, 'entree': entree, 'dessert': dessert}"
      ]
    },
    {
      "cell_type": "code",
      "execution_count": null,
      "id": "4f26eb89",
      "metadata": {
        "id": "4f26eb89",
        "outputId": "e737b3fd-d234-466d-84f5-43090f12b558"
      },
      "outputs": [
        {
          "data": {
            "text/plain": [
              "{'wine': 'chardonnay', 'entree': 'chicken', 'dessert': 'pudding'}"
            ]
          },
          "execution_count": 107,
          "metadata": {},
          "output_type": "execute_result"
        }
      ],
      "source": [
        "menu('chardonnay', 'chicken')"
      ]
    },
    {
      "cell_type": "code",
      "execution_count": null,
      "id": "fb9243b7",
      "metadata": {
        "id": "fb9243b7",
        "outputId": "b2274386-ab13-4de9-e330-eb2215f62bc9"
      },
      "outputs": [
        {
          "data": {
            "text/plain": [
              "{'wine': 'dunkelfelder', 'entree': 'duck', 'dessert': 'doughnut'}"
            ]
          },
          "execution_count": 108,
          "metadata": {},
          "output_type": "execute_result"
        }
      ],
      "source": [
        "menu('dunkelfelder', 'duck', 'doughnut')"
      ]
    },
    {
      "cell_type": "code",
      "execution_count": null,
      "id": "054d693e",
      "metadata": {
        "id": "054d693e"
      },
      "outputs": [],
      "source": [
        "def menu(price, wine='chardonnay', entree='chicken', dessert='pudding'): \n",
        "         return {'price': price, 'wine': wine, 'entree': entree, 'dessert': dessert}"
      ]
    },
    {
      "cell_type": "code",
      "execution_count": null,
      "id": "c62378eb",
      "metadata": {
        "id": "c62378eb",
        "outputId": "5f16eee9-6ee0-44db-efc7-e21211b1d224"
      },
      "outputs": [
        {
          "data": {
            "text/plain": [
              "{'price': 100, 'wine': 'chardonnay', 'entree': 'chicken', 'dessert': 'pudding'}"
            ]
          },
          "execution_count": 116,
          "metadata": {},
          "output_type": "execute_result"
        }
      ],
      "source": [
        "menu(100)"
      ]
    },
    {
      "cell_type": "code",
      "execution_count": null,
      "id": "d1ce3705",
      "metadata": {
        "id": "d1ce3705",
        "outputId": "15137a89-a84e-4a26-deab-31bda60f565e"
      },
      "outputs": [
        {
          "data": {
            "text/plain": [
              "{'price': 100, 'wine': 'chardonnay', 'entree': 'chicken', 'dessert': 'pudding'}"
            ]
          },
          "execution_count": 117,
          "metadata": {},
          "output_type": "execute_result"
        }
      ],
      "source": [
        "menu(price=100)"
      ]
    },
    {
      "cell_type": "code",
      "execution_count": null,
      "id": "3d437ed5",
      "metadata": {
        "id": "3d437ed5",
        "outputId": "52b9d3d5-c6aa-437d-f16e-a2e986473547"
      },
      "outputs": [
        {
          "data": {
            "text/plain": [
              "{'price': 120, 'wine': 'chardonnay', 'entree': 'beef', 'dessert': 'pudding'}"
            ]
          },
          "execution_count": 118,
          "metadata": {},
          "output_type": "execute_result"
        }
      ],
      "source": [
        "menu(price=120, entree='beef')"
      ]
    },
    {
      "cell_type": "code",
      "execution_count": null,
      "id": "5ac7d3ca",
      "metadata": {
        "id": "5ac7d3ca",
        "outputId": "1d4c348d-0b8d-4ffe-b6d2-e27a9ec9d815"
      },
      "outputs": [
        {
          "data": {
            "text/plain": [
              "{'price': 110, 'wine': 'chardonnay', 'entree': 'chicken', 'dessert': 'bagel'}"
            ]
          },
          "execution_count": 119,
          "metadata": {},
          "output_type": "execute_result"
        }
      ],
      "source": [
        "menu(dessert='bagel', price=110)"
      ]
    },
    {
      "cell_type": "code",
      "execution_count": null,
      "id": "6dbdfc9d",
      "metadata": {
        "id": "6dbdfc9d",
        "outputId": "ecc49074-3f6f-40a0-8916-59e672d69aa7"
      },
      "outputs": [
        {
          "data": {
            "text/plain": [
              "{'price': 'eighty',\n",
              " 'wine': 'saint-pierre',\n",
              " 'entree': 'fish',\n",
              " 'dessert': 'pudding'}"
            ]
          },
          "execution_count": 122,
          "metadata": {},
          "output_type": "execute_result"
        }
      ],
      "source": [
        "menu('eighty','saint-pierre','fish')"
      ]
    },
    {
      "cell_type": "code",
      "execution_count": null,
      "id": "696eeb9e",
      "metadata": {
        "id": "696eeb9e",
        "outputId": "8cd1d689-f2c1-4650-8a77-1d7351a031f5"
      },
      "outputs": [
        {
          "data": {
            "text/plain": [
              "{'price': 'hundred',\n",
              " 'wine': 'saint-pierre',\n",
              " 'entree': 'chicken',\n",
              " 'dessert': 'pudding'}"
            ]
          },
          "execution_count": 130,
          "metadata": {},
          "output_type": "execute_result"
        }
      ],
      "source": [
        "menu('hundred', wine='saint-pierre')"
      ]
    },
    {
      "cell_type": "code",
      "execution_count": null,
      "id": "57baa35a",
      "metadata": {
        "id": "57baa35a",
        "outputId": "53148a75-6093-4f15-91e1-a4e79b95f15f"
      },
      "outputs": [
        {
          "ename": "TypeError",
          "evalue": "menu() got an unexpected keyword argument 'main'",
          "output_type": "error",
          "traceback": [
            "\u001b[1;31m---------------------------------------------------------------------------\u001b[0m",
            "\u001b[1;31mTypeError\u001b[0m                                 Traceback (most recent call last)",
            "\u001b[1;32m~\\AppData\\Local\\Temp/ipykernel_37220/2366991226.py\u001b[0m in \u001b[0;36m<module>\u001b[1;34m\u001b[0m\n\u001b[1;32m----> 1\u001b[1;33m \u001b[0mmenu\u001b[0m\u001b[1;33m(\u001b[0m\u001b[0mmain\u001b[0m\u001b[1;33m=\u001b[0m\u001b[1;34m'cream pasta'\u001b[0m\u001b[1;33m)\u001b[0m\u001b[1;33m\u001b[0m\u001b[1;33m\u001b[0m\u001b[0m\n\u001b[0m",
            "\u001b[1;31mTypeError\u001b[0m: menu() got an unexpected keyword argument 'main'"
          ]
        }
      ],
      "source": [
        "menu(main='cream pasta')"
      ]
    },
    {
      "cell_type": "code",
      "execution_count": null,
      "id": "3ed5b77f",
      "metadata": {
        "id": "3ed5b77f"
      },
      "outputs": [],
      "source": [
        "def echo(anything):\n",
        "    'echo returns its input argument'\n",
        "    return anything"
      ]
    },
    {
      "cell_type": "code",
      "execution_count": null,
      "id": "17983905",
      "metadata": {
        "id": "17983905",
        "outputId": "fc11ec98-38fd-4a2a-d59b-f39ce01d6cc6"
      },
      "outputs": [
        {
          "name": "stdout",
          "output_type": "stream",
          "text": [
            "Help on function echo in module __main__:\n",
            "\n",
            "echo(anything)\n",
            "    echo returns its input argument\n",
            "\n"
          ]
        }
      ],
      "source": [
        "help(echo)"
      ]
    },
    {
      "cell_type": "code",
      "execution_count": null,
      "id": "3517f6b0",
      "metadata": {
        "id": "3517f6b0"
      },
      "outputs": [],
      "source": [
        "def print_if_true(thing, check): \n",
        "    \"\"\"\n",
        "    Prints the first argument if a second argument is true.\n",
        "    The operation is:\n",
        "    1. Check whether the *second* argument is true.\n",
        "    2. If it is, print the *first* argument.\n",
        "    \"\"\"\n",
        "    if check:\n",
        "        print(thing)"
      ]
    },
    {
      "cell_type": "code",
      "execution_count": null,
      "id": "8067d0a3",
      "metadata": {
        "id": "8067d0a3",
        "outputId": "b3efd3d6-54be-4bd1-a10f-b91415c601ba"
      },
      "outputs": [
        {
          "name": "stdout",
          "output_type": "stream",
          "text": [
            "hahaha\n"
          ]
        }
      ],
      "source": [
        "print_if_true('hahaha', 1!=3)"
      ]
    },
    {
      "cell_type": "code",
      "execution_count": null,
      "id": "ee175121",
      "metadata": {
        "id": "ee175121"
      },
      "outputs": [],
      "source": [
        "print_if_true('hahaha', 1==3)"
      ]
    },
    {
      "cell_type": "code",
      "execution_count": null,
      "id": "1d204d54",
      "metadata": {
        "id": "1d204d54"
      },
      "outputs": [],
      "source": [
        "import math"
      ]
    },
    {
      "cell_type": "code",
      "execution_count": null,
      "id": "2871db55",
      "metadata": {
        "id": "2871db55",
        "outputId": "6301c7f9-ae4e-412e-a48c-39de5eab4717"
      },
      "outputs": [
        {
          "data": {
            "text/plain": [
              "4.0"
            ]
          },
          "execution_count": 142,
          "metadata": {},
          "output_type": "execute_result"
        }
      ],
      "source": [
        "math.sqrt(16)"
      ]
    },
    {
      "cell_type": "code",
      "execution_count": null,
      "id": "15010ba7",
      "metadata": {
        "scrolled": true,
        "id": "15010ba7",
        "outputId": "57c6e34e-ec64-4263-abfe-cc9695ed9b2d"
      },
      "outputs": [
        {
          "name": "stdout",
          "output_type": "stream",
          "text": [
            "Requirement already satisfied: numpy in c:\\users\\toshiba\\anaconda3\\lib\\site-packages (1.20.3)\n",
            "Requirement already satisfied: Pandas in c:\\users\\toshiba\\anaconda3\\lib\\site-packages (1.3.4)\n",
            "Requirement already satisfied: pytz>=2017.3 in c:\\users\\toshiba\\anaconda3\\lib\\site-packages (from Pandas) (2021.3)\n",
            "Requirement already satisfied: numpy>=1.17.3 in c:\\users\\toshiba\\anaconda3\\lib\\site-packages (from Pandas) (1.20.3)\n",
            "Requirement already satisfied: python-dateutil>=2.7.3 in c:\\users\\toshiba\\anaconda3\\lib\\site-packages (from Pandas) (2.8.2)\n",
            "Requirement already satisfied: six>=1.5 in c:\\users\\toshiba\\anaconda3\\lib\\site-packages (from python-dateutil>=2.7.3->Pandas) (1.16.0)\n",
            "Requirement already satisfied: seaborn in c:\\users\\toshiba\\anaconda3\\lib\\site-packages (0.11.2)\n",
            "Requirement already satisfied: pandas>=0.23 in c:\\users\\toshiba\\anaconda3\\lib\\site-packages (from seaborn) (1.3.4)\n",
            "Requirement already satisfied: numpy>=1.15 in c:\\users\\toshiba\\anaconda3\\lib\\site-packages (from seaborn) (1.20.3)\n",
            "Requirement already satisfied: matplotlib>=2.2 in c:\\users\\toshiba\\anaconda3\\lib\\site-packages (from seaborn) (3.4.3)\n",
            "Requirement already satisfied: scipy>=1.0 in c:\\users\\toshiba\\anaconda3\\lib\\site-packages (from seaborn) (1.7.1)\n",
            "Requirement already satisfied: pyparsing>=2.2.1 in c:\\users\\toshiba\\anaconda3\\lib\\site-packages (from matplotlib>=2.2->seaborn) (3.0.4)\n",
            "Requirement already satisfied: python-dateutil>=2.7 in c:\\users\\toshiba\\anaconda3\\lib\\site-packages (from matplotlib>=2.2->seaborn) (2.8.2)\n",
            "Requirement already satisfied: pillow>=6.2.0 in c:\\users\\toshiba\\anaconda3\\lib\\site-packages (from matplotlib>=2.2->seaborn) (8.4.0)\n",
            "Requirement already satisfied: kiwisolver>=1.0.1 in c:\\users\\toshiba\\anaconda3\\lib\\site-packages (from matplotlib>=2.2->seaborn) (1.3.1)\n",
            "Requirement already satisfied: cycler>=0.10 in c:\\users\\toshiba\\anaconda3\\lib\\site-packages (from matplotlib>=2.2->seaborn) (0.10.0)\n",
            "Requirement already satisfied: six in c:\\users\\toshiba\\anaconda3\\lib\\site-packages (from cycler>=0.10->matplotlib>=2.2->seaborn) (1.16.0)\n",
            "Requirement already satisfied: pytz>=2017.3 in c:\\users\\toshiba\\anaconda3\\lib\\site-packages (from pandas>=0.23->seaborn) (2021.3)\n",
            "Requirement already satisfied: matplotlib in c:\\users\\toshiba\\anaconda3\\lib\\site-packages (3.4.3)\n",
            "Requirement already satisfied: python-dateutil>=2.7 in c:\\users\\toshiba\\anaconda3\\lib\\site-packages (from matplotlib) (2.8.2)\n",
            "Requirement already satisfied: cycler>=0.10 in c:\\users\\toshiba\\anaconda3\\lib\\site-packages (from matplotlib) (0.10.0)\n",
            "Requirement already satisfied: pillow>=6.2.0 in c:\\users\\toshiba\\anaconda3\\lib\\site-packages (from matplotlib) (8.4.0)\n",
            "Requirement already satisfied: numpy>=1.16 in c:\\users\\toshiba\\anaconda3\\lib\\site-packages (from matplotlib) (1.20.3)\n",
            "Requirement already satisfied: kiwisolver>=1.0.1 in c:\\users\\toshiba\\anaconda3\\lib\\site-packages (from matplotlib) (1.3.1)\n",
            "Requirement already satisfied: pyparsing>=2.2.1 in c:\\users\\toshiba\\anaconda3\\lib\\site-packages (from matplotlib) (3.0.4)\n",
            "Requirement already satisfied: six in c:\\users\\toshiba\\anaconda3\\lib\\site-packages (from cycler>=0.10->matplotlib) (1.16.0)\n",
            "Requirement already satisfied: SciPy in c:\\users\\toshiba\\anaconda3\\lib\\site-packages (1.7.1)\n",
            "Requirement already satisfied: numpy<1.23.0,>=1.16.5 in c:\\users\\toshiba\\anaconda3\\lib\\site-packages (from SciPy) (1.20.3)\n",
            "Requirement already satisfied: scikit-learn in c:\\users\\toshiba\\anaconda3\\lib\\site-packages (0.24.2)\n",
            "Requirement already satisfied: threadpoolctl>=2.0.0 in c:\\users\\toshiba\\anaconda3\\lib\\site-packages (from scikit-learn) (2.2.0)\n",
            "Requirement already satisfied: joblib>=0.11 in c:\\users\\toshiba\\anaconda3\\lib\\site-packages (from scikit-learn) (1.1.0)\n",
            "Requirement already satisfied: numpy>=1.13.3 in c:\\users\\toshiba\\anaconda3\\lib\\site-packages (from scikit-learn) (1.20.3)\n",
            "Requirement already satisfied: scipy>=0.19.1 in c:\\users\\toshiba\\anaconda3\\lib\\site-packages (from scikit-learn) (1.7.1)\n"
          ]
        }
      ],
      "source": [
        "!pip install numpy\n",
        "!pip install Pandas\n",
        "!pip install seaborn\n",
        "!pip install matplotlib\n",
        "!pip install SciPy\n",
        "!pip install scikit-learn"
      ]
    },
    {
      "cell_type": "code",
      "execution_count": null,
      "id": "15f63a8a",
      "metadata": {
        "id": "15f63a8a"
      },
      "outputs": [],
      "source": [
        "import numpy as np"
      ]
    },
    {
      "cell_type": "code",
      "execution_count": null,
      "id": "c8e06e07",
      "metadata": {
        "id": "c8e06e07"
      },
      "outputs": [],
      "source": [
        "a=np.array([1,2,5,6,3,2])"
      ]
    },
    {
      "cell_type": "code",
      "execution_count": null,
      "id": "304d6c5a",
      "metadata": {
        "id": "304d6c5a",
        "outputId": "c87a890d-379e-42be-fb10-eedc156306fd"
      },
      "outputs": [
        {
          "data": {
            "text/plain": [
              "array([1, 2, 5, 6, 3, 2])"
            ]
          },
          "execution_count": 161,
          "metadata": {},
          "output_type": "execute_result"
        }
      ],
      "source": [
        "a"
      ]
    },
    {
      "cell_type": "code",
      "execution_count": null,
      "id": "e7e4ba68",
      "metadata": {
        "id": "e7e4ba68"
      },
      "outputs": [],
      "source": [
        "def sum(a,b):\n",
        "    return a+b"
      ]
    },
    {
      "cell_type": "code",
      "execution_count": null,
      "id": "1fcf723b",
      "metadata": {
        "id": "1fcf723b",
        "outputId": "7a1c6609-5a12-459f-aebb-07e151d4438d"
      },
      "outputs": [
        {
          "name": "stdout",
          "output_type": "stream",
          "text": [
            "더할 수 있는 것이 아닙니다.\n",
            "None\n",
            "5\n",
            "더할 수 있는 것이 아닙니다.\n",
            "None\n"
          ]
        }
      ],
      "source": [
        "def safe_sum(a,b):\n",
        "    if type(a) != type(b):\n",
        "        print(\"더할 수 있는 것이 아닙니다.\")\n",
        "        return\n",
        "    else:\n",
        "        result=sum(a,b)\n",
        "    return result\n",
        "\n",
        "print(safe_sum('a',1))\n",
        "print(safe_sum(1,4))\n",
        "print(safe_sum(10,10.4))"
      ]
    }
  ],
  "metadata": {
    "kernelspec": {
      "display_name": "Python 3 (ipykernel)",
      "language": "python",
      "name": "python3"
    },
    "language_info": {
      "codemirror_mode": {
        "name": "ipython",
        "version": 3
      },
      "file_extension": ".py",
      "mimetype": "text/x-python",
      "name": "python",
      "nbconvert_exporter": "python",
      "pygments_lexer": "ipython3",
      "version": "3.9.7"
    },
    "colab": {
      "provenance": [],
      "include_colab_link": true
    }
  },
  "nbformat": 4,
  "nbformat_minor": 5
}